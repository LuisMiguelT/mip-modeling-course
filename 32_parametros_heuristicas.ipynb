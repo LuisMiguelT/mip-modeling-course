{
 "cells": [
  {
   "cell_type": "markdown",
   "metadata": {},
   "source": [
    "# Cuaderno 32: Parámetros asociados a heurísticas\n",
    "\n",
    "$\\newcommand{\\card}[1]{\\left| #1 \\right|}$\n",
    "$\\newcommand{\\tabulatedset}[1]{\\left\\{ #1 \\right\\}}$\n",
    "$\\newcommand{\\ZZ}{\\mathbb{Z}}$\n",
    "$\\newcommand{\\RR}{\\mathbb{R}}$\n",
    "\n",
    "En este cuaderno revisitaremos la formulación basada en desigualdades de corte para el problema del agente viajero asimétrico y exploraremos cómo los parámetros de configuración del solver Gurobi relacionados con la aplicación de heurísticas primales pueden ser usados para mejorar el desempeño del método de branch-and-cut.\n",
    "\n",
    "Dados: \n",
    "* un grafo dirigido **completo** $D=(V,A)$, con $V=\\{1, \\ldots, n\\}$; y,\n",
    "* un vector $c \\in \\ZZ^{A}$ de costos asociados a los arcos de $D$.\n",
    "\n",
    "El *problema del agente viajero asimétrico (Asymmetric Traveling Salesman Problem, ATSP)* consiste en encontrar un circuito dirigido que visite **todos** los nodos de $D$ y que tenga el menor costo posible.\n",
    "\n",
    "En el Cuaderno 15 presentamos la siguiente formulación para el ATSP, basada en desigualdades de corte:\n",
    "\n",
    "\\begin{align*} \n",
    "\\min &\\sum_{(i,j) \\in A} c_{ij} x_{ij}\\\\ \n",
    "& \\mbox{s.r.}\\\\\n",
    "&\\sum_{(j, i) \\in A} x_{ji} = 1, \\quad \\forall i \\in V,\\\\\n",
    "&\\sum_{(i, j) \\in A} x_{ij} = 1, \\quad \\forall i \\in V,\\\\ \n",
    "&\\sum_{(i,j) \\in \\delta^{-}(W)} x_{ij} \\geq 1, \\quad \\forall W \\subset V, \\emptyset \\neq W \\neq V,\\\\\n",
    "& x_{ij} \\in \\{0, 1\\}, \\quad \\forall (i, j) \\in A.\n",
    "\\end{align*}\n",
    "\n",
    "La función objetivo mide el costo total de los arcos seleccionados en el tour.\n",
    "\n",
    "Las dos primeras familias de restricciones corresponden a las restricciones de grado de los nodos.\n",
    "\n",
    "La tercera familia incluye las restricciones de corte para eliminación de subtoures. Esta familia contiene un número exponencial de desigualdades, que deben implementarse como restricciones tipo lazy.\n",
    "\n",
    "Se conoce que esta formulación del problema está asociada a cotas duales ajustadas. Por otra parte, para instancias grandes, se torna difícil encontrar buenas soluciones factibles, por lo que resulta natural ajustar los parámetros del solver para intensificar la aplicación de heurísticas primales.\n"
   ]
  },
  {
   "cell_type": "markdown",
   "metadata": {},
   "source": [
    "Definimos primero los datos. Usaremos la función `randint` para generar puntos con coordenadas aleatorias en el rango {0,..,100}. El costo de un arco $(i,j)$ será igual a la distancia euclideana entre $i$ y $j$:"
   ]
  },
  {
   "cell_type": "code",
   "execution_count": null,
   "metadata": {},
   "outputs": [],
   "source": [
    "import gurobipy as gp\n",
    "from gurobipy import GRB\n",
    "import random as rm\n",
    "import math \n",
    "\n",
    "# Número de nodos del grafo\n",
    "n = 200\n",
    "\n",
    "# Nodos del grafo\n",
    "V = gp.tuplelist(range(1,n+1))\n",
    "\n",
    "# Nodos sin el primero\n",
    "V2 = V[1:]\n",
    "\n",
    "# Posiciones de los nodos en un plano euclideano entre (0,0) y (100, 100)\n",
    "coordx={i : rm.randint(0,100) for i in V}\n",
    "coordy={i : rm.randint(0,100) for i in V}\n",
    "\n",
    "# los costos son las distancias eculideanas\n",
    "c = gp.tupledict({\n",
    "    (i,j) : math.sqrt((coordx[i] - coordx[j])**2 + (coordy[i] - coordy[j])**2)\n",
    "    for i in V for j in V if i!=j\n",
    "})\n",
    " \n",
    "A = c.keys()\n"
   ]
  },
  {
   "cell_type": "markdown",
   "metadata": {},
   "source": [
    "Emplearemos el módulo `matplotlib` para graficar el tour de la solución. Definiremos para ello la función `dibujarTour` que recibe tres argumentos: una lista `coordx` con las coordenadas horizontales de los nodos, una lista `coordy` con las coordenadas verticales y un vector `tour` con una permutación de los nodos indicando el orden de visita en la solución."
   ]
  },
  {
   "cell_type": "code",
   "execution_count": null,
   "metadata": {},
   "outputs": [],
   "source": [
    "import matplotlib.pyplot as plt\n",
    "import random\n",
    "\n",
    "def dibujarTour(coordx, coordy, tour):\n",
    "    Tx = [coordx[i] for i in tour]\n",
    "    Ty = [coordy[i] for i in tour]\n",
    "    plt.plot(Tx[:-1], Ty[:-1], 'ro')\n",
    "    for i in range(len(tour)-1):\n",
    "        s='{}'.format(tour[i])\n",
    "        plt.text(Tx[i],Ty[i]+1,s)\n",
    "        plt.arrow(Tx[i], Ty[i], Tx[i+1]-Tx[i], Ty[i+1]-Ty[i], color='blue', \n",
    "                  length_includes_head=True, width=0.1, head_width=2)\n",
    "    display(plt.show())\n"
   ]
  },
  {
   "cell_type": "markdown",
   "metadata": {},
   "source": [
    "Definimos ahora el objeto modelo, las variables, la función objetivo y las restricciones de grado. Adicionalmente, creamos propiedades en el objeto modelo para tener acceso a la lista de nodos, lista de arcos y diccionario de variables desde la función callback que implementaremos para la separación de las restricciones de corte."
   ]
  },
  {
   "cell_type": "code",
   "execution_count": null,
   "metadata": {},
   "outputs": [],
   "source": [
    "# Crear el objeto modelo\n",
    "m = gp.Model('atsp-corte-lazy')\n",
    "\n",
    "# Crear las variables\n",
    "x = m.addVars(A, name=\"x\", vtype=GRB.BINARY)\n",
    "\n",
    "# Crear la función objetivo\n",
    "m.setObjective(x.prod(c,'*'), GRB.MINIMIZE)\n",
    "\n",
    "# Restricciones de grado saliente\n",
    "m.addConstrs((x.sum(i,'*') == 1 for i in V), \"g_saliente\");\n",
    "\n",
    "# Restricciones de grado entrante\n",
    "m.addConstrs((x.sum('*', i) == 1 for i in V), \"g_entrante\");\n",
    "\n",
    "# Crear variables en el objeto modelo para tener acceso a x, V y A\n",
    "m._x = x\n",
    "m._V = V\n",
    "m._A = A"
   ]
  },
  {
   "cell_type": "markdown",
   "metadata": {},
   "source": [
    "Definimos la función `corte_sal_minimo` que calcula el corte saliente de capacidad mínima en un grafo dirigido. Esta función será utilizada por el callback para resolver el problema de separación con soluciones fraccionarias."
   ]
  },
  {
   "cell_type": "code",
   "execution_count": null,
   "metadata": {},
   "outputs": [],
   "source": [
    "import networkx as nx\n",
    "\n",
    "# corte saliente de capacidad minima\n",
    "def corte_sal_minimo(V, u):\n",
    "    # Parametros:\n",
    "    # V: lista con los nodos del grafo\n",
    "    # u: diccionario indexado por los arcos del grafo, con sus capacidades\n",
    "    # se fija un nodo s arbitrario\n",
    "    s = V[0]\n",
    "    V2 = [i for i in V if i!=s]\n",
    "    G = nx.DiGraph()\n",
    "    G.add_weighted_edges_from([(i, j, u[i,j]) for (i,j) in u.keys()], weight='u')\n",
    "    # inicializar dmin con la suma de capacidades de todos los arcos\n",
    "    dmin = sum([u[i,j] for (i, j) in u.keys()])\n",
    "    hay_solucion = False\n",
    "    # se calculan los cortes minimos (s, t) y (t, s) para todo t != s\n",
    "    for t in V2: \n",
    "        d1, (W1, W1c) = nx.minimum_cut(G, s, t, capacity='u')\n",
    "        d2, (W2, W2c) = nx.minimum_cut(G, t, s, capacity='u')\n",
    "        if d1 < d2 and d1 < dmin:\n",
    "            dmin, Wmin, Wminc = d1, W1, W1c\n",
    "            hay_solucion = True\n",
    "        elif d2 <= d1 and d2 < dmin:\n",
    "            dmin, Wmin, Wminc = d2, W2, W2c\n",
    "            hay_solucion = True\n",
    "    if  not hay_solucion:\n",
    "        print('*** Error:')\n",
    "        print(V)\n",
    "        for (i,j) in [(i, j) for (i, j) in u.keys() if i==1]:\n",
    "            print([(1,j), u[1,j]])\n",
    "    return dmin, Wmin, Wminc\n"
   ]
  },
  {
   "cell_type": "markdown",
   "metadata": {},
   "source": [
    "Finalmente, implementamos la función callback para separar las restricciones de corte a partir de soluciones enteras (`where==MIPSOL`) o de soluciones fraccionarias (`where==MIPNODE`)."
   ]
  },
  {
   "cell_type": "code",
   "execution_count": null,
   "metadata": {},
   "outputs": [],
   "source": [
    "# Función callback para separar desigualdades de corte\n",
    "def mycallback(model, where):\n",
    "    # Esta función se activará cuando se encuentre una \n",
    "    # nueva solución entera\n",
    "    if where == GRB.Callback.MIPSOL:\n",
    "        # Recuperar los valores de la solucion actual\n",
    "        vx = model.cbGetSolution(model._x)\n",
    "        # Determinar los arcos seleccionados en la solucion\n",
    "        L = gp.tuplelist([(i,j) for (i,j) in model._A if vx[i,j]>0.1])\n",
    "        # Construir la lista W de nodos que pueden ser alcanzados desde 1\n",
    "        W = [1]\n",
    "        i = 1\n",
    "        while True :\n",
    "            # seleccionar el único arco saliente de i en L\n",
    "            a = L.select(i,'*')[0]\n",
    "            L.remove(a)\n",
    "            if a[1]==1: \n",
    "                break\n",
    "            W.append(a[1])\n",
    "            i = a[1]\n",
    "        # Si W!=V, agregar la desigualdad de corte asociada a W\n",
    "        if len(W)!=len(model._V):\n",
    "            Wc = [i for i in model._V if i not in W]\n",
    "            model.cbLazy(model._x.sum(W, Wc) >= 1)\n",
    "    # Esta funcion se activará cuando se encuentre \n",
    "    # la nueva solución optima en un nodo\n",
    "    elif where == GRB.Callback.MIPNODE:\n",
    "        if model.cbGet(GRB.Callback.MIPNODE_STATUS) == GRB.OPTIMAL:\n",
    "            # Recuperar los valores de la solucion (fraccionaria) actual\n",
    "            vx = model.cbGetNodeRel(model._x)\n",
    "            # encontrar el corte saliente de capacidad minima\n",
    "            u, W, Wc = corte_sal_minimo(model._V, vx)\n",
    "            # Si la capacidad de este corte es inferior a 1, agregar nueva desigualdad lazy\n",
    "            if u <= 0.99:\n",
    "                model.cbLazy(model._x.sum(W, Wc) >= 1)\n"
   ]
  },
  {
   "cell_type": "markdown",
   "metadata": {},
   "source": [
    "Establecemos un tiempo límite para la solución del modelo y una tolerancia para la brecha de optimalidad. Adicionalmente, indicamos a Gurobi que estamos utilizando un modelo con restricciones lazy."
   ]
  },
  {
   "cell_type": "code",
   "execution_count": null,
   "metadata": {},
   "outputs": [],
   "source": [
    "# Terminar al alcanzar un Gap del 1%\n",
    "m.Params.MIPGap = 0.01\n",
    "\n",
    "# Terminar luego de 180 segundos\n",
    "m.Params.TimeLimit = 180\n",
    "\n",
    "# Configurar Gurobi para usar restricciones lazy\n",
    "m.Params.LazyConstraints = 1"
   ]
  },
  {
   "cell_type": "markdown",
   "metadata": {},
   "source": [
    "Construimos una solución inicial con la heurística de mejor inserción examinada en el Cuaderno 29:"
   ]
  },
  {
   "cell_type": "code",
   "execution_count": null,
   "metadata": {},
   "outputs": [],
   "source": [
    "# Heurística de mejor insercion (best-insertion)\n",
    "# construir una lista T con el orden de visita de los nodos en el tour\n",
    "# Tour inicial:\n",
    "T = [1, 2, 1]\n",
    "# Nodos por procesar:\n",
    "W = [i for i in V if not i in [1,2]]\n",
    "# Constante suficientemente alta\n",
    "# Repetir mientras W contenga nodos\n",
    "while W!=[]:\n",
    "    # construir una lista L con tuplas (c_i, j_i, i) donde:\n",
    "    # c_i : mejor costo de insercion de i en el tour T\n",
    "    # j_i : mejor posicion de insercion de i en el tour T, 1 <= j_i <= |T|-1\n",
    "    L = []\n",
    "    for i in W:\n",
    "        # construimos primero una lista L_i con tuplas (c_ik, k)\n",
    "        # c_ik: costo de insertar i en la posicion k\n",
    "        Li = [(c[T[k-1],i] + c[i, T[k]] - c[T[k-1], T[k]], k) for k in range(1, len(T)-1)]\n",
    "        # agregamos el elemento de Li de costo minimo a L\n",
    "        # recordar que para ordenar tuplas se emplear por defecto el criterio lexicográfico\n",
    "        ci, ji = min(Li)\n",
    "        L.append((ci, ji, i))\n",
    "    # determinar el elemento de insercion mas barata, y su posicion\n",
    "    (delta, j, i) = min(L)\n",
    "    # insertar i en T en la posicion j\n",
    "    T.insert(j, i)\n",
    "    # eliminar i de W\n",
    "    W.remove(i)\n",
    "\n",
    "print(T)\n",
    "print(sum([c[T[i],T[i+1]] for i in range(0, len(T)-1)]))\n",
    "       "
   ]
  },
  {
   "cell_type": "markdown",
   "metadata": {},
   "source": [
    "Mejoramos la solución anterior con una heurística 3-OPT descrita en el Cuaderno 29:"
   ]
  },
  {
   "cell_type": "code",
   "execution_count": null,
   "metadata": {},
   "outputs": [],
   "source": [
    "# Mejorar T usando 3-OPT\n",
    "# este lazo se repite mientras se encuentren mejoras\n",
    "hay_mejoras = True\n",
    "while hay_mejoras:\n",
    "    hay_mejoras = False\n",
    "    print('*')\n",
    "    for k1 in range(1, len(T)-5):\n",
    "        for k2 in range(k1+2, len(T)-3):\n",
    "            for k3 in range(k2+2, len(T)-1):\n",
    "                # determinar variacion del costo al ejecutar el intercambio:\n",
    "                delta = c[T[k1], T[k2+1]] + c[T[k2], T[k3+1]] + c[T[k3], T[k1+1]] \\\n",
    "                      - c[T[k1], T[k1+1]] - c[T[k2], T[k2+1]] - c[T[k3], T[k3+1]]\n",
    "                # si la variacion es negativa, realizar el intercambio\n",
    "                if delta < -0.01:\n",
    "                    T = T[0:k1+1] + T[k2+1:k3+1] + T[k1+1:k2+1] + T[k3+1:len(T)]\n",
    "                    hay_mejoras = True\n",
    "            \n",
    "print (T)\n",
    "print(sum([c[T[i],T[i+1]] for i in range(0, len(T)-1)]))\n"
   ]
  },
  {
   "cell_type": "markdown",
   "metadata": {},
   "source": [
    "Agregamos la solución inicial al modelo:"
   ]
  },
  {
   "cell_type": "code",
   "execution_count": null,
   "metadata": {},
   "outputs": [],
   "source": [
    "# originalmente, fijamos el valor de inicio de todas las variables a cero:\n",
    "for i,j in A:\n",
    "    x[i,j].setAttr('Start', 0.0)\n",
    "\n",
    "# luego  fijar a 1 las variables asociadas a los arcos del tour T\n",
    "for k in range(1, len(T)):\n",
    "    x[T[k-1], T[k]].setAttr('Start', 1.0)\n",
    "\n",
    "# es necesario llamar a update() luego de cambiar los atributos de variables, de restricciones o del modelo\n",
    "m.update()"
   ]
  },
  {
   "cell_type": "markdown",
   "metadata": {},
   "source": [
    "Finalmente, resolvemos el modelo."
   ]
  },
  {
   "cell_type": "code",
   "execution_count": null,
   "metadata": {},
   "outputs": [],
   "source": [
    "# Resolver el modelo\n",
    "m.optimize(mycallback)\n"
   ]
  },
  {
   "cell_type": "markdown",
   "metadata": {},
   "source": [
    "## Parámetros de Gurobi\n",
    "\n",
    "Como se indicó en el Cuaderno 28, el comportamiento de los algoritmos de solución implementados en Gurobi puede ser controlado a través de distintos *parámetros*. Examinaremos a continuación algunos parámetros que controlan la aplicación de las heurísticas primales dentro del método de branch-and-cut.\n",
    "\n",
    "\n",
    "### MIPFocus\n",
    "\n",
    "Recordemos que el parámetro [`MIPFocus`](https://www.gurobi.com/documentation/10.0/refman/mipfocus.html) controla estrategia general de solución del método de branch-and-bound, entre otras cosas a través del balance entre el tiempo dedicado a la generación de cortes y a las heurísticas primales. Por defecto, este parámetro tiene el valor de 0, y puede recibir valores enteros entre 0 y 3.\n",
    "\n",
    "Asignando un valor de `MIPFocus = 1` se intensifica la búsqueda de soluciones factibles."
   ]
  },
  {
   "cell_type": "code",
   "execution_count": null,
   "metadata": {},
   "outputs": [],
   "source": [
    "# Eliminar información de solución anterior\n",
    "m.reset()\n",
    "\n",
    "# Enfocar estrategia en mejoramiento de la cota dual\n",
    "m.Params.MIPFocus = 1\n",
    "\n",
    "# Resolver el modelo\n",
    "m.optimize(mycallback)"
   ]
  },
  {
   "cell_type": "markdown",
   "metadata": {},
   "source": [
    "### Heuristics\n",
    "\n",
    "El parámetro [`Heuristics`](https://www.gurobi.com/documentation/10.0/refman/heuristics.html) indica el porcentaje del tiempo de cálculo que Gurobi debería emplear en la ejecución de heurísticas primales. Este parámetro puede tomar valores decimales entre 0 y 1. El valor por defecto es 0.05 (5% del tiempo de cálculo dedicado a heurísticas)."
   ]
  },
  {
   "cell_type": "code",
   "execution_count": null,
   "metadata": {},
   "outputs": [],
   "source": [
    "# Descartar información de solución anterior\n",
    "m.reset()\n",
    "\n",
    "# Fijar el uso de heurísticas en el 20%\n",
    "m.Params.Heuristics = 0.2\n",
    "\n",
    "# Resolver el modelo\n",
    "m.optimize(mycallback)"
   ]
  },
  {
   "cell_type": "markdown",
   "metadata": {},
   "source": [
    "### NoRelHeurTime\n",
    "\n",
    "La heurística `NoRel` intenta encontrar soluciones factibles de alta calidad *antes* de empezar a resolver la relajación lineal del modelo. Esta heurística se puede utilizar para proporcionar una buena solución inicial al modelo.\n",
    "\n",
    "El parámetro [`NoRelHeurTime`](https://www.gurobi.com/documentation/10.0/refman/norelheurtime.html) controla el tiempo (en segundos) que Gurobi puede dedicar a la ejecución de la heurística `NoRel`. Este parámetro puede tomar valores decimales no negativos. El valor por defecto es 0 (heurística `NoRel` desactivada)."
   ]
  },
  {
   "cell_type": "code",
   "execution_count": null,
   "metadata": {},
   "outputs": [],
   "source": [
    "# Restaurar el parámetro Heuristics al valor por defecto\n",
    "m.Params.Heuristics = 0.05\n",
    "\n",
    "# Correr la heurística NoRel durante 150s\n",
    "m.Params.NoRelHeurTime = 150\n",
    "\n",
    "# Descartar información de solución anterior\n",
    "m.reset()\n",
    "\n",
    "# Resolver el modelo\n",
    "m.optimize(mycallback)"
   ]
  },
  {
   "cell_type": "markdown",
   "metadata": {},
   "source": [
    "### NoRelHeurWork\n",
    "\n",
    "El uso de la heurística `NoRel` a través del parámetro `NoRelHeurTime` introduce aleatoriedad en la solución del modelo. Si se desea mantener un comportamiento determinístico, es mejor usar al parámetro [`NoRelHeurWork`](https://www.gurobi.com/documentation/10.0/refman/norelheurwork.html) en su lugar. Este parámetro indica la cantidad de trabajo dedicada a la heurística `NoRel` (cada unidad de trabajo corresponde aproximadamente a un segundo de cálculo, pero esto puede variar de acuerdo a la máquina, el número de núcleos y en algunos casos incluso el modelo). El parámetro puede tomar valores decimales no negativos. El valor por defecto es 0 (heurística `NoRel` desactivada)."
   ]
  },
  {
   "cell_type": "code",
   "execution_count": null,
   "metadata": {},
   "outputs": [],
   "source": [
    "# Regresar NoRelHeurTime a su valor por defecto\n",
    "m.Params.NoRelHeurTime = 0\n",
    "\n",
    "# Fijar 20 unidades de trabajo para heurística NoRel\n",
    "m.Params.NoRelHeurWork = 20\n",
    "\n",
    "# Descartar información de solución anterior\n",
    "m.reset()\n",
    "\n",
    "# Resolver el modelo\n",
    "m.optimize(mycallback)"
   ]
  },
  {
   "cell_type": "markdown",
   "metadata": {},
   "source": [
    "### ImproveStartTime, ImproveStartNodes e ImproveStartGap\n",
    "\n",
    "Es posible indicar a Gurobi que, a partir de un cierto momento, cambie la estrategia de búsqueda para abandonar el mejoramiento de la cota y concentrar todos los esfuerzos en la generación de soluciones factibles de mejor calidad.\n",
    "\n",
    "Los parámetros `ImproveStartTime`, `ImproveStartNodes` e `ImproveStartGap` permiten especificar tres criterios distintos para indicar cuándo debe ocurrir este cambio de estrategia.\n",
    "\n",
    "El parámetro [`ImproveStartTime`](https://www.gurobi.com/documentation/10.0/refman/improvestarttime.html) se emplea para indicar que el cambio de estrategia deberá ocurrir una vez transcurrida la cantidad de segundos especificada. Este parámetro puede tomar valores decimales no negativos. El valor por defecto es infinito.\n",
    "\n",
    "El parámetro [`ImproveStartNodes`](https://www.gurobi.com/documentation/10.0/refman/improvestartnodes.html) se emplea para indicar que el cambio de estrategia deberá ocurrir una vez que se hayan explorado la cantidad especificada de nodos del árbol de branch-and-cut. Este parámetro puede tomar valores decimales no negativos. El valor por defecto es infinito.\n",
    "\n",
    "El parámetro [`ImproveStartGap`](https://www.gurobi.com/documentation/10.0/refman/improvestartgap.html) se emplea para indicar que el cambio de estrategia deberá ocurrir una vez que se alcance la brecha de optimalidad especificada. Este parámetro puede tomar valores decimales no negativos. El valor por defecto es cero.\n"
   ]
  },
  {
   "cell_type": "code",
   "execution_count": null,
   "metadata": {},
   "outputs": [],
   "source": [
    "# Regresar NoRelHeurWork a su valor por defecto\n",
    "m.Params.NoRelHeurWork = 0\n",
    "m.Params.NoRelHeurTime = 0\n",
    "\n",
    "# Especificar cambio a modo de búsqueda a los 30s\n",
    "m.Params.ImproveStartTime = 30\n",
    "\n",
    "# Fijar el tiempo límite en 60 segundos\n",
    "m.Params.TimeLimit = 60\n",
    "\n",
    "# Descartar información de solución anterior\n",
    "m.reset()\n",
    "\n",
    "# Resolver el modelo\n",
    "m.optimize(mycallback)"
   ]
  },
  {
   "cell_type": "markdown",
   "metadata": {},
   "source": [
    "Es posible combinar varios parámetros para intentar estrategias mixtas. Por ejemplo, podemos correr la heurística `NoRel` durante 100 segundos, luego optimizar en la forma usual durante 50 segundos y finalmente cambiar al modo de mejoramiento de soluciones en el tiempo restante:"
   ]
  },
  {
   "cell_type": "code",
   "execution_count": null,
   "metadata": {
    "scrolled": true
   },
   "outputs": [],
   "source": [
    "# Fijar el tiempo lḿite en 180 segundos\n",
    "m.Params.TimeLimit = 180 \n",
    "\n",
    "# Correr heurística NoRel por 100 segundos\n",
    "m.Params.NoRelHeurTime = 100 \n",
    "\n",
    "# Especificar cambio a modo de búsqueda a los 150s\n",
    "m.Params.ImproveStartTime = 50\n",
    "\n",
    "# Descartar información de solución anterior\n",
    "m.reset()\n",
    "\n",
    "# Resolver el modelo\n",
    "m.optimize(mycallback)"
   ]
  },
  {
   "cell_type": "markdown",
   "metadata": {},
   "source": [
    "Finalmente, podemos graficar la solución encontrada:"
   ]
  },
  {
   "cell_type": "code",
   "execution_count": null,
   "metadata": {},
   "outputs": [],
   "source": [
    "# Crear lista con arcos seleccionados en la solucion\n",
    "vx = m.getAttr('x', x)\n",
    "L = gp.tuplelist([(i,j) for i,j in A if vx[i,j]>0.1])\n",
    "\n",
    "# Recuperar el tour como un ordenamiento de los nodos\n",
    "T = [1]\n",
    "# nodo actual:\n",
    "i = 1\n",
    "while True:\n",
    "    # Determinar sucesor de i\n",
    "    a = L.select(i,'*')[0]\n",
    "    L.remove(a)\n",
    "    # Colocar sucesor en la lista del tour y actualizar i\n",
    "    T.append(a[1])\n",
    "    i = a[1]\n",
    "    # Terminar cuando el nodo colocado sea 1\n",
    "    if i==1: \n",
    "        break;\n",
    "        \n",
    "# Graficar el tour\n",
    "dibujarTour(coordx, coordy, T)    "
   ]
  },
  {
   "cell_type": "code",
   "execution_count": null,
   "metadata": {},
   "outputs": [],
   "source": []
  }
 ],
 "metadata": {
  "kernelspec": {
   "display_name": "Python 3 (ipykernel)",
   "language": "python",
   "name": "python3"
  },
  "language_info": {
   "codemirror_mode": {
    "name": "ipython",
    "version": 3
   },
   "file_extension": ".py",
   "mimetype": "text/x-python",
   "name": "python",
   "nbconvert_exporter": "python",
   "pygments_lexer": "ipython3",
   "version": "3.9.6"
  }
 },
 "nbformat": 4,
 "nbformat_minor": 2
}
