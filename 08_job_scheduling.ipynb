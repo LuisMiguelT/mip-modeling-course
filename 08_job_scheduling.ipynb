{
 "cells": [
  {
   "cell_type": "markdown",
   "metadata": {},
   "source": [
    "# Cuaderno 8: Calendarización de trabajos (job scheduling)\n",
    "\n",
    "$\\newcommand{\\card}[1]{\\left| #1 \\right|}$\n",
    "$\\newcommand{\\tabulatedset}[1]{\\left\\{ #1 \\right\\}}$\n",
    "\n",
    "Los problemas de calendarización de trabajos (*job scheduling*) consisten en determinar el orden óptimo en el que deben ejecutarse ciertas tareas o trabajos, en una o más máquinas, para optimizar un proceso productivo.\n",
    "\n",
    "Suponer que se tiene dado un conjunto de $n$ trabajos de confección $J:= \\tabulatedset{1, \\ldots, n}$, los cuales  deben ser procesados secuencialmente en una máquina hiladora. La máquina contiene un carrete en el cual pueden ser cargados simultáneamente $B$ hilos de diferentes colores, seleccionados de un conjunto $H$ de hilos disponibles. Cada trabajo $j \\in J$  requiere para su ejecución de un subconjunto $H_j \\subset H$ de hilos. Para que $j$\n",
    "pueda ser procesado, todos los hilos de $H_j$ deben estar cargados en el carrete. Si esto no ocurre, la máquina debe ser detenida para cargar los hilos que hagan falta y, de ser necesario, descargar hilos que no sean requeridos con la finalidad de liberar espacio en el carrete. Asumimos que $\\card{H_j} \\leq B, \\forall j \\in J$.\n",
    "\n",
    "Se desea determinar el orden en el que los trabajos deben ser procesados para minimizar el número de paradas requeridas de la máquina. Para especificar el ordenamiento, se asignará a cada trabajo $j \\in J$ un turno $t \\in T$, con $T:= \\tabulatedset{1, \\ldots, n}$. \n",
    "\n",
    "Emplearemos las siguientes variables de decisión binarias: \n",
    "\n",
    "* $x_{jt}$, $j \\in J$, $t \\in T$, que indican si el trabajo $j$ es procesado en el turno $t$;\n",
    "* $y_{ht}$, $h \\in H$, $t \\in T$, que determinan si el hilo $h \\in H$ está cargado en la máquina durante el turno $t$; \n",
    "* $z_t$, $t \\in T, \\, t \\geq 2$, que registran si es necesario parar la máquina entre los turnos $t-1$ y $t$.\n",
    "\n",
    "Los valores de $z_t$ se determinan a partir de los valores de $y_{ht}$ como se indica a continuación. Notar que la expresión es $\\card{y_{ht} - y_{h,t-1}}$ es igual a 1 si y sólo si el hilo $h$ entra o sale del carrete de la máquina entre los turnos $t-1$ y $t$. Además, definiendo:\n",
    "\\begin{align*}\n",
    "w_{ht} \\in & \\{0, 1 \\} \\, : \\\\\n",
    "& w_{ht} \\geq y_{ht} - y_{h,t-1}, \\\\\n",
    "& w_{ht} \\geq y_{h,t-1} - y_{ht},\n",
    "\\end{align*}\n",
    "tenemos que $w_{ht} \\geq \\card{y_{ht} - y_{h,t-1}}$. Notar que $\\sum_{h \\in H} w_{ht}$ es forzosamente mayor que cero si *por lo menos un* hilo entra o sale del carrete entre los turnos $t-1$ y $t$, es decir, si es necesario parar la máquina entre estos turnos. Por lo tanto, si tomamos $z_{t} \\in \\{0, 1 \\}$, con $z_t \\geq \\frac{\\sum_{h \\in H} w_{ht}}{\\card{H}}$, se tiene que $z_t$ debe valer $1$ si es necesario detener la máquina entre los turnos $t-1$ y $t$ para cambiar algún hilo.\n",
    "\n",
    "Empleando estas ideas, el problema de calendarización de trabajos descrito arriba puede ser formulado como el siguiente modelo de programación lineal entera.  \n",
    "\n",
    "\\begin{align*}\n",
    "\\min &\\sum_{t \\in T \\setminus \\{1\\}} z_t\\\\ \n",
    "& \\mbox{s.r.}\\\\\n",
    "&\\sum_{j \\in J} x_{jt} = 1, \\quad \\forall t \\in T, \\\\\n",
    "&\\sum_{t \\in T} x_{jt} = 1, \\quad \\forall j \\in J, \\\\\n",
    "&\\sum_{h \\in H} y_{ht} \\leq B, \\quad \\forall t \\in T, \\\\\n",
    "& x_{jt} \\leq y_{ht}, \\quad \\forall h \\in H_j, \\, j \\in J, \\, t \\in T,\\\\\n",
    "& w_{ht} \\geq y_{ht} - y_{h, t-1}, \\quad, \\forall h \\in H, t \\in T \\setminus \\{1\\},\\\\\n",
    "& w_{ht} \\geq y_{h, t-1} - y_{ht}, \\quad, \\forall h \\in H, t \\in T \\setminus \\{1\\},\\\\\n",
    "& \\sum_{h \\in H} w_{ht} \\leq \\card{H} z_t, \\forall t \\in T \\setminus \\{1\\},\\\\\n",
    "& x_{jt}, y_{ht} \\in \\{0, 1\\}, \\quad \\forall j \\in J, h \\in H, t \\in T,\\\\\n",
    "& w_{ht}, z_t \\in \\{0, 1\\}, \\quad \\forall h \\in H, t \\in T \\setminus \\{1\\}.\n",
    "\\end{align*}\n",
    "\n",
    "La función objetivo mide la cantidad de turnos $t \\in T \\setminus \\{1\\}$ para los cuales $z_t=1$. De lo expuesto arriba, forzosamente esta cantidad es, por lo menos, la cantidad de paradas de la máquina dentro de la solución. Por otra parte, como se trata de un problema de minimización, puede demostrarse que, en toda solución óptima, el valor de la función objetivo coincide con el número de paradas de la máquina.\n",
    "\n",
    "Las dos primeras familias de restricciones son restricciones de asignación entre los trabajos y los turnos: cada trabajo debe ser asignado a un turno, y cada turno debe tener un trabajo asignado.\n",
    "\n",
    "La tercera familia de restricciones indica que, en cada turno, la cantidad de hilos cargados en el carrete no puede exceder su capacidad.\n",
    "\n",
    "La cuarta familia de restricciones establece que, para que un trabajo sea procesado, todos los hilos requeridos por el mismo deben estar cargados.\n",
    "\n",
    "Las últimas tres familias de restricciones ajustan el valor de $z_t$ como se explicó arriba, con la finalidad de que $z_t = 1$ cada vez que es necesario parar la máquina entre los turnos $t-1$ y $t$.\n",
    "\n",
    "\n",
    "Vamos a implementar este modelo usando la interfaz Python de Gurobi.\n"
   ]
  },
  {
   "cell_type": "markdown",
   "metadata": {},
   "source": [
    "Definimos primero los conjuntos $J$, $H$, $T$; y los parámetros $H_j$ y $B$:"
   ]
  },
  {
   "cell_type": "code",
   "execution_count": null,
   "metadata": {},
   "outputs": [],
   "source": [
    "import gurobipy as gp\n",
    "from gurobipy import GRB\n",
    "\n",
    "# Conjuntos y parámetros del modelo\n",
    "# Familia HH de conjuntos de hilos requeridos por cada trabajo\n",
    "HH = gp.tupledict({1 : {2, 3, 5},\n",
    "                2 : {1, 3, 4},\n",
    "                3 : {1, 4, 5},\n",
    "                4 : {1, 3},\n",
    "                5 : {1, 2, 4},\n",
    "                6 : {1, 4, 5},\n",
    "                7 : {3, 5}})\n",
    "\n",
    "# Cantidad de hilos que pueden estar en el carrete\n",
    "B = 3\n",
    "\n",
    "# ---- a partir de aquí, los parametros se calculan en base a los anteriores ----\n",
    "\n",
    "# Conjunto de trabajos\n",
    "J = gp.tuplelist(HH.keys())\n",
    "\n",
    "# Conjunto de turnos T y de turnos sin el primero\n",
    "T = J.copy()\n",
    "T2 = [i for i in T if i!=1]\n",
    "\n",
    "# Conjunto de todos los hilos, calculado como la unión de Hj para j in J\n",
    "H = set()\n",
    "for j in J:\n",
    "    H = H | HH[j]\n",
    "\n",
    "print(\"H = {}\".format(H))\n",
    "print(\"J = {}\".format(J))\n",
    "print(\"T = {}\".format(T))\n",
    "print(\"HH = {}\".format(HH))\n"
   ]
  },
  {
   "cell_type": "markdown",
   "metadata": {},
   "source": [
    "Definimos ahora el objeto modelo y las variables del modelo:"
   ]
  },
  {
   "cell_type": "code",
   "execution_count": null,
   "metadata": {},
   "outputs": [],
   "source": [
    "m = gp.Model('job-scheduling')\n",
    "\n",
    "# Asignación turnos a trabajos\n",
    "x = m.addVars(J, T, vtype = GRB.BINARY, name=\"x\")\n",
    "\n",
    "# Estado de hilos en el carrete\n",
    "y = m.addVars(H, T, vtype = GRB.BINARY, name=\"y\")\n",
    "\n",
    "# Paradas de la máquina\n",
    "z = m.addVars(T2, vtype = GRB.BINARY, name=\"z\")\n",
    "\n",
    "# Auxiliar: cambio de los hilos en el carrete\n",
    "w = m.addVars(H, T2, vtype = GRB.BINARY, name=\"w\")"
   ]
  },
  {
   "cell_type": "markdown",
   "metadata": {},
   "source": [
    "Definimos la función objetivo:"
   ]
  },
  {
   "cell_type": "code",
   "execution_count": null,
   "metadata": {},
   "outputs": [],
   "source": [
    "# minimizar paradas de la máquina\n",
    "m.setObjective(z.sum('*'), GRB.MINIMIZE)"
   ]
  },
  {
   "cell_type": "markdown",
   "metadata": {},
   "source": [
    "Finalmente, implementamos las restricciones del modelo. El método `addConstrs` nos permite agregar una familia completa de restricciones al modelo, empleando un generador.\n",
    "\n",
    "1. A cada trabajo $j$ se le asigna un turno único y en cada turno se ejecuta exactamente un trabajo."
   ]
  },
  {
   "cell_type": "code",
   "execution_count": null,
   "metadata": {},
   "outputs": [],
   "source": [
    "# A cada turno se le asigna exactamente un trabajo\n",
    "m.addConstrs((x.sum('*', t) == 1 for t in T), name='asig_t') \n",
    "\n",
    "# A cada trabajo se le asigna exactamente un turno\n",
    "m.addConstrs((x.sum(j, '*') == 1 for j in J), name='asig_j') "
   ]
  },
  {
   "cell_type": "markdown",
   "metadata": {},
   "source": [
    "2. En cada turno, la cantidad de hilos cargados en la máquina no supera la capacidad del carrete."
   ]
  },
  {
   "cell_type": "code",
   "execution_count": null,
   "metadata": {},
   "outputs": [],
   "source": [
    "# Respetar capacidad del carrete\n",
    "m.addConstrs((y.sum('*', t) <= B for t in T), name='carrete') "
   ]
  },
  {
   "cell_type": "markdown",
   "metadata": {},
   "source": [
    "3. Si el trabajo $j$ es procesado en el turno $t$, entonces todos los hilos requeridos para este trabajo deben estar cargados en el carrete en el turno $t$."
   ]
  },
  {
   "cell_type": "code",
   "execution_count": null,
   "metadata": {},
   "outputs": [],
   "source": [
    "# Cargar todos los hilos requeridos para procesar un trabajo\n",
    "m.addConstrs((x[j,t] <= y[h,t] for t in T for j in J for h in HH[j]), \n",
    "             name='hilos') "
   ]
  },
  {
   "cell_type": "markdown",
   "metadata": {},
   "source": [
    "4. Fijamos el valor de las variables auxiliares $w_{ht}$:"
   ]
  },
  {
   "cell_type": "code",
   "execution_count": null,
   "metadata": {},
   "outputs": [],
   "source": [
    "# Definir w[h,t] en función de y[h,t] y y[h,t-1]\n",
    "m.addConstrs((w[h,t] >= y[h,t] - y[h,t-1] for h in H for t in T2), \n",
    "             name='defw1') \n",
    "m.addConstrs((w[h,t] >= y[h,t-1] - y[h,t] for h in H for t in T2), \n",
    "             name='defw2') "
   ]
  },
  {
   "cell_type": "markdown",
   "metadata": {},
   "source": [
    "5. Finalmente, fijamos el valor de $z_t$ de tal forma que $z_t=1$ cada vez que sea necesario para la máquina entre los turnos $t-1$ y $t$:"
   ]
  },
  {
   "cell_type": "code",
   "execution_count": null,
   "metadata": {},
   "outputs": [],
   "source": [
    "# Definir z[t] en función de w[h,t]\n",
    "m.addConstrs((w.sum('*', t) <= len(H)*z[t] for t in T2), name='defz') "
   ]
  },
  {
   "cell_type": "markdown",
   "metadata": {},
   "source": [
    "Optimizamos el modelo:"
   ]
  },
  {
   "cell_type": "code",
   "execution_count": null,
   "metadata": {},
   "outputs": [],
   "source": [
    "m.optimize()"
   ]
  },
  {
   "cell_type": "markdown",
   "metadata": {},
   "source": [
    "Mostramos la solución: instalaciones a construir, asignación de clientes a instalaciones y clientes no atendidos."
   ]
  },
  {
   "cell_type": "code",
   "execution_count": null,
   "metadata": {},
   "outputs": [],
   "source": [
    "# Mostrar solución\n",
    "print('Orden de procesamiento de trabajos:')\n",
    "print([j for t in T for j in J if x[j,t].x >= 0.9])\n",
    "\n",
    "print('Número de paradas: {}'.format(int(m.objVal)))\n",
    "\n",
    "print('Estado del carrete:')\n",
    "for t in T:\n",
    "    print('{}: {}'.format(t, [h for h in H if y[h,t].x >= 0.9]))\n",
    "\n",
    "print('Hilos requeridos por trabajo')\n",
    "for j in J:\n",
    "    print('{}: {}'.format(j, HH[j]))"
   ]
  },
  {
   "cell_type": "markdown",
   "metadata": {},
   "source": [
    "Exportemos el modelo como un archivo `lp`:"
   ]
  },
  {
   "cell_type": "code",
   "execution_count": null,
   "metadata": {},
   "outputs": [],
   "source": [
    "m.write('job-scheduling.lp')"
   ]
  },
  {
   "cell_type": "markdown",
   "metadata": {},
   "source": [
    "## Configurando parámetros del solver\n",
    "\n",
    "El comportamiento del solver Gurobi puede ser modificado a través de la fijación de ciertos *parámetros del solver*. En el API Python el acceso a estos parámetros puede realizarse a través de la propiedad `Params` en el objeto modelo.  \n",
    "\n",
    "Dos parámetros especialmente importantes son [`TimeLimit`](https://www.gurobi.com/documentation/9.5/refman/timelimit.html), que controla el *tiempo límite* disponible para la solución de un modelo (en segundos), y [`MIPGap`](https://www.gurobi.com/documentation/9.5/refman/mipgap2.html), que indica la *brecha de optimalidad aceptable* para declarar a una solución de un programa entero como solución óptima (como fracción de la unidad). Estos parámetros resultan útiles al trabajar con modelos de gran escala que demandan demasiado tiempo de ejecución. \n",
    "\n",
    "Para mayor información acerca de los parámetros de Gurobi, consultar en el siguiente [enlace](https://www.gurobi.com/documentation/9.5/refman/parameters.html)."
   ]
  },
  {
   "cell_type": "code",
   "execution_count": null,
   "metadata": {},
   "outputs": [],
   "source": [
    "# Fijar tiempo máximo de ejecución en 60 segundos\n",
    "m.Params.TimeLimit = 60\n",
    "\n",
    "# Fijar brecha de optimalidad aceptable en 10%\n",
    "m.Params.MIPGap = 0.1"
   ]
  },
  {
   "cell_type": "markdown",
   "metadata": {},
   "source": [
    "Al fijar tiempos límites para la ejecución, a veces es necesario poder determinar si durante el último llamado a `optimize()` fue posible encontrar al menos una solución factible para el modelo. Esto puede hacerse consultando el atributo `SolCount` de la clase modelo, el cual almacena el número de soluciones factibles encontradas."
   ]
  },
  {
   "cell_type": "code",
   "execution_count": null,
   "metadata": {},
   "outputs": [],
   "source": [
    "# Indicar el número de solucione factibles encontradas\n",
    "print(m.SolCount)"
   ]
  },
  {
   "cell_type": "markdown",
   "metadata": {},
   "source": [
    "## Código completo\n",
    "\n",
    "Reproducimos a continuación el código completo del ejemplo:"
   ]
  },
  {
   "cell_type": "code",
   "execution_count": null,
   "metadata": {},
   "outputs": [],
   "source": [
    "# Curso de implementación de programas lineales enteros\n",
    "# Ejemplo: Modelo de job scheduling\n",
    "# EPN (2024)\n",
    "\n",
    "import gurobipy as gp\n",
    "from gurobipy import GRB\n",
    "import random as rd\n",
    "\n",
    "try:\n",
    "    # Conjuntos y parámetros del modelo\n",
    "    # Familia HH de conjuntos de hilos requeridos por cada trabajo\n",
    "    # HH = tupledict({1 : {2, 3, 5},\n",
    "    #                  2 : {1, 3, 4},\n",
    "    #                  3 : {1, 4, 5},\n",
    "    #                  4 : {1, 3},\n",
    "    #                  5 : {1, 2, 4},\n",
    "    #                  6 : {1, 4, 5},\n",
    "    #                  7 : {3, 5}})\n",
    "    \n",
    "    # Generar n trabajos al azar, cada uno requiere de 1 a tres hilos\n",
    "    # La cantidad total de hilos es n_hilos\n",
    "    n_hilos = 10\n",
    "    n = 100\n",
    "    rd.seed(0)\n",
    "    HH = gp.tupledict({j+1 : set(rd.randint(1,n_hilos) \n",
    "                                  for i in range(3)) for j in range(n)})\n",
    "\n",
    "    # Cantidad de hilos que pueden estar en el carrete\n",
    "    B = 3\n",
    "\n",
    "    # Conjunto de trabajos\n",
    "    J = HH.keys()\n",
    "\n",
    "    # Conjunto de turnos T y de turnos T2 sin el primero\n",
    "    T = J.copy()\n",
    "    T2 = [i for i in T if i!=1]\n",
    "\n",
    "    # Conjunto de todos los hilos, calculado como la unión de Hj para j in J\n",
    "    H = set()\n",
    "    for j in J:\n",
    "        H = H | HH[j]\n",
    "    \n",
    "    # Crear el objeto modelo\n",
    "    m = gp.Model('job-scheduling')\n",
    "\n",
    "    # Definir variables\n",
    "    # Asignación turnos a trabajos\n",
    "    x = m.addVars(J, T, vtype = GRB.BINARY, name=\"x\")\n",
    "\n",
    "    # Estado de hilos en el carrete\n",
    "    y = m.addVars(H, T, vtype = GRB.BINARY, name=\"y\")\n",
    "\n",
    "    # Paradas de la máquina\n",
    "    z = m.addVars(T2, vtype = GRB.BINARY, name=\"z\")\n",
    "\n",
    "    # Cambio de los hilos en el carrete\n",
    "    w = m.addVars(H, T2, vtype = GRB.BINARY, name=\"z\")\n",
    "    \n",
    "    # Función objetivo: minimizar paradas de la máquina\n",
    "    m.setObjective(z.sum('*'), GRB.MINIMIZE)\n",
    "\n",
    "    # Restricciones\n",
    "    # A cada turno se le asigna exactamente un trabajo\n",
    "    m.addConstrs((x.sum('*', t) == 1 for t in T), name='turno_t') \n",
    "\n",
    "    # A cada trabajo se le asigna exactamente un turno\n",
    "    m.addConstrs((x.sum(j, '*') == 1 for j in J), name='turno_j') \n",
    "    \n",
    "    # Respetar capacidad del carrete\n",
    "    m.addConstrs((y.sum('*', t) <= B for t in T), name='carrete') \n",
    "    \n",
    "    # Cargar todos los hilos requeridos para procesar un trabajo\n",
    "    m.addConstrs((x[j,t] <= y[h,t] for t in T for j in J for h in HH[j]), name='hilos') \n",
    "    \n",
    "    # Definir w[h,t] en función de y[h,t] y y[h,t-1]\n",
    "    m.addConstrs((w[h,t] >= y[h,t] - y[h,t-1] for h in H for t in T2), name='defw1') \n",
    "    m.addConstrs((w[h,t] >= y[h,t-1] - y[h,t] for h in H for t in T2), name='defw2') \n",
    "    \n",
    "    # Definir z[t] en función de w[h,t]\n",
    "    m.addConstrs((w.sum('*', t) <= len(H)*z[t] for t in T2), name='defz') \n",
    "    \n",
    "    # Fijar tiempo máximo de ejecución en 90 segundos\n",
    "    m.Params.TimeLimit = 90\n",
    "\n",
    "    # Fijar brecha de optimalidad aceptable en 5%\n",
    "    m.Params.MIPGap = 0.05\n",
    "\n",
    "    # Resolver el modelo\n",
    "    m.optimize()\n",
    "    \n",
    "    # Mostrar solución\n",
    "    \n",
    "    # Para saber si existe al menos una solución, consultar el atributo SolCount de la clase modelo\n",
    "    if m.SolCount > 0:\n",
    "        print('Orden de procesamiento de trabajos:')\n",
    "        print([j for t in T for j in J if x[j,t].x >= 0.9])\n",
    "\n",
    "        print('Número de paradas: {}'.format(m.objVal))\n",
    "\n",
    "        print('Estado del carrete:')\n",
    "        for t in T:\n",
    "            print('{}: {}'.format(t, [h for h in H if y[h,t].x >= 0.9]))\n",
    "    else:\n",
    "        print('No se encontró solución factible en el tiempo límite')\n",
    "        \n",
    "except GurobiError as e:\n",
    "    print('Se produjo un error de Gurobi: código: ' + str(e.errno) + \": \" + str(e))\n",
    "\n",
    "except AttributeError:\n",
    "    print('Se produjo un error de atributo')"
   ]
  },
  {
   "cell_type": "code",
   "execution_count": null,
   "metadata": {},
   "outputs": [],
   "source": []
  }
 ],
 "metadata": {
  "kernelspec": {
   "display_name": "Python 3",
   "language": "python",
   "name": "python3"
  },
  "language_info": {
   "codemirror_mode": {
    "name": "ipython",
    "version": 3
   },
   "file_extension": ".py",
   "mimetype": "text/x-python",
   "name": "python",
   "nbconvert_exporter": "python",
   "pygments_lexer": "ipython3",
   "version": "3.8.10"
  }
 },
 "nbformat": 4,
 "nbformat_minor": 2
}
