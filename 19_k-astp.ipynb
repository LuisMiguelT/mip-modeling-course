{
 "cells": [
  {
   "cell_type": "markdown",
   "metadata": {},
   "source": [
    "# Cuaderno 19: Problema del agente viajero múltiple ($k$-ATSP) \n",
    "$\\newcommand{\\ZZ}{\\mathbb{Z}}$\n",
    "Dados: \n",
    "* un grafo dirigido **completo** $D=(V,A)$, con $V=\\{0,1,\\ldots,n\\}$; \n",
    "* un número entero $k$; y,\n",
    "* un vector $c \\in \\ZZ^{A}$ de costos asociados a los arcos de $D$.\n",
    "\n",
    "El *problema del agente viajero asimétrico múltiple (Multiple Asymmetric Traveling Salesman Problem, $k$-ATSP)* consiste en encontrar un conjunto de $k$ circuitos dirigidos (también llamados **rutas**) con las siguientes propiedades:\n",
    "* todas las rutas deben contener al nodo 0 (también conocido como *nodo base* o *nodo depósito*);\n",
    "* cada uno de los demás nodos $1, \\ldots, n$ (conocidos como *nodos clientes*) debe pertenecer exactamente a una ruta; y,\n",
    "* la suma de los costos de los arcos de todas las rutas debe ser mínima.\n",
    "\n",
    "\n",
    "Aplicaciones de este problema se presentan en la logística de distribución, particularmente en el enrutamiento óptimo de flotas de vehículos. El problema puede formularse como un programa lineal entero, extendiendo cualquiera de las formulaciones del ATSP presentadas en los cuadernos anteriores. A continuación, presentamos un modelo basado en la *formulación compacta MTZ (Miller-Tucker-Zemlin)*. Emplearemos las siguientes variables de decisión:\n",
    "\n",
    "* variables binarias $x_{ij}$, para indicar si los arcos de $A$ son seleccionados o no dentro de alguna ruta; y\n",
    "* variables enteras $u_i$, para indicar la posición del nodo $i$ dentro de su ruta.\n",
    "\n",
    "El problema puede ser formulado como el siguiente programa lineal entero:\n",
    "\n",
    "\\begin{align*}\n",
    "\\min &\\sum_{(i,j) \\in A} c_{ij} x_{ij}\\\\ \n",
    "& \\mbox{s.r.}\\\\\n",
    "&\\sum_{(i,j) \\in \\delta^+(i) } x_{ij} = 1, \\quad \\forall i \\in V \\setminus \\{0\\},\\\\\n",
    "&\\sum_{(j,i) \\in \\delta^-(i) } x_{ji} = 1, \\quad \\forall i \\in V \\setminus \\{0\\},\\\\\n",
    "&\\sum_{(0,j) \\in \\delta^+(0) } x_{0j} = k,\\\\\n",
    "&\\sum_{(j,0) \\in \\delta^-(0) } x_{j0} = k,\\\\\n",
    "& u_j \\geq u_i + 1- (1 - x_{ij})n , \\quad\\forall (i,j) \\in A, i \\neq 0, j \\neq 0, \\\\\n",
    "& x_{ij} \\in \\{0, 1\\}, \\quad \\forall (i, j) \\in A,\\\\\n",
    "& u_i \\in \\{1, \\ldots, n\\}, \\quad \\forall i \\in A \\setminus \\{0\\}.\n",
    "\\end{align*}\n",
    "\n",
    "La función objetivo mide el costo total de todas las rutas seleccionadas.\n",
    "\n",
    "Las dos primeras familias de restricciones son restricciones de grado para los nodos clientes: especifican que para cada uno de estos nodos se deben seleccionar un arco entrante y un arco saliente en la solución.\n",
    "\n",
    "La tercera y cuarta restricciones son restricciones de grado del depósito. Indican que deben seleccionarse exactamente $k$ arcos salientes y $k$ arcos entrantes al depósito. \n",
    "\n",
    "Finalmente, la quinta familia de restricciones emplea la idea del modelo MTZ del agente viajero para eliminar circuitos que no contengan al depósito.\n",
    "\n",
    "Vamos a implementar este modelo utilizando el API Python de Gurobi.\n"
   ]
  },
  {
   "cell_type": "code",
   "execution_count": null,
   "metadata": {},
   "outputs": [],
   "source": [
    "import gurobipy as gp\n",
    "from gurobipy import GRB\n",
    "import random as rm\n",
    "import math \n",
    "\n",
    "# número de nodos del grafo\n",
    "n = 40\n",
    "\n",
    "# número de rutas en la solución\n",
    "k = 4\n",
    "\n",
    "# nodos del grafo\n",
    "V = gp.tuplelist(range(0,n+1))\n",
    "\n",
    "# nodos sin el depósito\n",
    "N = gp.tuplelist([i for i in V if i!=0])\n",
    "\n",
    "# posiciones de los nodos en un plano euclideano entre (0,0) y (100, 100)\n",
    "coordx={i : rm.randint(0,100) for i in N}\n",
    "coordy={i : rm.randint(0,100) for i in N}\n",
    "# el depósito está en el centro\n",
    "coordx[0] = 50\n",
    "coordy[0] = 50\n",
    "\n",
    "# los costos son las distancias eculideanas\n",
    "c = gp.tupledict({\n",
    "    (i,j) : math.sqrt((coordx[i] - coordx[j])**2 + (coordy[i] - coordy[j])**2)\n",
    "    for i in V for j in V if i!=j\n",
    "})\n",
    "\n",
    "A = c.keys()\n"
   ]
  },
  {
   "cell_type": "markdown",
   "metadata": {},
   "source": [
    "### Implementación del modelo\n",
    "\n",
    "Definimos el objeto modelo, las variables y la función objetivo. "
   ]
  },
  {
   "cell_type": "code",
   "execution_count": null,
   "metadata": {},
   "outputs": [],
   "source": [
    "# crear el objeto modelo\n",
    "m = gp.Model('k-atsp')\n",
    "\n",
    "# crear las variables de selección de arcos\n",
    "x = m.addVars(A, name=\"x\", vtype=GRB.BINARY)\n",
    "\n",
    "# crear las variables de ordenamiento de nodos\n",
    "u = m.addVars(N, name=\"u\", lb=1, ub=n)\n",
    "\n",
    "# crear la función objetivo\n",
    "m.setObjective(x.prod(c,'*'), GRB.MINIMIZE)"
   ]
  },
  {
   "cell_type": "markdown",
   "metadata": {},
   "source": [
    "Añadimos las restricciones de grado en los nodos cliente:"
   ]
  },
  {
   "cell_type": "code",
   "execution_count": null,
   "metadata": {},
   "outputs": [],
   "source": [
    "# restricciones de grado saliente clientes\n",
    "m.addConstrs((x.sum(i,'*') == 1 for i in N), \"g_saliente\")\n",
    "\n",
    "# restricciones de grado entrante clientes\n",
    "m.addConstrs((x.sum('*', i) == 1 for i in N), \"g_entrante\")"
   ]
  },
  {
   "cell_type": "markdown",
   "metadata": {},
   "source": [
    "Agregamos las restricciones de grado entrante y saliente en el depósito:"
   ]
  },
  {
   "cell_type": "code",
   "execution_count": null,
   "metadata": {},
   "outputs": [],
   "source": [
    "# restricción de grado saliente depósito\n",
    "m.addConstr(x.sum(0,'*') == k, \"d_saliente\")\n",
    "\n",
    "# restricción de grado entrante depósito\n",
    "m.addConstr(x.sum('*', 0) == k, \"d_entrante\")"
   ]
  },
  {
   "cell_type": "markdown",
   "metadata": {},
   "source": [
    "Definimos las restricciones de eliminación de subciclos:"
   ]
  },
  {
   "cell_type": "code",
   "execution_count": null,
   "metadata": {},
   "outputs": [],
   "source": [
    "# restricciones de ordenamiento de nodos (eliminación de subciclos)\n",
    "m.addConstrs((u[j] >= u[i] + 1 - n*(1- x[i,j]) for i in N for j in N if i!=j), \n",
    "             \"ordenamiento\")"
   ]
  },
  {
   "cell_type": "markdown",
   "metadata": {},
   "source": [
    "Fijamos un límite para el tiempo de cálculo y una tolerancia para la brecha de optimalidad:"
   ]
  },
  {
   "cell_type": "code",
   "execution_count": null,
   "metadata": {},
   "outputs": [],
   "source": [
    "# terminar al alcanzar un Gap del 10%\n",
    "m.Params.MIPGap = 0.1\n",
    "\n",
    "# terminar luego de 180 segundos\n",
    "m.Params.TimeLimit = 180"
   ]
  },
  {
   "cell_type": "markdown",
   "metadata": {},
   "source": [
    "Finalmente, resolvemos el modelo y mostramos la solución, en caso de que se haya encontrado una solución factible (si `m.SolCount` es mayor a cero)."
   ]
  },
  {
   "cell_type": "code",
   "execution_count": null,
   "metadata": {},
   "outputs": [],
   "source": [
    "# resolver el modelo\n",
    "m.optimize()\n",
    "\n",
    "# escribir la solución, si se encontró alguna solución factible\n",
    "if m.SolCount > 0:\n",
    "    # recuperar los valores de las variables\n",
    "    vx = m.getAttr('x', x)\n",
    "    print('\\nRutas óptimas:')\n",
    "    for i,j in A:\n",
    "        if vx[i,j] >= 0.99:\n",
    "            print('{} -> {}'.format(i, j))"
   ]
  },
  {
   "cell_type": "markdown",
   "metadata": {},
   "source": [
    "Para este problema, es más informativo escribir la respuesta como una *lista de rutas*, que nos indique para cada ruta el orden en el que se visitan los nodos clientes:"
   ]
  },
  {
   "cell_type": "code",
   "execution_count": null,
   "metadata": {},
   "outputs": [],
   "source": [
    "# crear lista con arcos seleccionados en la solución\n",
    "vx = m.getAttr('x', x)\n",
    "L = gp.tuplelist([(i,j) for (i,j) in A if vx[i,j]>=0.9])\n",
    "\n",
    "# recuperar el número de rutas\n",
    "n_rutas = len(L.select(0,'*'))\n",
    "\n",
    "# recuperar cada ruta como un ordenamiento de los nodos que empieza y termina en el depósito\n",
    "rutas = []\n",
    "for i in range(n_rutas):\n",
    "    T = [0]\n",
    "    # nodo actual:\n",
    "    i = 0\n",
    "    while True:\n",
    "        # determinar un sucesor de i\n",
    "        (i,j) = L.select(i,'*').pop(0)\n",
    "        T.append(j)\n",
    "        i = j\n",
    "        if i==0:\n",
    "            break\n",
    "    rutas.append(T)\n",
    "\n",
    "print ('*** Rutas óptimas:')\n",
    "for i in range(len(rutas)):\n",
    "    print('r{}: {}'.format(i+1, rutas[i]))\n"
   ]
  },
  {
   "cell_type": "markdown",
   "metadata": {},
   "source": [
    "Finalmente, es posible graficar la solución utilizando el módulo `matplotlib`:"
   ]
  },
  {
   "cell_type": "code",
   "execution_count": null,
   "metadata": {},
   "outputs": [],
   "source": [
    "import matplotlib.pyplot as plt\n",
    "\n",
    "def dibujarRutas(coordx, coordy, rutas):\n",
    "    plt.figure(figsize=(10,10))\n",
    "    for tour in rutas:\n",
    "        Tx = [coordx[i] for i in tour]\n",
    "        Ty = [coordy[i] for i in tour]\n",
    "        plt.plot(Tx[:-1], Ty[:-1], 'ro')\n",
    "        for i in range(len(tour)-1):\n",
    "            s='{}'.format(tour[i])\n",
    "            plt.text(Tx[i],Ty[i]+1,s)\n",
    "            plt.arrow(Tx[i], Ty[i], Tx[i+1]-Tx[i], Ty[i+1]-Ty[i], color='blue', \n",
    "                  length_includes_head=True, width=0.1, head_width=1)\n",
    "    plt.show()\n",
    "\n",
    "# Graficar el tour\n",
    "dibujarRutas(coordx, coordy, rutas) "
   ]
  },
  {
   "cell_type": "markdown",
   "metadata": {},
   "source": [
    "## Código completo\n",
    "\n",
    "Se reproduce a continuación el código completo del modelo anterior."
   ]
  },
  {
   "cell_type": "code",
   "execution_count": null,
   "metadata": {},
   "outputs": [],
   "source": [
    "# Implementación de modelos lineales enteros\n",
    "# Problema del agente viajero asimétrico múltiple (k-ATSP)\n",
    "\n",
    "# Luis M. Torres (EPN 2025)\n",
    "\n",
    "import gurobipy as gp\n",
    "from gurobipy import GRB\n",
    "import random as rm\n",
    "import matplotlib.pyplot as plt\n",
    "import math \n",
    "\n",
    "def dibujarRutas(coordx, coordy, rutas):\n",
    "    plt.figure(figsize=(10,10))\n",
    "    for tour in rutas:\n",
    "        Tx = [coordx[i] for i in tour]\n",
    "        Ty = [coordy[i] for i in tour]\n",
    "        plt.plot(Tx[:-1], Ty[:-1], 'ro')\n",
    "        for i in range(len(tour)-1):\n",
    "            s='{}'.format(tour[i])\n",
    "            plt.text(Tx[i],Ty[i]+1,s)\n",
    "            plt.arrow(Tx[i], Ty[i], Tx[i+1]-Tx[i], Ty[i+1]-Ty[i], color='blue', \n",
    "                  length_includes_head=True, width=0.1, head_width=1)\n",
    "    plt.show()\n",
    "\n",
    "\n",
    "# número de nodos del grafo\n",
    "n = 40\n",
    "\n",
    "# número de rutas en la solución\n",
    "k = 4\n",
    "\n",
    "# nodos del grafo\n",
    "V = gp.tuplelist(range(0,n+1))\n",
    "\n",
    "# nodos sin el depósito\n",
    "N = gp.tuplelist([i for i in V if i!=0])\n",
    "\n",
    "# posiciones de los nodos en un plano euclideano entre (0,0) y (100, 100)\n",
    "coordx={i : rm.randint(0,100) for i in N}\n",
    "coordy={i : rm.randint(0,100) for i in N}\n",
    "# el depósito está en el centro\n",
    "coordx[0] = 50\n",
    "coordy[0] = 50\n",
    "\n",
    "# los costos son las distancias eculideanas\n",
    "c = gp.tupledict({\n",
    "    (i,j) : math.sqrt((coordx[i] - coordx[j])**2 + (coordy[i] - coordy[j])**2)\n",
    "    for i in V for j in V if i!=j\n",
    "})\n",
    "\n",
    "A = c.keys()\n",
    "\n",
    "try:\n",
    "    # crear el objeto modelo\n",
    "    m = gp.Model('k-atsp')\n",
    "\n",
    "    # crear las variables de selección de arcos\n",
    "    x = m.addVars(A, name=\"x\", vtype=GRB.BINARY)\n",
    "\n",
    "    # crear las variables de ordenamiento de nodos\n",
    "    u = m.addVars(N, name=\"u\", lb=1, ub=n)\n",
    "\n",
    "    # crear la función objetivo\n",
    "    m.setObjective(x.prod(c,'*'), GRB.MINIMIZE)\n",
    "\n",
    "    ### restricciones\n",
    "    # restricciones de grado saliente clientes\n",
    "    m.addConstrs((x.sum(i,'*') == 1 for i in N), \"g_saliente\")\n",
    "\n",
    "    # restricciones de grado entrante clientes\n",
    "    m.addConstrs((x.sum('*', i) == 1 for i in N), \"g_entrante\")\n",
    "\n",
    "    # restricción de grado saliente depósito\n",
    "    m.addConstr(x.sum(0,'*') == k, \"d_saliente\")\n",
    "\n",
    "    # restricción de grado entrante depósito\n",
    "    m.addConstr(x.sum('*', 0) == k, \"d_entrante\")\n",
    "\n",
    "    # restricciones de ordenamiento de nodos (eliminación de subciclos)\n",
    "    m.addConstrs((u[j] >= u[i] + 1 - n*(1- x[i,j]) for i in N for j in N if i!=j), \n",
    "                 \"ordenamiento\")\n",
    "\n",
    "    # terminar al alcanzar un Gap del 10%\n",
    "    # m.Params.MIPGap = 0.1\n",
    "\n",
    "    # terminar luego de 180 segundos\n",
    "    m.Params.TimeLimit = 180\n",
    "\n",
    "    # resolver el modelo\n",
    "    m.optimize()\n",
    "\n",
    "    # escribir la solución, si se encontró alguna solución factible\n",
    "    if m.SolCount > 0:\n",
    "        # crear lista con arcos seleccionados en la solución\n",
    "        vx = m.getAttr('x', x)\n",
    "        L = gp.tuplelist([(i,j) for (i,j) in A if vx[i,j]>=0.9])\n",
    "        # recuperar el número de rutas\n",
    "        n_rutas = len(L.select(0,'*'))\n",
    "        # recuperar cada ruta como un ordenamiento de los nodos que empieza y termina en el depósito\n",
    "        rutas = []\n",
    "        for i in range(n_rutas):\n",
    "            T = [0]\n",
    "            # nodo actual:\n",
    "            i = 0\n",
    "            while True:\n",
    "                # determinar un sucesor de i\n",
    "                (i,j) = L.select(i,'*').pop(0)\n",
    "                T.append(j)\n",
    "                i = j\n",
    "                if i==0:\n",
    "                    break\n",
    "            rutas.append(T)\n",
    "\n",
    "        print ('*** Rutas óptimas:')\n",
    "        for i in range(len(rutas)):\n",
    "            print('r{}: {}'.format(i+1, rutas[i]))\n",
    "        \n",
    "        # dibujar las rutas de la solución\n",
    "        dibujarRutas(coordx, coordy, rutas) \n",
    "\n",
    "except GurobiError as e:\n",
    "    print('Se produjo un error de Gurobi: código: ' + str(e.errno) + \": \" + str(e))\n",
    "\n",
    "except AttributeError:\n",
    "    print('Se produjo un error de atributo')"
   ]
  },
  {
   "cell_type": "code",
   "execution_count": null,
   "metadata": {},
   "outputs": [],
   "source": []
  }
 ],
 "metadata": {
  "kernelspec": {
   "display_name": "Python 3 (ipykernel)",
   "language": "python",
   "name": "python3"
  },
  "language_info": {
   "codemirror_mode": {
    "name": "ipython",
    "version": 3
   },
   "file_extension": ".py",
   "mimetype": "text/x-python",
   "name": "python",
   "nbconvert_exporter": "python",
   "pygments_lexer": "ipython3",
   "version": "3.10.12"
  }
 },
 "nbformat": 4,
 "nbformat_minor": 2
}
