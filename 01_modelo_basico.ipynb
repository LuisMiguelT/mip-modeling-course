{
 "cells": [
  {
   "cell_type": "markdown",
   "metadata": {},
   "source": [
    "# Cuaderno 1: Interfaz Python de Gurobi - Introducción\n",
    "\n",
    "Describiremos en este cuaderno el uso básico de la interfaz Python de Gurobi para crear y resolver un modelo de de programación lineal entera.\n",
    "\n",
    "Implementaremos el siguiente modelo, tomado del ejemplo [mip1.py](https://docs.gurobi.com/projects/examples/en/12.0/examples/python/mip1.html) incluido en la documentación oficial de Gurobi.\n",
    "\n",
    "\\begin{align*}\n",
    "&\\max x + y + 2z\\\\\n",
    "&\\mbox{s.r.}\\\\\n",
    "& x + 2y + 3z \\leq 4\\\\\n",
    "& x + y \\geq 1\\\\\n",
    "& x,y,z \\in \\{0, 1\\}\n",
    "\\end{align*}\n",
    "\n",
    "Lo primero que debemos hacer es importar el módulo `gurobipy` con las clases y funciones de la interfaz de Gurobi. Usaremos el acrónimo `gp` para referirnos a este módulo a lo largo del curso. Importaremos además el nombre `GRB` que contiene algunas constantes y tipos de uso frecuente:"
   ]
  },
  {
   "cell_type": "code",
   "execution_count": null,
   "metadata": {},
   "outputs": [],
   "source": [
    "import gurobipy as gp\n",
    "from gurobipy import GRB"
   ]
  },
  {
   "cell_type": "markdown",
   "metadata": {},
   "source": [
    "Luego llamamos al constructor `Model(<nombre_del_modelo>)` para crear un nuevo objeto que representará al modelo de programación lineal entera."
   ]
  },
  {
   "cell_type": "code",
   "execution_count": null,
   "metadata": {},
   "outputs": [],
   "source": [
    "m = gp.Model(\"mip1\")\n",
    "print(type(m))"
   ]
  },
  {
   "cell_type": "markdown",
   "metadata": {},
   "source": [
    "La construcción, modificación y solución de este modelo se realiza a través de métodos de la clase Model.\n",
    "\n",
    "Lo primero que debemos hacer es agregar variables al modelo. Para ello se puede emplear el método `addVar()`. Dos argumentos importantes que se pueden pasar a este método son `vtype`, que indica el tipo de la variable; y `name` que almacena su nombre como una cadena de caracteres.\n",
    "\n",
    "Los valores posibles para `vtype` son `GRB.BINARY` (variables binarias), `GRB.INTEGER` (variables enteras no negativas) y `GRB.CONTINUOUS` (variables reales no negativas). "
   ]
  },
  {
   "cell_type": "code",
   "execution_count": null,
   "metadata": {},
   "outputs": [],
   "source": [
    "# Definir a x,y,z, como variables binarias\n",
    "x = m.addVar(vtype=GRB.BINARY, name=\"x\")\n",
    "y = m.addVar(vtype=GRB.BINARY, name=\"y\")\n",
    "z = m.addVar(vtype=GRB.BINARY, name=\"z\")"
   ]
  },
  {
   "cell_type": "code",
   "execution_count": null,
   "metadata": {},
   "outputs": [],
   "source": [
    "print(type(x))"
   ]
  },
  {
   "cell_type": "markdown",
   "metadata": {},
   "source": [
    "El siguiente paso es construir la función objetivo del modelo llamando al método `setObjective`. Este método recibe dos parámetros: una *expresión lineal* con la función objetivo en sí, y una constante que indica el sentido de la optimización. Para el segundo parámetro debe pasarse uno de los dos valores: `GRB.MAXIMIZE` o `GRB.MINIMIZE`."
   ]
  },
  {
   "cell_type": "code",
   "execution_count": null,
   "metadata": {},
   "outputs": [],
   "source": [
    "# Definir la función objetivo e indicar que se trata de maximizacion\n",
    "m.setObjective(x + y + 2 * z, GRB.MAXIMIZE)"
   ]
  },
  {
   "cell_type": "markdown",
   "metadata": {},
   "source": [
    "Observar más de cerca el primer parámetro: la interfaz Python de Gurobi define un nuevo tipo de datos específico para construir **expresiones lineales**. Una expresión lineal se compone de una suma o resta de *términos lineales*. Cada término lineal puede ser una variable del modelo (ej: `x`), una expresión númerica, o el producto de una expresión númerica con una variable del modelo (ej: `2 * z`).\n",
    "\n",
    "Una vez definida la función objetivo del modelo, el paso siguiente es agregar las restricciones llamando al método `addConstr()`:"
   ]
  },
  {
   "cell_type": "code",
   "execution_count": null,
   "metadata": {},
   "outputs": [],
   "source": [
    "# Agregar dos restricciones al modelo\n",
    "c0 = m.addConstr(x + 2 * y + 3 * z <= 4, \"c0\")\n",
    "c1 = m.addConstr(x + y >= 1, \"c1\")\n",
    "print(type(c0))"
   ]
  },
  {
   "cell_type": "markdown",
   "metadata": {},
   "source": [
    "El primer parámetro de la función `addConstr()` es una restricción lineal, el segundo parámetro es una cadena de caracteres que almacena el nombre de la restricción.\n",
    "\n",
    "La interfaz Python de Gurobi define un nuevo tipo de datos específico para representar **restricciones lineales**. Una expresión de este tipo se construye a partir de una expresión lineal; seguida por uno de los tres operadores de comparación `<=`, `==`, o `>=`; seguida por un número o por una segunda expresión lineal.\n",
    "\n",
    "Para resolver el modelo, se llama al método `optimize()`:"
   ]
  },
  {
   "cell_type": "code",
   "execution_count": null,
   "metadata": {},
   "outputs": [],
   "source": [
    "# Optimizar el modelo\n",
    "m.optimize()"
   ]
  },
  {
   "cell_type": "markdown",
   "metadata": {},
   "source": [
    "Al llamar a `optimize()`, se invocan automáticamente las funciones de la biblioteca de Gurobi necesarias para resolver el modelo. Se muestra la salida de las mismas.\n",
    "\n",
    "Una vez terminada la solución del modelo, puede consultarse el valor óptimo de la función objetivo (en caso de que el modelo haya sido resuelto hasta la optimalidad) consultando el valor de `objVal`. Por otra parte, el método `m.getVars()` retorna un iterable con las variables del modelo; es posible emplear un lazo para consultar información como el valor de cada variable:"
   ]
  },
  {
   "cell_type": "code",
   "execution_count": null,
   "metadata": {},
   "outputs": [],
   "source": [
    "# Valor de la funcion objetivo\n",
    "print('Valor óptimo: {}'.format(m.objVal))\n",
    "# Datos de las variables\n",
    "print('Datos de las variables')\n",
    "for v in m.getVars():\n",
    "    print('Nombre: {}\\t\\tValor: {}'.format(v.varName, v.x))\n",
    "    \n",
    "print('Valor de x: {}'.format(x.x))\n",
    "print('Valor de y: {}'.format(y.x))\n",
    "print('Valor de z: {}'.format(z.x))"
   ]
  },
  {
   "cell_type": "markdown",
   "metadata": {},
   "source": [
    "## Más información\n",
    "\n",
    "El solver Gurobi viene acompañado de amplia documentación. Pueden consultarse, por ejemplo:\n",
    "\n",
    "* Las [páginas de inicio rápido (Getting Started)](https://support.gurobi.com/hc/en-us/articles/14799677517585-Getting-Started-with-Gurobi-Optimizer), para instrucciones acerca de la instalación, configuración y primeros pasos en el uso de Gurobi.\n",
    "* Los [manuales de referencia (Reference Manuals)](https://docs.gurobi.com/projects/optimizer/en/current/), para una descripción detallada de las diferentes funciones del solver y de sus APIs a varios lenguajes de programación.\n",
    "* [Códigos de ejemplo](https://docs.gurobi.com/projects/examples/en/12.0/examples/python.html), en varios lenguajes de programación, que ilustran las diferentes características del solver, a través de la implementación de algunos modelos de programación lineal entera. \n",
    "* [Cuadernos de Jupyter](https://www.gurobi.com/jupyter_models/) con ejemplos de la implementación de modelos de optimización basados en problemas reales, que ilustran la aplicabilidad de la optimización matemática en una gran variedad industrias. Los ejemplos están adptados del libro \"*Model Building in Mathematical Programming*\" (H. Paul Williams).\n",
    "\n",
    "\n",
    "\n",
    "## Código completo\n",
    "\n",
    "Se reproduce a continuación el código completo del modelo anterior, tal como se encuentra documentado en el manual de Gurobi.\n",
    "\n",
    "Observar que las instrucciones anteriores están contenidas dentro de un bloque `try` ... `except`. Esta es una práctica recomendada para el correcto manejo de las excepciones que pudieran producirse durante la construcción y solución del modelo."
   ]
  },
  {
   "cell_type": "code",
   "execution_count": null,
   "metadata": {},
   "outputs": [],
   "source": [
    "#!/usr/bin/env python3.7\n",
    "\n",
    "# Copyright 2022, Gurobi Optimization, LLC\n",
    "\n",
    "# This example formulates and solves the following simple MIP model:\n",
    "#  maximize\n",
    "#        x +   y + 2 z\n",
    "#  subject to\n",
    "#        x + 2 y + 3 z <= 4\n",
    "#        x +   y       >= 1\n",
    "#        x, y, z binary\n",
    "\n",
    "import gurobipy as gp\n",
    "from gurobipy import GRB\n",
    "\n",
    "try:\n",
    "\n",
    "    # Create a new model\n",
    "    m = gp.Model(\"mip1\")\n",
    "\n",
    "    # Create variables\n",
    "    x = m.addVar(vtype=GRB.BINARY, name=\"x\")\n",
    "    y = m.addVar(vtype=GRB.BINARY, name=\"y\")\n",
    "    z = m.addVar(vtype=GRB.BINARY, name=\"z\")\n",
    "\n",
    "    # Set objective\n",
    "    m.setObjective(x + y + 2 * z, GRB.MAXIMIZE)\n",
    "\n",
    "    # Add constraint: x + 2 y + 3 z <= 4\n",
    "    m.addConstr(x + 2 * y + 3 * z <= 4, \"c0\")\n",
    "\n",
    "    # Add constraint: x + y >= 1\n",
    "    m.addConstr(x + y >= 1, \"c1\")\n",
    "\n",
    "    # Optimize model\n",
    "    m.optimize()\n",
    "\n",
    "    # Valor de la función objetivo\n",
    "    print('Valor óptimo: {}'.format(m.objVal))\n",
    "    \n",
    "    # Datos de las variables\n",
    "    print('Datos de las variables')\n",
    "    for v in m.getVars():\n",
    "        print('Nombre: {}\\t\\tValor: {}'.format(v.varName, v.x))\n",
    "except gp.GurobiError as e:\n",
    "    print('Error code ' + str(e.errno) + ': ' + str(e))\n",
    "\n",
    "except AttributeError:\n",
    "    print('Encountered an attribute error')"
   ]
  },
  {
   "cell_type": "code",
   "execution_count": null,
   "metadata": {},
   "outputs": [],
   "source": []
  }
 ],
 "metadata": {
  "kernelspec": {
   "display_name": "Python [conda env:base] *",
   "language": "python",
   "name": "conda-base-py"
  },
  "language_info": {
   "codemirror_mode": {
    "name": "ipython",
    "version": 3
   },
   "file_extension": ".py",
   "mimetype": "text/x-python",
   "name": "python",
   "nbconvert_exporter": "python",
   "pygments_lexer": "ipython3",
   "version": "3.12.7"
  }
 },
 "nbformat": 4,
 "nbformat_minor": 4
}
