{
 "cells": [
  {
   "cell_type": "markdown",
   "metadata": {},
   "source": [
    "# Cuaderno 4: Problema del bin packing\n",
    "\n",
    "En el problema del *bin packing* (*empacamiento en recipientes*), se tienen dados $n$ objetos, con pesos $w_1, \\ldots, w_n$. Se quiere empacar estos objetos empleando la menor cantidad de recipientes de capacidad $b$, de tal forma que la suma de los pesos de los objetos empacados en un recipiente no supere nunca la capacidad de este.\n",
    "\n",
    "Denotemos por $I$ al conjunto de objetos y por $J$ al conjunto de recipientes. Para garantizar la existencia de al menos una solución factible, supondremos que $w_i \\leq b, \\forall i \\in \\{1,\\ldots,n\\}$, y que $\\left|J\\right| \\geq \\left|I\\right|$. Utilizaremos dos familias de variables de decisión binarias: \n",
    "\n",
    "1. Variables $x_{ij}$, con $i \\in I$ y $j \\in J$, para indicar si el objeto $i$ es empacado en el recipiente $j$. \n",
    "2. Variables $y_j$, con $j \\in J$, para indicar si el recipiente $j$ es utilizado en la solución.\n",
    "\n",
    "El problema puede formularse como el siguiente programa lineal entero:\n",
    "\n",
    "\n",
    "\\begin{align*}\n",
    "&\\min \\sum_{j \\in J} y_j \\\\ \n",
    "&\\mbox{s.r.}\\\\\n",
    "& \\sum_{j \\in J} x_{ij} = 1, \\quad \\forall i \\in I, \\\\\n",
    "& \\sum_{i \\in I} w_i x_{ij} \\leq b y_j, \\quad \\forall j \\in J, \\\\\n",
    "& x_{ij} \\in \\{0, 1\\}, \\quad \\forall i \\in I, j \\in J,\\\\\n",
    "& y_{j} \\in \\{0, 1\\}, \\quad \\forall j \\in J.\n",
    "\\end{align*}\n",
    "\n",
    "La primera familia de restricciones especifica que cada objeto debe ser empacado exactamente en un recipiente.\n",
    "\n",
    "Las restricciones de la segunda familia se conocen como **restricciones de enforzamiento**. Observar que si $y_j = 0$ (es decir, si el recipiente $j$ no es usado en la solución), entonces el lado derecho se evalúa a cero y todas las variables de la suma en el lado izquierdo deben forzosamente valer cero (es decir, no puede asignarse ningún objeto al recipiente $j$). Por otra parte, si $y_j = 1$, el lado derecho se evalúa a $b$ y en este caso la restricción especifica que la suma de los pesos de los objetos asignados al recipiente $j$ no supere su capacidad.\n",
    "\n",
    "Vamos a formular este modelo empleando el API Python de Gurobi. Empezamos por definir los conjuntos de índices, que en este caso serán del tipo `tuplelist`. Para usar este tipo es necesario importar primero el módulo de Gurobi:"
   ]
  },
  {
   "cell_type": "code",
   "execution_count": null,
   "metadata": {},
   "outputs": [],
   "source": [
    "import gurobipy as gp\n",
    "from gurobipy import GRB\n",
    "\n",
    "n = 5\n",
    "I = gp.tuplelist(range(1, n+1)) # indexamos los objetos como {1, ..., n}\n",
    "J = gp.tuplelist(range(1, n+1)) # indexamos los recipientes como {1, ..., n}\n",
    "\n",
    "print ('I:= {}'.format(I))\n",
    "print ('J:= {}'.format(J))"
   ]
  },
  {
   "cell_type": "markdown",
   "metadata": {},
   "source": [
    "Luego definimos los parámetros del modelo. Aquellos parámetros que dependen de índices se definen como diccionarios `tupledict`:"
   ]
  },
  {
   "cell_type": "code",
   "execution_count": null,
   "metadata": {},
   "outputs": [],
   "source": [
    "# los pesos están dados por un diccionario cuyas claves son elementos de I\n",
    "w = gp.tupledict({ 1 : 50, \n",
    "      2 : 45, \n",
    "      3 : 55, \n",
    "      4 : 40, \n",
    "      5 : 48})\n",
    "b = 100 # capacidad de los recipientes"
   ]
  },
  {
   "cell_type": "markdown",
   "metadata": {},
   "source": [
    "El siguiente paso es crear el objeto modelo:"
   ]
  },
  {
   "cell_type": "code",
   "execution_count": null,
   "metadata": {
    "scrolled": true
   },
   "outputs": [],
   "source": [
    "m = gp.Model('bin-packing')"
   ]
  },
  {
   "cell_type": "markdown",
   "metadata": {},
   "source": [
    "Para crear las variables, podemos usar el método `addVars`. Como ya lo señalamos en el Cuaderno 2, este método permite crear una familia de variables indexadas por uno o más objetos del tipo `tuplelist`. En nuestro caso, las variables $x_{ij}$ están indexadas por todas las combinaciones de objetos $i \\in I$ y recipientes $j \\in J$. Por lo tanto, los dos primeros argumentos de la función serán `I` y `J`:"
   ]
  },
  {
   "cell_type": "code",
   "execution_count": null,
   "metadata": {},
   "outputs": [],
   "source": [
    "# creamos variables x indexadas por I x J\n",
    "x = m.addVars(I, J, vtype = GRB.BINARY, name=\"x\")"
   ]
  },
  {
   "cell_type": "markdown",
   "metadata": {},
   "source": [
    "Los demás argumentos de la función son los mismos que los argumentos de `addVar`. Recordar que el argumento `name` en este caso no fija el nombre de una variable, sino un nombre genérico que se utilizará como prefijo para el nombre de cada variable individual, y que será completado con los valores de los índices.\n",
    "\n",
    "Recordar que la función `addVars` retorna un objeto del tipo `tupledict` con todas las variables:"
   ]
  },
  {
   "cell_type": "code",
   "execution_count": null,
   "metadata": {},
   "outputs": [],
   "source": [
    "# antes de consultar el contenido de cualquier variable, es necesario llamar a update()\n",
    "m.update()\n",
    "# x es del tipo tupledict\n",
    "print (type(x))\n",
    "print (x)\n",
    "# las claves de x forman un tuplelist\n",
    "print (x.keys())\n",
    "# para acceder a un elemento, hay que usar su tupla como índice; los paréntesis pueden obviarse\n",
    "# \"x\" se usa como prefijo para el nombre de la variable\n",
    "print(x[1,2].varName)\n"
   ]
  },
  {
   "cell_type": "markdown",
   "metadata": {},
   "source": [
    "De manera similar, creamos las variables $y_j$ indexadas por J:"
   ]
  },
  {
   "cell_type": "code",
   "execution_count": null,
   "metadata": {},
   "outputs": [],
   "source": [
    "y = m.addVars(J, vtype = GRB.BINARY, name=\"y\")"
   ]
  },
  {
   "cell_type": "markdown",
   "metadata": {},
   "source": [
    "Para construir la función objetivo, podemos usar el método `sum` de la clase `tupledict`:"
   ]
  },
  {
   "cell_type": "code",
   "execution_count": null,
   "metadata": {},
   "outputs": [],
   "source": [
    "# la función objetivo es la suma de las variables\n",
    "m.setObjective(y.sum('*'), GRB.MINIMIZE)"
   ]
  },
  {
   "cell_type": "markdown",
   "metadata": {},
   "source": [
    "Definimos ahora las restricciones:\n",
    "\n",
    "1. Cada objeto es empacado en un recipiente: para expresar esta restricción, podemos emplear el método `sum` de la clase `tupledict`, con un criterio de selección `(i, '*')`. Notar que hay una restricción para cada $i \\in I$, por lo que empleamos el método `addConstrs` con una expresión generadora que depende de `i`:"
   ]
  },
  {
   "cell_type": "code",
   "execution_count": null,
   "metadata": {},
   "outputs": [],
   "source": [
    "# Cada objeto es asignado a un recipiente\n",
    "m.addConstrs((x.sum(i, '*') == 1 for i in I), \"asig\") "
   ]
  },
  {
   "cell_type": "markdown",
   "metadata": {},
   "source": [
    "2. Se asignan objetos únicamente a recipientes utilizados, y respetando su capacidad: En este caso utilizamos la función `quicksum`, conjuntamente con un generador que depende de `i`, para construir la expresión $\\sum_i w_i x_{ij}$. Notar además que hay una restricción para cada $j \\in J$, por lo que empleamos el método `addConstrs` y anidamos la expresión generadora anterior en una nueva expresión que depende de `j`:"
   ]
  },
  {
   "cell_type": "code",
   "execution_count": null,
   "metadata": {},
   "outputs": [],
   "source": [
    "# Se asignan objetos únicamente a recipientes utilizados, y respetando su capacidad\n",
    "m.addConstrs((gp.quicksum(w[i] * x[i, j] for i in I) <= b * y[j] \n",
    "              for j in J), \"capac\")"
   ]
  },
  {
   "cell_type": "markdown",
   "metadata": {},
   "source": [
    "Finalmente, optimizamos el modelo:"
   ]
  },
  {
   "cell_type": "code",
   "execution_count": null,
   "metadata": {},
   "outputs": [],
   "source": [
    "m.optimize()"
   ]
  },
  {
   "cell_type": "markdown",
   "metadata": {},
   "source": [
    "Terminada la optimización, podemos mostrar las soluciones. Notar que se usa la sintaxis `x[i, j]` para acceder a la variable $x_{ij}$, pues `x` es un diccionario cuyas claves son pares ordenados del conjunto $I \\times J$. Recordar que la propiedad `x` de un objeto variable nos permite acceder a su valor en la solución, indistintamente del nombre del objeto.\n",
    "\n",
    "Notar que al comparar si los valores de las variables binarias son iguales a 1 usamos la condición `>=0.99 ` en lugar de la condición `== 1`, pese que se trata de variables enteras. El motivo es que Gurobi (al igual que otros solvers) trabaja internamente con valores de punto flotante (decimales) para todas las variables del modelo, debido a que debe resolver relajaciones lineales del programa entero. Gurobi asume que una variable tiene un valor entero cuando su valor está dentro de un rango de tolerancia del entero más próximo. Este rango está fijado en el parámetro `IntFeasTol` y su valor por defecto es $10^{-5}$. Más información puede consultarse en [este artículo](https://support.gurobi.com/hc/en-us/articles/360012237872-Why-does-Gurobi-sometimes-return-values-for-integer-variables-that-are-not-integers-)."
   ]
  },
  {
   "cell_type": "code",
   "execution_count": null,
   "metadata": {},
   "outputs": [],
   "source": [
    "for j in J:\n",
    "    # y[j].x es el valor de la variable y_j en la solución\n",
    "    if y[j].x >= 0.99:\n",
    "        print(\"Se usó el recipiente {}.\".format(j))\n",
    "        \n",
    "for i in I:\n",
    "    for j in J:\n",
    "        # x[i,j].x es el valor de la variable x_{ij} en la solución\n",
    "        if x[i, j].x >= 0.99:\n",
    "            print(\"Objeto {} asignado al recipiente {}.\".format(i, j))"
   ]
  },
  {
   "cell_type": "markdown",
   "metadata": {},
   "source": [
    "## Código completo\n",
    "\n",
    "Reproducimos a continuación el código completo del ejemplo:"
   ]
  },
  {
   "cell_type": "code",
   "execution_count": null,
   "metadata": {
    "scrolled": true
   },
   "outputs": [],
   "source": [
    "# Curso de implementación de programas lineales enteros\n",
    "# Ejemplo: Modelo de bin packing\n",
    "# EPN (2024)\n",
    "\n",
    "import gurobipy as gp\n",
    "from gurobipy import GRB\n",
    "import random as rd\n",
    "try:\n",
    "    n = 30\n",
    "    I = gp.tuplelist(range(1, n+1)) # indexamos los objetos como {1, ..., n}\n",
    "    J = gp.tuplelist(range(1, n+1)) # indexamos los recipientes como {1, ..., n}\n",
    "\n",
    "    # los pesos están dados por un diccionario cuyas claves son elementos de I\n",
    "    w = gp.tupledict({i : rd.randint(30,60) for i in I})\n",
    "    b = 100 # capacidad de los recipientes\n",
    "\n",
    "    m = gp.Model('bin-packing')\n",
    "\n",
    "    # creamos variables x indexadas por I x J\n",
    "    x = m.addVars(I, J, vtype = GRB.BINARY, name=\"x\")\n",
    "\n",
    "    # creamos variables y indexadas por J\n",
    "    y = m.addVars(J, vtype = GRB.BINARY, name=\"y\")\n",
    "\n",
    "    # la función objetivo es la suma de las variables\n",
    "    m.setObjective(y.sum('*'), GRB.MINIMIZE)\n",
    "\n",
    "    # Restricciones\n",
    "    # Cada objeto es asignado a un recipiente\n",
    "    m.addConstrs((x.sum(i, '*') == 1 for i in I), \"asig\") \n",
    "\n",
    "    # Se asignan objetos únicamente a recipientes utilizados, y respetando su capacidad\n",
    "    m.addConstrs((gp.quicksum(w[i] * x[i, j] for i in I) <= b * y[j] for j in J), \"capac\")\n",
    "    \n",
    "    # Resolver el modelo\n",
    "    m.optimize()\n",
    "\n",
    "    # Mostrar la solución\n",
    "    for j in J:\n",
    "        if y[j].x >= 0.99:\n",
    "            print(\"Se usó el recipiente {}.\".format(j))\n",
    "        \n",
    "    for i in I:\n",
    "        for j in J:\n",
    "            if x[i, j].x >= 0.99:\n",
    "                print(\"Objeto {} asignado al recipiente {}.\".format(i, j))\n",
    "\n",
    "except GurobiError as e:\n",
    "    print('Error code ' + str(e.errno) + \": \" + str(e))\n",
    "\n",
    "except AttributeError:\n",
    "    print('Encountered an attribute error')"
   ]
  },
  {
   "cell_type": "code",
   "execution_count": null,
   "metadata": {},
   "outputs": [],
   "source": []
  }
 ],
 "metadata": {
  "kernelspec": {
   "display_name": "Python 3 (ipykernel)",
   "language": "python",
   "name": "python3"
  },
  "language_info": {
   "codemirror_mode": {
    "name": "ipython",
    "version": 3
   },
   "file_extension": ".py",
   "mimetype": "text/x-python",
   "name": "python",
   "nbconvert_exporter": "python",
   "pygments_lexer": "ipython3",
   "version": "3.10.12"
  }
 },
 "nbformat": 4,
 "nbformat_minor": 2
}
