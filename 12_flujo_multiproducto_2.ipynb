{
 "cells": [
  {
   "cell_type": "markdown",
   "metadata": {},
   "source": [
    "# Cuaderno 12: Flujos multiproducto \n",
    "# (Formulación alternativa)\n",
    "\n",
    "$\\newcommand{\\card}[1]{\\left| #1 \\right|}$\n",
    "$\\newcommand{\\tabulatedset}[1]{\\left\\{ #1 \\right\\}}$\n",
    "$\\newcommand{\\ZZ}{\\mathbb{Z}}$\n",
    "$\\newcommand{\\RR}{\\mathbb{R}}$\n",
    "\n",
    "Dados: \n",
    "* un grafo dirigido $D=(V,A)$; \n",
    "* un conjunto $K$ de productos; \n",
    "* un vector de capacidades $u \\in \\ZZ^{A}_+$  asociadas a los arcos de $D$; \n",
    "* un vector $c \\in \\ZZ^{A}$ de costos de transporte unitarios asociados a los arcos de $D$; y, \n",
    "* un nodo origen $s_k$, un nodo destino $t_k$ y una demanda $d_k$ asociados a cada producto $k \\in K$.\n",
    "\n",
    "El *problema de flujo multiproducto de costo mínimo* consiste en encontrar un flujo $x \\in \\RR^{A \\times K}$  que satisfaga las siguientes condiciones:\n",
    "\n",
    "* para cada producto $k \\in K$, el flujo neto en $s_k$ (es decir, el flujo total de $k$ sobre los arcos que entran a $s_k$ menos el flujo total de $k$ sobre los arcos que salen de $s_k$) debe ser igual al negativo de la demanda $-d_k$ del producto, el flujo neto en $t_k$ debe ser igual a la demanda $d_k$, y el flujo neto en los demás nodos debe ser cero;  \n",
    "* para cada arco $(i,j) \\in A$, el flujo agregado de todos los productos sobre $(i,j)$ debe ser menor o igual a su capacidad $u_{ij}$;\n",
    "* el costo total del flujo debe ser mínimo. Este costo se calcula al multiplicar el flujo total sobre cada arco $(i,j) \\in A$ por su correspondiente costo unitario de transportación $c_{ij}$, y sumar estos valores sobre todos los arcos de la red.\n",
    "\n",
    "\n",
    "Utilizando variables continuas no negativas $x_{ij}^k$ para representar el flujo del producto $k \\in K$ sobre el arco $(i, j) \\in A$, el problema de flujo multiproducto de costo mínimo puede formularse como el siguiente programa lineal:\n",
    "\n",
    "\\begin{align*}\n",
    "\\min &\\sum_{k \\in K} \\sum_{(i,j) \\in A} c_{ij} x_{ij}^k\\\\ \n",
    "& \\mbox{s.r.}\\\\\n",
    "&\\sum_{(j, i) \\in A} x_{ji}^k - \\sum_{(i, j) \\in A} x_{ij}^k = b_i^k, \\quad \\forall i \\in V, k \\in K\\\\\n",
    "&\\sum_{k \\in K} x_{ij}^k \\leq u_{ij}, \\quad \\forall (i, j) \\in A, \\\\\n",
    "& x_{ij}^k \\geq 0, \\quad \\forall (i, j) \\in A, k \\in K.\n",
    "\\end{align*}\n",
    "\n",
    "Los valores del parámetro $b_i^k$ se definen por medio de:\n",
    "$$\n",
    "b_i^k = \\left\\{\n",
    "\\begin{array}{rl}\n",
    "-d_k, & \\mbox{ si $i=s_k$,}\\\\\n",
    "d_k, & \\mbox{ si $i=t_k$,}\\\\\n",
    "0, & \\mbox{ en los demás casos.}\n",
    "\\end{array}\n",
    "\\right.\n",
    "$$\n",
    "\n",
    "Vamos a implementar este modelo usando la interfaz Python de Gurobi.\n",
    "\n"
   ]
  },
  {
   "cell_type": "markdown",
   "metadata": {},
   "source": [
    "Definimos primero los conjuntos y parámetros del modelo:"
   ]
  },
  {
   "cell_type": "code",
   "execution_count": null,
   "metadata": {},
   "outputs": [],
   "source": [
    "import gurobipy as gp\n",
    "from gurobipy import GRB\n",
    "\n",
    "# Productos y nodos del grafo\n",
    "K, s, t, d = gp.multidict({1: (2, 5, 10),\n",
    "                        2: (1, 8, 15),\n",
    "                        3: (3, 7, 12)})\n",
    "V = gp.tuplelist(range(1,9))\n",
    "\n",
    "# Arcos, capacidades y costos\n",
    "A, u, c = gp.multidict({\n",
    "  (2, 1):  (10, 1),\n",
    "  (3, 4):  (20, 1),\n",
    "  (6, 5):  (10, 1),\n",
    "  (8, 7):  (12, 1),\n",
    "  (2, 4):  (10, 1),\n",
    "  (4, 6):  (30, 2),\n",
    "  (6, 8):  (20, 1),\n",
    "  (1, 3):  (25, 2),\n",
    "  (3, 5):  (12, 1),\n",
    "  (5, 7):  (12, 3),\n",
    "  (1, 4):  (15, 1),\n",
    "  (4, 5):  (25, 1),\n",
    "  (5, 8):  (26, 1)})\n",
    "\n",
    "# --- Desde aquí los valores se calculan en función de los anteriores\n",
    "# Demandas asociadas a nodos y productos\n",
    "b= {}\n",
    "for i in V:\n",
    "    for k in K:\n",
    "        b[i,k] = -d[k] if i==s[k] else (d[k] if i==t[k] else 0) \n"
   ]
  },
  {
   "cell_type": "markdown",
   "metadata": {},
   "source": [
    "Podemos graficar esta instancia usando el módulo `matplotlib`:"
   ]
  },
  {
   "cell_type": "code",
   "execution_count": null,
   "metadata": {},
   "outputs": [],
   "source": [
    "import networkx as nx\n",
    "import matplotlib.pyplot as plt\n",
    "D = nx.DiGraph()\n",
    "D.add_nodes_from(V)\n",
    "demand_labels= {i:'' for i in V}\n",
    "for i in V:\n",
    "    for k in K:\n",
    "        demand_labels[i]+= str(-d[k]) + ':' + str(k) if i==s[k] else (\n",
    "            str(d[k]) + ':' + str(k) if i==t[k] else '')\n",
    "#demand_labels= {i : str(i) + '\\n' + ', '.join([str(b[i,k]) for k in K]) for i in V}\n",
    "node_labels= {i : str(i) + '\\n' + demand_labels[i] for i in V}\n",
    "D.add_edges_from(A)\n",
    "edge_labels = {(i,j) : str(u[i,j]) + ',' + str(c[i,j]) for (i,j) in A}\n",
    "plt.figure(figsize=(10,4))\n",
    "pos = {1 : (1,1), 2 : (1,2), 3 : (2,1), 4 : (2,2), 5 : (3,1), 6 :(3,2), 7 :(4,1), 8 :(4,2)}\n",
    "nx.draw_networkx(D, pos, labels= node_labels, node_color='cyan', node_size=1500, margins=0.15)\n",
    "nx.draw_networkx_edge_labels(D, pos, edge_labels)\n",
    "plt.show()"
   ]
  },
  {
   "cell_type": "markdown",
   "metadata": {},
   "source": [
    "Creamos ahora el objeto modelo y las variables $x_{ij}^k$ del flujo multiproducto. Observar que las variables están indexadas por los conjuntos de productos y de arcos.\n",
    "\n",
    "Si no se especifica el argumento `vtype` en la llamada a la función `addVars`, por defecto las variables creadas son continuas y no negativas.\n"
   ]
  },
  {
   "cell_type": "code",
   "execution_count": null,
   "metadata": {},
   "outputs": [],
   "source": [
    "# Crear el objeto modelo\n",
    "m = gp.Model('flujo-multiproducto')\n",
    "\n",
    "# Crear las variables\n",
    "x = m.addVars(A, K, name=\"x\")"
   ]
  },
  {
   "cell_type": "markdown",
   "metadata": {},
   "source": [
    "Definimos la función objetivo"
   ]
  },
  {
   "cell_type": "code",
   "execution_count": null,
   "metadata": {},
   "outputs": [],
   "source": [
    "# Crear la función objetivo\n",
    "m.setObjective(gp.quicksum(c[i,j]*x[i,j,k] \n",
    "                        for (i,j) in A for k in K), \n",
    "               GRB.MINIMIZE)"
   ]
  },
  {
   "cell_type": "markdown",
   "metadata": {},
   "source": [
    "Definimos las restricciones del modelo:"
   ]
  },
  {
   "cell_type": "code",
   "execution_count": null,
   "metadata": {},
   "outputs": [],
   "source": [
    "# Restricciones de demanda en los nodos\n",
    "m.addConstrs(\n",
    "    (x.sum('*',i,k) - x.sum(i,'*', k)  == b[i,k]\n",
    "    for k in K for i in V), \"demanda\")\n",
    "\n",
    "# Restricciones de capacidades en los arcos\n",
    "m.addConstrs(\n",
    "    (x.sum(i,j,'*') <= u[i,j] for i,j in A), \"capacidad\")"
   ]
  },
  {
   "cell_type": "markdown",
   "metadata": {},
   "source": [
    "A menudo es útil exportar el modelo a un archivo de texto para poder revisarlo. Esto puede hacerse con el método `write`."
   ]
  },
  {
   "cell_type": "code",
   "execution_count": null,
   "metadata": {},
   "outputs": [],
   "source": [
    "# Escribir el modelo a un archivo\n",
    "m.write('flujo_multiproducto.lp')"
   ]
  },
  {
   "cell_type": "markdown",
   "metadata": {},
   "source": [
    "Finalmente, resolvemos el modelo y mostramos la solución. Notar que los valores de las variables pueden recuperarse también empleando el método `getAttr`:"
   ]
  },
  {
   "cell_type": "code",
   "execution_count": null,
   "metadata": {},
   "outputs": [],
   "source": [
    "# Resolver el modelo\n",
    "m.optimize()\n",
    "\n",
    "# Escribir la solución\n",
    "if m.SolCount > 0:\n",
    "    # Recuperar los valores de las variables\n",
    "    vx = m.getAttr('x', x)\n",
    "    for k in K:\n",
    "        print('\\nFlujos optimos para {}:'.format(k))\n",
    "        for i,j in A:\n",
    "            if vx[i,j,k] > 0:\n",
    "                print('{} -> {}: {}'.format(i, j, int(vx[i,j,k])))"
   ]
  },
  {
   "cell_type": "markdown",
   "metadata": {},
   "source": [
    "Es posible visualizar la solución empleando el módulo `matplotlib`:"
   ]
  },
  {
   "cell_type": "code",
   "execution_count": null,
   "metadata": {},
   "outputs": [],
   "source": [
    "D = nx.DiGraph()\n",
    "D.add_nodes_from(V)\n",
    "demand_labels= {i:'' for i in V}\n",
    "for i in V:\n",
    "    for k in K:\n",
    "        demand_labels[i]+= str(-d[k]) + ':' + str(k) if i==s[k] else (\n",
    "            str(d[k]) + ':' + str(k) if i==t[k] else '')\n",
    "#demand_labels= {i : str(i) + '\\n' + ', '.join([str(b[i,k]) for k in K]) for i in V}\n",
    "node_labels= {i : str(i) + '\\n' + demand_labels[i] for i in V}\n",
    "D.add_edges_from(A)\n",
    "edge_labels = {(i,j) : '/'.join([str(int(vx[i,j,k])) for k in K]) + '/' + str(u[i,j])  for (i,j) in A}\n",
    "vxt = {(i,j) : sum(vx[i,j,k] for k in K) for (i,j) in A}\n",
    "edge_colors = ['#ff007f' if vxt[i,j]>=0.1 else '#9dbaea' for (i,j) in list(D.edges())]\n",
    "plt.figure(figsize=(10,4))\n",
    "pos = {1 : (1,1), 2 : (1,2), 3 : (2,1), 4 : (2,2), 5 : (3,1), 6 :(3,2), 7 :(4,1), 8 :(4,2)}\n",
    "nx.draw_networkx(D, pos, labels= node_labels, node_color='cyan', node_size=1500, margins=0.15, edge_color= edge_colors)\n",
    "nx.draw_networkx_edge_labels(D, pos, edge_labels)\n",
    "plt.show()"
   ]
  },
  {
   "cell_type": "markdown",
   "metadata": {},
   "source": [
    "## Código completo\n",
    "\n",
    "Se reproduce a continuación el código completo del modelo anterior."
   ]
  },
  {
   "cell_type": "code",
   "execution_count": null,
   "metadata": {},
   "outputs": [],
   "source": [
    "# Implementación de modelos de programación lineal entera\n",
    "# Problema de flujo multiproducto de costo mínimo (mincost flow)\n",
    "\n",
    "# Luis M. Torres (EPN 2022)\n",
    "\n",
    "import gurobipy as gp\n",
    "from gurobipy import GRB\n",
    "\n",
    "# Productos y nodos del grafo\n",
    "K, s, t, d = gp.multidict({1: (2, 5, 10),\n",
    "                        2: (1, 8, 15),\n",
    "                        3: (3, 7, 12)})\n",
    "V = gp.tuplelist(range(1,9))\n",
    "\n",
    "# Arcos, capacidades y costos\n",
    "A, u, c = gp.multidict({\n",
    "  (2, 1):  (10, 1),\n",
    "  (3, 4):  (20, 1),\n",
    "  (6, 5):  (10, 1),\n",
    "  (8, 7):  (12, 1),\n",
    "  (2, 4):  (10, 1),\n",
    "  (4, 6):  (30, 2),\n",
    "  (6, 8):  (20, 1),\n",
    "  (1, 3):  (25, 2),\n",
    "  (3, 5):  (12, 1),\n",
    "  (5, 7):  (12, 3),\n",
    "  (1, 4):  (15, 1),\n",
    "  (4, 5):  (25, 1),\n",
    "  (5, 8):  (26, 1)})\n",
    "\n",
    "# --- Desde aquí los valores se calculan en función de los anteriores\n",
    "# Demandas asociadas a nodos y productos\n",
    "b= {}\n",
    "for i in V:\n",
    "    for k in K:\n",
    "        b[i,k] = -d[k] if i==s[k] else (d[k] if i==t[k] else 0) \n",
    "\n",
    "try:\n",
    "    # Crear el objeto modelo\n",
    "    m = gp.Model('flujo-multiproducto')\n",
    "\n",
    "    # Crear las variables\n",
    "    x = m.addVars(A, K, name=\"x\")\n",
    "\n",
    "    # Crear la función objetivo\n",
    "    m.setObjective(gp.quicksum(c[i,j]*x[i,j,k] for (i,j) in A for k in K), GRB.MINIMIZE)\n",
    "\n",
    "    # Restricciones de demanda en los nodos\n",
    "    m.addConstrs(\n",
    "        (x.sum('*',i,k) - x.sum(i,'*', k)  == b[i,k]\n",
    "        for k in K for i in V), \"demanda\")\n",
    "\n",
    "    # Restricciones de capacidades en los arcos\n",
    "    m.addConstrs((x.sum(i,j,'*') <= u[i,j] for i,j in A), \"capacidad\")\n",
    "\n",
    "    # Escribir el modelo a un archivo\n",
    "    m.write('flujo_multiproducto.lp')\n",
    "\n",
    "    # Resolver el modelo\n",
    "    m.optimize()\n",
    "\n",
    "    # Escribir la solución\n",
    "    if m.SolCount > 0:\n",
    "        # Recuperar los valores de las variables\n",
    "        vx = m.getAttr('x', x)\n",
    "        for k in K:\n",
    "            print('\\nFlujos optimos para {}:'.format(k))\n",
    "            for i,j in A:\n",
    "                if vx[i,j,k] > 0:\n",
    "                    print('{} -> {}: {}'.format(i, j, int(vx[i,j,k])))\n",
    "                \n",
    "except GurobiError as e:\n",
    "    print('Se produjo un error de Gurobi: codigo: ' + str(e.errno) + \": \" + str(e))\n",
    "\n",
    "except AttributeError:\n",
    "    print('Se produjo un error de atributo')"
   ]
  },
  {
   "cell_type": "markdown",
   "metadata": {},
   "source": [
    "## Flujo multiproducto no divisible\n",
    "\n",
    "Suponer que el transporte del producto $k$ desde el nodo $s_k$ hasta el nodo $t_k$ debe realizarse a lo largo de un único camino. ¿Cómo cambia el modelo?"
   ]
  },
  {
   "cell_type": "code",
   "execution_count": null,
   "metadata": {},
   "outputs": [],
   "source": [
    "# Agregar variables binarias de seleccion de arcos\n",
    "y = m.addVars(A, K, name=\"y\", vtype = GRB.BINARY)\n",
    "\n",
    "# Agregar restricciones de grado\n",
    "m.addConstrs((y.sum('*',i,k) <= 1 for i in V for k in K), \"entrante\")\n",
    "m.addConstrs((y.sum(i,'*',k) <= 1 for i in V for k in K), \"saliente\")\n",
    "\n",
    "# Agregar restricciones de uso de arcos \n",
    "m.addConstrs((x[i,j,k] <= u[i,j]*y[i,j,k] for i,j in A for k in K), \"uso\")\n",
    "\n",
    "# Actualizar el modelo\n",
    "m.update()\n",
    "\n",
    "# Escribir el modelo modificado a un archivo\n",
    "m.write('flujo_no_divisible.lp')\n",
    "\n",
    "# Resolver nuevamente\n",
    "m.optimize()\n",
    "\n",
    "# Mostrar la solución\n",
    "if m.SolCount > 0:\n",
    "    vx = m.getAttr('x', x)\n",
    "    for k in K:\n",
    "        print('\\nFlujos optimos para {}:'.format(k))\n",
    "        for i,j in A:\n",
    "            if vx[i,j,k] > 0:\n",
    "                print('{} -> {}: {}'.format(i, j, vx[i,j,k]))\n"
   ]
  },
  {
   "cell_type": "markdown",
   "metadata": {},
   "source": [
    "Podemos visualizar esta nueva solución con `matplotlib`:"
   ]
  },
  {
   "cell_type": "code",
   "execution_count": null,
   "metadata": {},
   "outputs": [],
   "source": [
    "D = nx.DiGraph()\n",
    "D.add_nodes_from(V)\n",
    "demand_labels= {i:'' for i in V}\n",
    "for i in V:\n",
    "    for k in K:\n",
    "        demand_labels[i]+= str(-d[k]) + ':' + str(k) if i==s[k] else (\n",
    "            str(d[k]) + ':' + str(k) if i==t[k] else '')\n",
    "#demand_labels= {i : str(i) + '\\n' + ', '.join([str(b[i,k]) for k in K]) for i in V}\n",
    "node_labels= {i : str(i) + '\\n' + demand_labels[i] for i in V}\n",
    "D.add_edges_from(A)\n",
    "edge_labels = {(i,j) : '/'.join([str(int(vx[i,j,k])) for k in K]) + '/' + str(u[i,j])  for (i,j) in A}\n",
    "vxt = {(i,j) : sum(vx[i,j,k] for k in K) for (i,j) in A}\n",
    "edge_colors = ['#ff007f' if vxt[i,j]>=0.1 else '#9dbaea' for (i,j) in list(D.edges())]\n",
    "plt.figure(figsize=(10,4))\n",
    "pos = {1 : (1,1), 2 : (1,2), 3 : (2,1), 4 : (2,2), 5 : (3,1), 6 :(3,2), 7 :(4,1), 8 :(4,2)}\n",
    "nx.draw_networkx(D, pos, labels= node_labels, node_color='cyan', node_size=1500, margins=0.15, edge_color= edge_colors)\n",
    "nx.draw_networkx_edge_labels(D, pos, edge_labels)\n",
    "plt.show()"
   ]
  },
  {
   "cell_type": "code",
   "execution_count": null,
   "metadata": {},
   "outputs": [],
   "source": []
  }
 ],
 "metadata": {
  "kernelspec": {
   "display_name": "Python 3 (ipykernel)",
   "language": "python",
   "name": "python3"
  },
  "language_info": {
   "codemirror_mode": {
    "name": "ipython",
    "version": 3
   },
   "file_extension": ".py",
   "mimetype": "text/x-python",
   "name": "python",
   "nbconvert_exporter": "python",
   "pygments_lexer": "ipython3",
   "version": "3.9.6"
  }
 },
 "nbformat": 4,
 "nbformat_minor": 2
}
