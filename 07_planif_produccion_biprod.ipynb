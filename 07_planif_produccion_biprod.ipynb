{
 "cells": [
  {
   "cell_type": "markdown",
   "metadata": {},
   "source": [
    "# Cuaderno 7: Planificación de la producción (2)\n",
    "# (Varios productos, capacidad de producción)\n",
    "\n",
    "$\\newcommand{\\card}[1]{\\left| #1 \\right|}$\n",
    "$\\newcommand{\\ZZ}{\\mathbb{Z}_+}$\n",
    "$\\newcommand{\\tabulatedset}[1]{\\left\\{ #1 \\right\\}}$\n",
    "\n",
    "Existen numerosas variantes del problema de planificación de la producción (*lot sizing*). Presentamos aquí una variante donde se planifica la producción de dos bienes, tomando en cuenta la capacidad de producción instalada.\n",
    "\n",
    "Como ejemplo, consideremos la planificación de los niveles óptimos de producción de una empresa dedicada a la producción de dos tipos de barras de cereales, sujeta a las siguientes condiciones:\n",
    "\n",
    "* El plan de producción se organiza sobre un horizonte de tiempo de un año, dividido en un conjunto $T= \\tabulatedset{1, \\ldots, 12}$ de períodos mensuales. \n",
    "* Si en un período $t \\in T$ se toma la decisión de producir (cualquiera de los dos productos), se incurre en un\n",
    "  costo fijo igual a $c_t$ (en USD). \n",
    "* Denotaremos por $I:=\\{1,2\\}$ al conjunto que representa los dos tipos de barras de cereales a producir. Para cada período $t \\in T$ y cada tipo de barra $i \\in I$, se conocen la demanda estimada de cada en el mercado $d_{it}$ (en lotes de barras) y el costo unitario de su producción $p_{it}$ (en USD / lote). \n",
    "* En cada período se debe satisfacer toda la demanda estimada de cada tipo de barra. Si en un período el nivel de producción supera a la demanda, es posible almacenar el producto excedente a un costo unitario igual a $h_t$ (USD/lote). Este costo es el mismo para ambos tipos de barras. \n",
    "* La capacidad de producción de la empresa es constante y está limitada a un total de $C$ lotes por período, entre los dos tipos de barras.\n",
    "* La producción se realiza por lotes. No es posible producir fracciones de un lote.\n",
    "  \n",
    "Se requiere determinar los niveles de producción mensuales para cada tipo de barras, para satisfacer toda la demanda al menor costo posible. Definimos las siguientes variables de decisión:\n",
    "\n",
    "* variables enteras $x_{it}, \\, i \\in I, \\, t \\in T,$ que indican la cantidad de lotes del tipo $i$ a producir en el período $t$;\n",
    "* variables binarias $y_t, \\, t \\in T,$ tales que $y_t = 1$ si y solamente si se toma la decisión producir al menos un tipo de barra en el período $t$;\n",
    "* variables enteras $z_{it}, \\, i \\in I, \\, t \\in T,$ que indican la cantidad de lotes de barras del tipo $i$ a almacenar del período $t$ al período $t+1$.\n",
    "\n",
    "Con estas definiciones, el problema puede ser formulado como el siguiente programa lineal entero:\n",
    "\n",
    "\\begin{align*}\n",
    "\\min &\\sum_{t \\in T} c_t y_t  + \\sum_{i \\in I} \\sum_{t \\in T} (p_{it} x_{it} + h_t z_{it})\\\\ \n",
    "& \\mbox{s.r.}\\\\\n",
    "& x_{i1} = d_{i1} + z_{i1}, \\quad \\forall i \\in I, \\\\\n",
    "& x_{it} + z_{i,t-1} = d_{it} + z_{it}, \\quad \\forall i \\in I,  t \\in T \\setminus \\{1\\}, \\\\\n",
    "& \\sum_{i \\in I} x_{it} \\leq C y_t, \\quad \\forall t \\in T, \\\\\n",
    "& y_t \\in \\{0, 1\\}, \\quad \\forall t \\in T, \\\\\n",
    "&x_{it}, z_{it} \\in \\ZZ, \\quad \\forall i \\in I, t \\in T.\n",
    "\\end{align*}\n",
    "\n",
    "La función objetivo mide los costos fijos de producción, los costos variables de producción y los costos de almacenamiento. Los costos fijos de producción y los costos de almacenamiento son independientes del tipo de producto, mientras que los costos variables dependen del producto.\n",
    "\n",
    "Las dos primeras familias de restricciones establecen, por separado para cada tipo de producto, el balance entre la cantidad a producir, la cantidad almacenada desde el período previo (excepto para el primer período), la demanda y la cantidad a almacenar para el próximo período. Observar que la no negatividad de las variables $z_{it}$ implica que el nivel de producción en cada período debe ser lo suficientemente alto como para satisfacer la demanda de ese período, para cada tipo de producto.\n",
    "\n",
    "La tercera familia de restricciones contiene restricciones de enforzamiento que indican que $x_{it}$ solamente puede tomar valores mayores a cero, si $y_t = 1$, es decir, si se decide producir en el período $t$. Adicionalmente, en este caso la cantidad total producida en el período $t$ (incluyendo todos los tipos de productos) no debe superar la capacidad de la planta.\n",
    "\n",
    "Vamos a implementar este programa utilizando la interfaz Python de Gurobi."
   ]
  },
  {
   "cell_type": "markdown",
   "metadata": {},
   "source": [
    "Definimos primero los conjuntos $I$ y $T$, y los parámetros $p$, $c$, $h$, $d$ y $C$:"
   ]
  },
  {
   "cell_type": "code",
   "execution_count": null,
   "metadata": {},
   "outputs": [],
   "source": [
    "import gurobipy as gp\n",
    "from gurobipy import GRB\n",
    "\n",
    "# Conjuntos y parámetros del modelo\n",
    "# Costos fijos y costos de almacenamiento por período:\n",
    "T, c, h = gp.multidict({\n",
    "    1 : (400, 10),   2 : (450, 12),  3 : (400, 10),\n",
    "    4 : (470,  9),   5 : (450, 12),  6 : (400, 10),\n",
    "    7 : (350, 10),   8 : (400, 12),  9 : (450, 10),\n",
    "   10 : (450, 12),  11 : (500, 15), 12 : (500,  5)})\n",
    "\n",
    "\n",
    "# Costos de producción y demanda por (producto-período):\n",
    "IxT, p, d = gp.multidict({\n",
    "    (1, 1) : (48, 20),   (1, 2) : (47, 20),  (1, 3) : (38, 25),\n",
    "    (1, 4) : (45, 25),   (1, 5) : (47, 25),  (1, 6) : (42, 20),\n",
    "    (1, 7) : (33, 20),   (1, 8) : (39, 18),  (1, 9) : (45, 18),\n",
    "    (1,10) : (47, 20),   (1,11) : (50, 25),  (1,12) : (55, 27),\n",
    "    (2, 1) : (44, 15),   (2, 2) : (42, 14),  (2, 3) : (35, 15),\n",
    "    (2, 4) : (41, 16),   (2, 5) : (42, 15),  (2, 6) : (38, 17),\n",
    "    (2, 7) : (33, 18),   (2, 8) : (36, 17),  (2, 9) : (41, 15),\n",
    "    (2,10) : (42, 14),   (2,11) : (45, 15),  (2,12) : (47, 20)})\n",
    "\n",
    "# Capacidad de la planta (lotes por período)\n",
    "C = 40\n",
    "\n",
    "# Recuperar conjunto I de productos desde IxT\n",
    "I = gp.tuplelist(set(i for (i,t) in IxT))\n",
    "\n",
    "# Definir conjunto T \\ {1}\n",
    "T2 = [t for t in T if not t==1]\n",
    "\n",
    "print(\"T= {}\".format(T))\n",
    "print(\"I= {}\".format(I))\n",
    "print(\"IxT= {}\".format(IxT))\n",
    "print(\"T2= {}\".format(T2))\n",
    "print(\"c= {}\".format(c))\n",
    "print(\"h= {}\".format(h))\n",
    "print(\"p= {}\".format(p))\n",
    "print(\"d= {}\".format(d))\n",
    "print(\"C= {}\".format(C))"
   ]
  },
  {
   "cell_type": "markdown",
   "metadata": {},
   "source": [
    "Definimos ahora el objeto modelo y las variables del modelo:"
   ]
  },
  {
   "cell_type": "code",
   "execution_count": null,
   "metadata": {},
   "outputs": [],
   "source": [
    "m = gp.Model('lot-sizing-2')\n",
    "\n",
    "# lotes a producir\n",
    "x = m.addVars(I, T, vtype = GRB.INTEGER, name=\"x\")\n",
    "# alternativa:\n",
    "# x = m.addVars(IxT, vtype = GRB.INTEGER, name=\"x\")\n",
    "\n",
    "# se produce / no se produce en cada periodo\n",
    "y = m.addVars(T, vtype = GRB.BINARY, name=\"y\")\n",
    "\n",
    "# lotes a almacenar\n",
    "z = m.addVars(I, T, vtype = GRB.INTEGER, name=\"z\")"
   ]
  },
  {
   "cell_type": "markdown",
   "metadata": {},
   "source": [
    "Construimos la función objetivo a partir de sus tres términos:"
   ]
  },
  {
   "cell_type": "code",
   "execution_count": null,
   "metadata": {},
   "outputs": [],
   "source": [
    "# costos variables de producción\n",
    "c_produccion = x.prod(p, '*', '*')\n",
    "\n",
    "# costos fijos de producción\n",
    "c_fijo = y.prod(c, '*')\n",
    "\n",
    "# costos de almacenamiento\n",
    "almacenamiento = gp.quicksum(h[t]*z[i,t] for i in I for t in T)\n",
    "\n",
    "m.setObjective(c_produccion + c_fijo + almacenamiento, GRB.MINIMIZE)"
   ]
  },
  {
   "cell_type": "markdown",
   "metadata": {},
   "source": [
    "Finalmente, implementamos las restricciones del modelo:\n",
    "1. Balance entre produccion, almacenamiento y demanda."
   ]
  },
  {
   "cell_type": "code",
   "execution_count": null,
   "metadata": {},
   "outputs": [],
   "source": [
    "# Balance primer período\n",
    "m.addConstrs((x[i,1] - z[i,1] == d[i,1] for i in I), \"balance[1]\")\n",
    "\n",
    "# Balance períodos siguientes\n",
    "m.addConstrs((x[i,t] + z[i,t-1] - z[i,t] == d[i,t] \n",
    "              for i in I for t in T2), \"balance\")"
   ]
  },
  {
   "cell_type": "markdown",
   "metadata": {},
   "source": [
    "2. Solamente puede producirse cuando $y_t =1$, y respetando la capacidad de la planta."
   ]
  },
  {
   "cell_type": "code",
   "execution_count": null,
   "metadata": {},
   "outputs": [],
   "source": [
    "# y[t]=0 => sum_i (x[i, t])=0\n",
    "m.addConstrs((x.sum('*', t) <= C*y[t] for t in T), \"capacidad\")"
   ]
  },
  {
   "cell_type": "markdown",
   "metadata": {},
   "source": [
    "Resolvemos el modelo:"
   ]
  },
  {
   "cell_type": "code",
   "execution_count": null,
   "metadata": {},
   "outputs": [],
   "source": [
    "m.optimize()"
   ]
  },
  {
   "cell_type": "markdown",
   "metadata": {},
   "source": [
    "Mostramos la solución: producción, demanda y almacenamiento de cada producto en cada período."
   ]
  },
  {
   "cell_type": "code",
   "execution_count": null,
   "metadata": {},
   "outputs": [],
   "source": [
    "# Extraer valores de las soluciones\n",
    "vx = m.getAttr('x', x)\n",
    "vy = m.getAttr('x', y)\n",
    "vz = m.getAttr('x', z)\n",
    "\n",
    "# Mostrar tabla con los valores\n",
    "print('Plan óptimo de producción:')\n",
    "for i in I:\n",
    "    print('Producto {}'.format(i))\n",
    "    print('t\\t\\tx_t\\t\\ty_t\\t\\tz_t\\t\\td_t')\n",
    "    for t in T:\n",
    "        print('{}\\t\\t{}\\t\\t{}\\t\\t{}\\t\\t{}'.format(t, vx[i,t], vy[t], vz[i,t], d[i,t]))"
   ]
  },
  {
   "cell_type": "markdown",
   "metadata": {},
   "source": [
    "### Escribir tablas en Python\n",
    "Existen algunos módulos de Python que facilitan la escritura de tablas en la consola. Uno de ellos es `tabulate`. Para instalar este módulo (si no está disponible aún en el sistema) se usa el comando `pip install`. Luego de ello será necesario **reiniciar el kernel** de este cuaderno."
   ]
  },
  {
   "cell_type": "code",
   "execution_count": null,
   "metadata": {},
   "outputs": [],
   "source": [
    "# correr esto desde una terminal para instalar tabulate\n",
    "# pip install --user tabulate"
   ]
  },
  {
   "cell_type": "markdown",
   "metadata": {},
   "source": [
    "Una vez instalado el módulo, podemos hacer uso de la función `tabulate` dentro del mismo, en combinación con el comando `print`. De esta manera, podemos escribir una lista bidimensional (lista de listas) como una tabla de manera sencilla. La función admite parámetros adicionales para formatear la escritura, uno de ellos es `headers`, que permite especificar los encabezados de las columnas. Otros detalles pueden ser consultados en [esta página web.](https://pypi.org/project/tabulate/)"
   ]
  },
  {
   "cell_type": "code",
   "execution_count": null,
   "metadata": {},
   "outputs": [],
   "source": [
    "from tabulate import tabulate\n",
    "\n",
    "# Extraer valores de las soluciones\n",
    "vx = m.getAttr('x', x)\n",
    "vy = m.getAttr('x', y)\n",
    "vz = m.getAttr('x', z)\n",
    "\n",
    "# Mostrar tabla con los valores\n",
    "for i in I:\n",
    "    print('Producto {}'.format(i))\n",
    "    tabla = [[t, vx[i,t], vy[t], vz[i,t], d[i,t]] for t in T]\n",
    "    # print(tabla)\n",
    "    # print(tabulate(tabla))\n",
    "    print(tabulate(tabla, headers=['t', 'x_it', 'y_t', 'z_it', 'd_it']))"
   ]
  },
  {
   "cell_type": "markdown",
   "metadata": {},
   "source": [
    "## Código completo\n",
    "\n",
    "Se reproduce a continuación el código completo del modelo anterior. En esta versión es posible modificar el número de productos."
   ]
  },
  {
   "cell_type": "code",
   "execution_count": null,
   "metadata": {},
   "outputs": [],
   "source": [
    "# Curso de implementación de programas lineales enteros\n",
    "# Ejemplo: Modelo de planificación de la producción con varios productos y capacidad limitada de producción\n",
    "# EPN (2023)\n",
    "\n",
    "import gurobipy as gp\n",
    "from gurobipy import GRB\n",
    "from random import randint, seed\n",
    "\n",
    "try:\n",
    "    # Número de productos\n",
    "    n = 10\n",
    "    \n",
    "    # Conjuntos y parametros del modelo\n",
    "    # Costos fijos y costos de almacenamiento por período:\n",
    "    T, c, h = gp.multidict({\n",
    "        1 : (200*n, 10),   2 : (270*n, 12),  3 : (200*n, 10),\n",
    "        4 : (250*n,  9),   5 : (270*n, 12),  6 : (200*n, 10),\n",
    "        7 : (180*n, 10),   8 : (200*n, 12),  9 : (225*n, 10),\n",
    "       10 : (270*n, 12),  11 : (250*n, 15), 12 : (250*n,  5)})\n",
    "\n",
    "    # Conjunto de productos\n",
    "    I = gp.tuplelist(i+1 for i in range(n))\n",
    "    \n",
    "    # Costos de producción por (producto-período):\n",
    "    seed(0)\n",
    "    p = gp.tupledict({(i,t) : randint(40,60) for i in I for t in T})\n",
    "    \n",
    "    # Demandas estimadas por (producto-período):\n",
    "    d = gp.tupledict({(i,t) : randint(15,25) for i in I for t in T})\n",
    "\n",
    "    # Capacidad de la planta (lotes por período)\n",
    "    C = 80*n\n",
    "\n",
    "    # Definir conjunto T \\ {1}\n",
    "    T2 = [t for t in T if not t==1]\n",
    "    \n",
    "    # Crear el objeto modelo\n",
    "    m = gp.Model('lot-sizing-2')\n",
    "\n",
    "    # Variables de decisión\n",
    "    # lotes a producir\n",
    "    x = m.addVars(I, T, vtype = GRB.INTEGER, name=\"x\")\n",
    "\n",
    "    # se produce / no se produce en cada período\n",
    "    y = m.addVars(T, vtype = GRB.BINARY, name=\"y\")\n",
    "\n",
    "    # lotes a almacenar\n",
    "    z = m.addVars(I, T, vtype = GRB.INTEGER, name=\"z\")    \n",
    "\n",
    "    # Función objetivo\n",
    "    # costos variables de producción\n",
    "    c_produccion = x.prod(p, '*')\n",
    "\n",
    "    # costos fijos de producción\n",
    "    c_fijo = y.prod(c, '*')\n",
    "\n",
    "    # costos de almacenamiento\n",
    "    almacenamiento = gp.quicksum([h[t]*z[i,t] for i in I for t in T])\n",
    "\n",
    "    m.setObjective(c_produccion + c_fijo + almacenamiento, GRB.MINIMIZE)\n",
    "\n",
    "    # Restricciones\n",
    "    # balance primer período\n",
    "    m.addConstrs((x[i,1] - z[i,1] == d[i,1] for i in I), \"balance_ini\")\n",
    "\n",
    "    # balance períodos siguientes\n",
    "    m.addConstrs((x[i,t] + z[i,t-1] - z[i,t] == d[i,t] for i in I for t in T2), \"balance\")   \n",
    "    \n",
    "    # y[t]=0 => sum_i (x[i, t])=0\n",
    "    m.addConstrs((x.sum('*', t) <= C*y[t] for t in T), \"capacidad\")   \n",
    "    \n",
    "    # Resolver el modelo\n",
    "    m.optimize()\n",
    "    \n",
    "    # Mostrar solución\n",
    "    # extraer valores de las soluciones\n",
    "    vx = m.getAttr('x', x)\n",
    "    vy = m.getAttr('x', y)\n",
    "    vz = m.getAttr('x', z)\n",
    "\n",
    "    # mostrar tabla con los valores\n",
    "    print('Plan óptimo de producción:')\n",
    "    for i in I:\n",
    "        print('Producto {}'.format(i))\n",
    "        print('t\\t\\tx_t\\t\\ty_t\\t\\tz_t\\t\\td_t')\n",
    "        for t in T:\n",
    "            print('{}\\t\\t{}\\t\\t{}\\t\\t{}\\t\\t{}'.format(t, vx[i,t], vy[t], vz[i,t], d[i,t]))  \n",
    "            \n",
    "except GurobiError as e:\n",
    "    print('Se produjo un error de Gurobi: código: ' + str(e.errno) + \": \" + str(e))\n",
    "\n",
    "except AttributeError:\n",
    "    print('Se produjo un error de atributo')"
   ]
  },
  {
   "cell_type": "code",
   "execution_count": null,
   "metadata": {},
   "outputs": [],
   "source": []
  }
 ],
 "metadata": {
  "kernelspec": {
   "display_name": "Python 3",
   "language": "python",
   "name": "python3"
  },
  "language_info": {
   "codemirror_mode": {
    "name": "ipython",
    "version": 3
   },
   "file_extension": ".py",
   "mimetype": "text/x-python",
   "name": "python",
   "nbconvert_exporter": "python",
   "pygments_lexer": "ipython3",
   "version": "3.8.10"
  }
 },
 "nbformat": 4,
 "nbformat_minor": 2
}
