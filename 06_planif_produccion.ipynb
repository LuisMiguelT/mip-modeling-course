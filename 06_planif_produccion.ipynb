{
 "cells": [
  {
   "cell_type": "markdown",
   "metadata": {},
   "source": [
    "# Cuaderno 6: Planificación de la producción (Lot Sizing)\n",
    "\n",
    "$\\newcommand{\\card}[1]{\\left| #1 \\right|}$\n",
    "$\\newcommand{\\ZZ}{\\mathbb{Z}_+}$\n",
    "$\\newcommand{\\tabulatedset}[1]{\\left\\{ #1 \\right\\}}$\n",
    "\n",
    "En los problemas de planificación de la producción (*lot sizing*) se busca determinar los niveles óptimos de producción de uno o varios bienes dentro de un ciclo productivo, considerando restricciones como la demanda, la capacidad, los costos de producción, los costos de almacenamiento, entre otras.\n",
    "\n",
    "Consideraremos, a manera de ejemplo, la planificación de los niveles óptimos de producción de una empresa dedicada a la producción de alimento balanceado, sujeta a las siguientes condiciones:\n",
    "\n",
    "* El plan de producción se organiza sobre un horizonte de tiempo de un año, dividido en un conjunto $T= \\tabulatedset{1, \\ldots, 12}$ de períodos mensuales. \n",
    "* Si en un período $t \\in T$ se toma la decisión de producir, se incurre en un\n",
    "  costo fijo igual a $c_t$ (en USD). \n",
    "* Para cada período $t \\in T$, se conocen además la demanda estimada de balanceado en el mercado $d_t$ (en toneladas) y el costo unitario de su producción $p_t$ (en USD / tonelada). \n",
    "* En cada período se debe satisfacer toda la demanda estimada. Si en un período el nivel de producción supera a la demanda, es posible almacenar el producto excedente a un costo unitario igual a $h_t$ (USD/tonelada). \n",
    "* La producción se realiza por lotes de una tonelada de alimento balanceado. No es posible producir fracciones de un lote.\n",
    "  \n",
    "El problema consiste en determinar los niveles de producción mensuales que permitan satisfacer toda la demanda al menor costo posible. Para formular este problema como un programa lineal entero, definimos las siguientes variables de decisión:\n",
    "\n",
    "* variables enteras $x_t, \\, t \\in T,$ que indiquen la cantidad de lotes a producir en el período $t$;\n",
    "* variables binarias $y_t, \\, t \\in T,$ tales que $y_t = 1$ si y solamente si se toma la decisión producir en el período $t$;\n",
    "* variables enteras $z_t, \\, t \\in T,$ que indiquen la cantidad de lotes de producto a almacenar del período $t$ al período $t+1$.\n",
    "\n",
    "Con estas definiciones, el problema puede ser formulado como el siguiente programa lineal entero:\n",
    "\n",
    "\\begin{align*}\n",
    "\\min &\\sum_{t \\in T} (p_t x_t + c_t y_t + h_t z_t)\\\\ \n",
    "& \\mbox{s.r.}\\\\\n",
    "& x_1 = d_1 + z_1,\\\\\n",
    "& x_t + z_{t-1} = d_t + z_t, \\quad \\forall t \\in T \\setminus \\{1\\}, \\\\\n",
    "& x_t \\leq M y_t, \\quad \\forall t \\in T, \\\\\n",
    "& x_t, z_t \\in \\ZZ, y_t \\in \\{0, 1\\}, \\quad \\forall t \\in T.\n",
    "\\end{align*}\n",
    "\n",
    "\n",
    "Donde $M$ es una constante suficientemente grande como para que $x_t \\leq M$ se cumpla en cualquier solución factible. Podemos fijar, por ejemplo, $M:= \\sum_{t \\in T} d_t$.\n",
    "\n",
    "La función objetivo tiene tres componentes que miden, para cada período, los costos variables de producción, los costos fijos de producción y los costos de almacenamiento.\n",
    "\n",
    "Las dos primeras familias de restricciones establecen el balance entre la cantidad producida, la demanda y la cantidad almacenada: en cada período $t \\in T \\setminus\\{1\\}$, la suma entre la cantidad producida en $t$ más la cantidad almacenada desde el período $t-1$ debe ser igual a la suma de la demanda más la cantidad que se almacena para el período $t+1$. Para el primer período, no existe cantidad almacenada previamente. Observar que la no negatividad de las variables $z_t$ implica que el nivel de producción en cada período debe ser suficientemente alto como para cubrir la demanda.\n",
    "\n",
    "La tercera familia de restricciones contiene restricciones de enforzamiento que indican que $x_t$ puede tomar valores mayores a cero, solamente cuando $y_t=1$, es decir, cuando se toma la decisión de producir en el período $t$.\n",
    "\n",
    "Vamos a implementar este programa utilizando la interfaz Python de Gurobi."
   ]
  },
  {
   "cell_type": "markdown",
   "metadata": {},
   "source": [
    "Definimos primero el conjunto $T$ y los parámetros $p$, $c$, $h$, $d$ y $M$:"
   ]
  },
  {
   "cell_type": "code",
   "execution_count": null,
   "metadata": {},
   "outputs": [],
   "source": [
    "import gurobipy as gp\n",
    "from gurobipy import GRB\n",
    "\n",
    "# Conjuntos y parámetros del modelo\n",
    "# El diccionario con los datos tiene el formato {t : (c_t, p_t, h_t, d_t)}\n",
    "# Costos fijos, costos de producción, costos de almacenamiento y demandas:\n",
    "T, c, p, h, d = gp.multidict({\n",
    "    1 : (400, 40, 10, 20),   2 : (450, 47, 12, 20),  3 : (400, 38, 10, 25),\n",
    "    4 : (470, 45,  9, 25),   5 : (450, 47, 12, 25),  6 : (400, 42, 10, 20),\n",
    "    7 : (350, 33, 10, 20),   8 : (400, 39, 12, 18),  9 : (450, 45, 10, 18),\n",
    "   10 : (450, 47, 12, 20),  11 : (500, 50, 15, 25), 12 : (500, 55, 15, 27)})\n",
    "\n",
    "    \n",
    "# Constante igual a la suma de todas las demandas\n",
    "M = sum(d[i] for i in T)\n",
    "\n",
    "# Conjunto T \\ {1}\n",
    "T2 = [t for t in T if not t==1]\n",
    "\n",
    "print(\"T= {}\".format(T))\n",
    "print(\"T2= {}\".format(T2))\n",
    "print(\"c= {}\".format(c))\n",
    "print(\"p= {}\".format(p))\n",
    "print(\"h= {}\".format(h))\n",
    "print(\"d= {}\".format(d))\n",
    "print(\"M= {}\".format(M))"
   ]
  },
  {
   "cell_type": "markdown",
   "metadata": {},
   "source": [
    "Definimos ahora el objeto modelo y las variables del modelo:"
   ]
  },
  {
   "cell_type": "code",
   "execution_count": null,
   "metadata": {},
   "outputs": [],
   "source": [
    "m = gp.Model('lot-sizing')\n",
    "\n",
    "# número de lotes a producir\n",
    "x = m.addVars(T, vtype = GRB.INTEGER, name=\"x\")\n",
    "\n",
    "# se produce / no se produce en cada periodo\n",
    "y = m.addVars(T, vtype = GRB.BINARY, name=\"y\")\n",
    "\n",
    "# número de lotes a almacenar\n",
    "z = m.addVars(T, vtype = GRB.INTEGER, name=\"z\")"
   ]
  },
  {
   "cell_type": "markdown",
   "metadata": {},
   "source": [
    "Construimos la función objetivo a partir de sus tres términos:"
   ]
  },
  {
   "cell_type": "code",
   "execution_count": null,
   "metadata": {},
   "outputs": [],
   "source": [
    "# costos variables de producción\n",
    "c_produccion = x.prod(p, '*')\n",
    "\n",
    "# costos fijos de producción\n",
    "c_fijo = y.prod(c, '*')\n",
    "\n",
    "# costos de almacenamiento\n",
    "almacenamiento = z.prod(h, '*')\n",
    "\n",
    "m.setObjective(c_produccion + c_fijo + almacenamiento, GRB.MINIMIZE)"
   ]
  },
  {
   "cell_type": "markdown",
   "metadata": {},
   "source": [
    "Finalmente, implementamos las restricciones del modelo:\n",
    "1. Balance entre producción, almacenamiento y demanda."
   ]
  },
  {
   "cell_type": "code",
   "execution_count": null,
   "metadata": {},
   "outputs": [],
   "source": [
    "# Balance primer período\n",
    "m.addConstr(x[1] - z[1] == d[1], \"balance[1]\")\n",
    "\n",
    "# Balance períodos siguientes\n",
    "m.addConstrs((x[t] + z[t-1] - z[t] == d[t] for t in T2), \"balance\")"
   ]
  },
  {
   "cell_type": "markdown",
   "metadata": {},
   "source": [
    "2. Solamente puede producirse cuando $y_t =1$."
   ]
  },
  {
   "cell_type": "code",
   "execution_count": null,
   "metadata": {},
   "outputs": [],
   "source": [
    "# y[t]=0 => x[t]=0\n",
    "m.addConstrs((x[t] <= M*y[t] for t in T), \"enforz_xy\")"
   ]
  },
  {
   "cell_type": "markdown",
   "metadata": {},
   "source": [
    "Resolvemos el modelo:"
   ]
  },
  {
   "cell_type": "code",
   "execution_count": null,
   "metadata": {},
   "outputs": [],
   "source": [
    "m.optimize()"
   ]
  },
  {
   "cell_type": "markdown",
   "metadata": {},
   "source": [
    "Mostramos la solución: producción, almacenamiento y demanda en cada período. Notar que puede utilizarse el método `getAtrr` de la clase modelo para consultar los diferentes atributos de toda una familia de variables del modelo (almacenadas en un `tupledict`). En particular, el atributo `x` retorna el valor de las variables en la solución óptima."
   ]
  },
  {
   "cell_type": "code",
   "execution_count": null,
   "metadata": {},
   "outputs": [],
   "source": [
    "# Extraer valores de las soluciones\n",
    "vx = m.getAttr('x', x)\n",
    "name_x = m.getAttr('Name', x)\n",
    "vy = m.getAttr('x', y)\n",
    "vz = m.getAttr('x', z)\n",
    "\n",
    "# Mostrar tabla con los valores\n",
    "print('Plan óptimo de producción:')\n",
    "print('t\\t\\tx_t\\t\\ty_t\\t\\tz_t\\t\\td_t')\n",
    "for t in T:\n",
    "    print('{}\\t\\t{}\\t\\t{}\\t\\t{}\\t\\t{}'.format(t, vx[t], vy[t], vz[t], d[t]))\n",
    "    \n",
    "# Otro método para lo mismo:\n",
    "print('Plan óptimo de producción:')\n",
    "print('t\\t\\tx_t\\t\\ty_t\\t\\tz_t\\t\\td_t')\n",
    "for t in T:\n",
    "    print('{}\\t\\t{}\\t\\t{}\\t\\t{}\\t\\t{}'.format(t, x[t].x, y[t].x, z[t].x, d[t]))"
   ]
  },
  {
   "cell_type": "markdown",
   "metadata": {},
   "source": [
    "En general `getAttr` puede usarse para consultar cualquier atributo de un diccionario de variables. La función retorna un diccionario que tiene las mismas claves que el diccionario las variables, pero cuyos valores corresponden al atributo seleccionado."
   ]
  },
  {
   "cell_type": "code",
   "execution_count": null,
   "metadata": {},
   "outputs": [],
   "source": [
    "vx = m.getAttr('x', x)\n",
    "name_x = m.getAttr('VarName', x)\n",
    "tipo_x = m.getAttr('vtype', x)\n",
    "print(x)\n",
    "print('---')\n",
    "print(vx)\n",
    "print('---')\n",
    "print(name_x)\n",
    "print('---')\n",
    "print(tipo_x)\n"
   ]
  },
  {
   "cell_type": "markdown",
   "metadata": {},
   "source": [
    "## Código completo\n",
    "\n",
    "Se reproduce a continuación el código completo del modelo anterior."
   ]
  },
  {
   "cell_type": "code",
   "execution_count": null,
   "metadata": {},
   "outputs": [],
   "source": [
    "# Curso de implementación de programas lineales enteros\n",
    "# Ejemplo: Modelo de planificación de la producción (lot sizing)\n",
    "# EPN (2022)\n",
    "\n",
    "import gurobipy as gp\n",
    "from gurobipy import GRB\n",
    "\n",
    "try:\n",
    "    # Conjuntos y parámetros del modelo\n",
    "    # Costos fijos, costos de producción, costos de almacenamiento y demandas:\n",
    "    T, c, p, h, d = gp.multidict({\n",
    "        1 : (400, 40, 10, 20),   2 : (450, 47, 12, 20),  3 : (400, 38, 10, 25),\n",
    "        4 : (470, 45,  9, 25),   5 : (450, 47, 12, 25),  6 : (400, 42, 10, 20),\n",
    "        7 : (350, 33, 10, 20),   8 : (400, 39, 12, 18),  9 : (450, 45, 10, 18),\n",
    "       10 : (450, 47, 12, 20),  11 : (500, 50, 15, 25), 12 : (500, 55, 15, 27)})\n",
    "\n",
    "    \n",
    "    # Constante igual a la suma de todas las demandas\n",
    "    M = gp.quicksum(d)\n",
    "\n",
    "    # Conjunto T \\ {1}\n",
    "    T2 = [t for t in T if not t==1]    \n",
    "    \n",
    "    # Crear el objeto modelo\n",
    "    m = gp.Model('lot-sizing')\n",
    "\n",
    "    # Variables de decisión\n",
    "    # lotes a producir\n",
    "    x = m.addVars(T, vtype = GRB.INTEGER, name=\"x\")\n",
    "\n",
    "    # se produce / no se produce en cada período\n",
    "    y = m.addVars(T, vtype = GRB.BINARY, name=\"y\")\n",
    "\n",
    "    # lotes a almacenar\n",
    "    z = m.addVars(T, vtype = GRB.INTEGER, name=\"z\")    \n",
    "\n",
    "    # Función objetivo\n",
    "    # costos variables de producción\n",
    "    c_produccion = x.prod(p, '*')\n",
    "\n",
    "    # costos fijos de producción\n",
    "    c_fijo = y.prod(c, '*')\n",
    "\n",
    "    # costos de almacenamiento\n",
    "    almacenamiento = z.prod(h, '*')\n",
    "\n",
    "    m.setObjective(c_produccion + c_fijo + almacenamiento, GRB.MINIMIZE)\n",
    "\n",
    "    # Restricciones\n",
    "    # Balance primer período\n",
    "    m.addConstr(x[1] - z[1] == d[1], \"balance[1]\")\n",
    "\n",
    "    # Balance períodos siguientes\n",
    "    m.addConstrs((x[t] + z[t-1] - z[t] == d[t] for t in T2), \"balance\")\n",
    "    \n",
    "    # y[t]=0 => x[t]=0\n",
    "    m.addConstrs((x[t] <= M*y[t] for t in T), \"sinc_xy\")    \n",
    "    \n",
    "    # Resolver el modelo\n",
    "    m.optimize()\n",
    "    \n",
    "    # Mostrar solucion\n",
    "    # Extraer valores de las soluciones\n",
    "    vx = m.getAttr('x', x)\n",
    "    vy = m.getAttr('x', y)\n",
    "    vz = m.getAttr('x', z)\n",
    "\n",
    "    # Mostrar tabla con los valores\n",
    "    print('Plan óptimo de producción:')\n",
    "    print('t\\t\\tx_t\\t\\ty_t\\t\\tz_t\\t\\td_t')\n",
    "    for t in T:\n",
    "        print('{}\\t\\t{}\\t\\t{}\\t\\t{}\\t\\t{}'.format(t, vx[t], vy[t], vz[t], d[t]))        \n",
    "except GurobiError as e:\n",
    "    print('Se produjo un error de Gurobi: código: ' + str(e.errno) + \": \" + str(e))\n",
    "\n",
    "except AttributeError:\n",
    "    print('Se produjo un error de atributo')"
   ]
  },
  {
   "cell_type": "code",
   "execution_count": null,
   "metadata": {},
   "outputs": [],
   "source": []
  }
 ],
 "metadata": {
  "kernelspec": {
   "display_name": "Python 3 (ipykernel)",
   "language": "python",
   "name": "python3"
  },
  "language_info": {
   "codemirror_mode": {
    "name": "ipython",
    "version": 3
   },
   "file_extension": ".py",
   "mimetype": "text/x-python",
   "name": "python",
   "nbconvert_exporter": "python",
   "pygments_lexer": "ipython3",
   "version": "3.10.12"
  }
 },
 "nbformat": 4,
 "nbformat_minor": 2
}
