{
 "cells": [
  {
   "cell_type": "markdown",
   "id": "e28fae80",
   "metadata": {},
   "source": [
    "# Sudoku\n",
    "\n",
    "El juego del sudoku consiste en completar las celdas vacías con números del 1 al 9, de tal forma que:\n",
    "* no existan números repetidos en una misma fila,\n",
    "* no existan números repetidos en una misma columna, y,\n",
    "* no existan números repetidos en un mismo bloque."
   ]
  },
  {
   "cell_type": "markdown",
   "id": "bf68f7bc",
   "metadata": {},
   "source": [
    "<img src=\"sudoku_facil.png\" width=400>"
   ]
  },
  {
   "cell_type": "markdown",
   "id": "50bdf029",
   "metadata": {},
   "source": [
    "La tarea de completar un sudoku puede formularse como el problema de encontrar una solución factible para un programa lineal entero. Para ello, empleamos las variables de decisión binarias:\n",
    "\n",
    "$x_{ij}^r$ : que indican si el número $r \\in \\{1, \\ldots, 9\\}$ será colocado en la celda de coordenadas $(i,j)$. Asumiremos que las celdas está numeradas de manera análoga a los elementos de una matriz: la celda superior izquierda tiene coordenadas $(1,1)$, mientras que la celda inferior derecha tiene coordenadas $(9,9,)$.\n",
    "\n",
    "Notar que, para $i \\in \\{1, \\ldots, 9\\}$, la $i$-ésima fila del sudoku contiene las celdas con coordenadas:\n",
    "$$\n",
    "F_i = \\{(i,j) : 1 \\leq j \\leq 9 \\}.\n",
    "$$\n",
    "\n",
    "De manera similar, para $j \\in \\{1, \\ldots, 9\\}$, la $j$-ésima columna del sudoku contiene las celdas con coordenadas:\n",
    "$$\n",
    "C_j = \\{(i,j) : 1 \\leq i \\leq 9 \\}.\n",
    "$$\n",
    "\n",
    "Por otra parte, supongamos que los bloques del sudoku están numerados en la siguiente manera:\n",
    "\n",
    "|   |   |   |\n",
    "|---|---|---|\n",
    "| 1 | 2 | 3 |\n",
    "| 4 | 5 | 6 |\n",
    "| 7 | 8 | 9 |\n",
    "\n",
    "Entonces, para $k \\in \\{1, \\ldots, 9\\}$, puede demostrarse que el $k$-ésimo bloque contiene las celdas\n",
    "$$\n",
    "B_k = \\{(i_0 + i, j_0 + j) : i_0 = \\lfloor(k-1)/3\\rfloor*3, j_0 = ((k-1)\\%3)*3, 1 \\leq i,j \\leq 3 \\}.\n",
    "$$\n",
    "\n",
    "Con esta notación, encontrar una asignación válida de números a las casillas del sudoku equivale a encontrar una solución factible para el siguiente sistema de restricciones lineales:\n",
    "\n",
    "\\begin{align*}\n",
    "& \\sum_{r \\in R} x_{ij}^r = 1, \\quad \\forall i \\in I, j \\in J,\\\\\n",
    "& \\sum_{(i,j) \\in F_i} x_{ij}^r = 1, \\quad \\forall i \\in I, \\forall r \\in R\\\\\n",
    "& \\sum_{(i,j) \\in C_j} x_{ij}^r = 1, \\quad \\forall j \\in J, \\forall r \\in R\\\\\n",
    "& \\sum_{(i,j) \\in B_k} x_{ij}^r = 1, \\quad \\forall k \\in K, \\forall r \\in R\\\\\n",
    "&x_{ij}^k \\in \\{0, 1\\}, \\quad \\forall i \\in I, j \\in J, r \\in R,\n",
    "\\end{align*}\n",
    "donde  $I = J = K = R = \\{1, \\ldots, 9\\}$ son los conjuntos de índices de filas, columnas y bloques, así como los números posibles a registrar en las celdas.\n",
    "\n",
    "Vamos a implementar este modelo usando la interfaz Python de Gurobi.\n"
   ]
  },
  {
   "cell_type": "code",
   "execution_count": null,
   "id": "5e61200b",
   "metadata": {},
   "outputs": [],
   "source": [
    "import gurobipy as gp\n",
    "from gurobipy import GRB\n",
    "\n",
    "I = gp.tuplelist(i+1 for i in range(9))\n",
    "J = gp.tuplelist(j+1 for j in range(9))\n",
    "K = gp.tuplelist(k+1 for k in range(9))\n",
    "R = gp.tuplelist(k+1 for k in range(9))\n",
    "\n",
    "F = {i : gp.tuplelist((i, j) for j in J) for i in I}\n",
    "C = {j : gp.tuplelist((i, j) for i in I) for j in J}\n",
    "B = {k : gp.tuplelist((((k-1)//3*3)+i2+1,\n",
    "                       ((k-1)%3*3) + j2+1) for i2 in range(3) for j2 in range(3)) for k in K}\n"
   ]
  },
  {
   "cell_type": "markdown",
   "id": "1dbadfb9",
   "metadata": {},
   "source": [
    "Como se trata de un problema de factibilidad, no hace falta ingresar una función objetivo en el modelo:"
   ]
  },
  {
   "cell_type": "code",
   "execution_count": null,
   "id": "f5c73e96",
   "metadata": {},
   "outputs": [],
   "source": [
    "m = gp.Model('Sudoku')\n",
    "\n",
    "x = m.addVars(I,J,R, vtype=GRB.BINARY, name='x')\n",
    "\n",
    "m.addConstrs((x.sum(i,j,'*')==1 for i in I for j in J), \"asignacion\")\n",
    "m.addConstrs((gp.quicksum(x[i2,j,r] for (i2,j) in F[i])==1 for i in I for r in R), \"filas\")\n",
    "m.addConstrs((gp.quicksum(x[i,j2,r] for (i,j2) in C[j])==1 for j in J for r in R), \"columnas\")\n",
    "m.addConstrs((gp.quicksum(x[i,j,r] for (i,j) in B[k])==1 for k in K for r in R), \"bloques\")\n"
   ]
  },
  {
   "cell_type": "markdown",
   "id": "d969426a",
   "metadata": {},
   "source": [
    "Vamos a fijar ahora las variables a los valores conocidos en el sudoku. Para ello, creamos una lista `fijadas` que contiene tuplas de la forma $(i,j,r)$ para indicar que la celda $(i,j)$ debe contener el valor $r$. Luego usamos esta información para colocar la cota inferior (propiedad `lb`) en 1 para las variables `x[i,j,k]` correspondientes:"
   ]
  },
  {
   "cell_type": "code",
   "execution_count": null,
   "id": "94d95aba",
   "metadata": {},
   "outputs": [],
   "source": [
    "fijadas = [(1,1,9), (1,3,6), (1,5,7), \n",
    "           (2,4,2), (2,8,9),\n",
    "           (3,1,8), (3,2,5), (3,3,1), (3,6,9), (3,7,7),\n",
    "           (4,1,5), (4,2,6), (4,5,2), (4,7,9), (4,9,3),\n",
    "           (5,5,1), (5,7,6), (5,8,8),\n",
    "           (6,3,7), (6,4,6), (6,7,2), (6,9,4),\n",
    "           (7,2,1), (7,3,9), (7,6,4), (7,8,3), (7,9,8),\n",
    "           (8,1,7), (8,3,4), (8,4,5), (8,6,8), (8,7,1), (8,8,6),\n",
    "           (9,2,8), (9,3,5), (9,5,3), (9,7,4), (9,8,7)]\n",
    "\n",
    "for (i,j,k) in fijadas:\n",
    "    x[i,j,k].lb=1"
   ]
  },
  {
   "cell_type": "markdown",
   "id": "53f2bbb0",
   "metadata": {},
   "source": [
    "Finalmente, llamamos a `optimize()` para encontrar una solución factible al modelo:"
   ]
  },
  {
   "cell_type": "code",
   "execution_count": null,
   "id": "8d3e5a2c",
   "metadata": {},
   "outputs": [],
   "source": [
    "m.optimize()"
   ]
  },
  {
   "cell_type": "markdown",
   "id": "3831559b",
   "metadata": {},
   "source": [
    "Usamos el módulo `tabulate` para mostrar esta solución:"
   ]
  },
  {
   "cell_type": "code",
   "execution_count": null,
   "id": "c6c1e38c",
   "metadata": {},
   "outputs": [],
   "source": [
    "from tabulate import tabulate\n",
    "\n",
    "sol = [[r for j in J for r in R if x[i,j,r].x>=0.99] for i in I]\n",
    "\n",
    "for L in sol:\n",
    "    L.insert(3,'|')\n",
    "    L.insert(7,'|')\n",
    "    \n",
    "sol.insert(3, '---|---|---')\n",
    "sol.insert(7, '---|---|---')\n",
    "\n",
    "print(tabulate(sol))\n"
   ]
  },
  {
   "cell_type": "code",
   "execution_count": null,
   "id": "f34d6253",
   "metadata": {},
   "outputs": [],
   "source": []
  }
 ],
 "metadata": {
  "kernelspec": {
   "display_name": "Python 3 (ipykernel)",
   "language": "python",
   "name": "python3"
  },
  "language_info": {
   "codemirror_mode": {
    "name": "ipython",
    "version": 3
   },
   "file_extension": ".py",
   "mimetype": "text/x-python",
   "name": "python",
   "nbconvert_exporter": "python",
   "pygments_lexer": "ipython3",
   "version": "3.8.10"
  }
 },
 "nbformat": 4,
 "nbformat_minor": 5
}
