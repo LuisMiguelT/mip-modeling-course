{
 "cells": [
  {
   "cell_type": "markdown",
   "metadata": {},
   "source": [
    "# Cuaderno 10: Flujo de costo mínimo (mincost flow)\n",
    "\n",
    "$\\newcommand{\\card}[1]{\\left| #1 \\right|}$\n",
    "$\\newcommand{\\tabulatedset}[1]{\\left\\{ #1 \\right\\}}$\n",
    "$\\newcommand{\\ZZ}{\\mathbb{Z}}$\n",
    "$\\newcommand{\\RR}{\\mathbb{R}}$\n",
    "\n",
    "### Observación:\n",
    "Empezaremos a partir de este cuaderno con problemas de optimización sobre grafos dirigidos y no dirigidos. Un grafo dirigido $D=(V,A)$ es un par ordenado que consiste de un conjunto finito de _vértices o nodos_ $V$ y un conjunto $A \\subseteq V \\times V$ de _arcos_.\n",
    "\n",
    "**Ejemplo:**\n",
    "\n",
    "$V = \\{1, 2, 3, 4, 5 \\}$\n",
    "\n",
    "$A = \\{(1,2),(1,3),(2,3),(2,4),(5,4),(5,3),(3,4)\\}$"
   ]
  },
  {
   "cell_type": "code",
   "execution_count": 3,
   "metadata": {},
   "outputs": [
    {
     "data": {
      "image/png": "[encoded data removed]",
      "text/plain": [
       "<Figure size 1000x500 with 1 Axes>"
      ]
     },
     "metadata": {},
     "output_type": "display_data"
    }
   ],
   "source": [
    "# Ejemplo de un grafo dirigido\n",
    "V = [i+1 for i in range(5)]\n",
    "A = [(1,2),(1,3),(2,3),(2,4),(5,4),(5,3),(3,4)]\n",
    "\n",
    "# Se lo puede graficar con los módulos networkx y matplotlib\n",
    "import networkx as nx\n",
    "import matplotlib.pyplot as plt\n",
    "D = nx.DiGraph()\n",
    "D.add_nodes_from(V)\n",
    "node_labels= {i : str(i) for i in V}\n",
    "D.add_edges_from(A)\n",
    "plt.figure(figsize=(10,5))\n",
    "pos = {1 : (1,2), 2 : (2,3), 3 : (2,1), 4 : (3,3), 5 : (3,1)}\n",
    "nx.draw_networkx(D, pos, labels= node_labels, node_color='cyan')"
   ]
  },
  {
   "cell_type": "markdown",
   "metadata": {},
   "source": [
    "### Problema del flujo de costo mínimo\n",
    "\n",
    "Dados: \n",
    "* un grafo dirigido $D=(V,A)$; \n",
    "* un vector de capacidades $u \\in \\ZZ^{A}_+$  asociadas a los arcos de $D$; \n",
    "* un vector $c \\in \\ZZ^{A}$ de costos de transporte unitarios asociados a los arcos de $D$; y, \n",
    "* un vector $b \\in \\ZZ^{V}$ de demandas asociadas a los nodos de $D$.\n",
    "\n",
    "El *problema de flujo de costo mínimo (mincost flow, MCF)* consiste en encontrar un flujo $x \\in \\RR^{A}_{+}$  que satisfaga las siguientes condiciones:\n",
    "\n",
    "* para cada nodo $i \\in V$, el flujo neto en $i$ (definido como el flujo total sobre los arcos que entran a $i$ menos el flujo total sobre los arcos qe salen de $i$) debe ser igual a la demanda $b_i$ del nodo $i$;  \n",
    "* el flujo sobre cada arco $(i,j) \\in A$ debe ser menor o igual a su capacidad $u_{ij}$;\n",
    "* el costo total del flujo debe ser mínimo. Este costo se calcula al multiplicar el flujo sobre cada arco $(i,j) \\in A$ por su correspondiente costo unitario de transportación $c_{ij}$, y sumar estos valores sobre todos los arcos de la red.\n",
    "\n",
    "Utilizando variables continuas no negativas $x_{ij}$ para representar el flujo sobre el arco $(i, j) \\in A$, el problema de flujo de costo mínimo puede formularse como el siguiente programa lineal:\n",
    "\n",
    "\\begin{align*}\n",
    "\\min &\\sum_{(i,j) \\in A} c_{ij} x_{ij}\\\\ \n",
    "& \\mbox{s.r.}\\\\\n",
    "&\\sum_{(j, i) \\in A} x_{ji} - \\sum_{(i, j) \\in A} x_{ij} = b_i, \\quad \\forall i \\in V,\\\\\n",
    "& 0 \\leq x_{ij} \\leq u_{ij}, \\quad \\forall (i, j) \\in A.\n",
    "\\end{align*}\n",
    "\n",
    "\n",
    "Vamos a implementar este modelo usando la interfaz Python de Gurobi."
   ]
  },
  {
   "cell_type": "markdown",
   "metadata": {},
   "source": [
    "Utilizaremos como ejemplo la instancia dada a continuación:"
   ]
  },
  {
   "cell_type": "code",
   "execution_count": null,
   "metadata": {},
   "outputs": [],
   "source": [
    "import gurobipy as gp\n",
    "from gurobipy import GRB\n",
    "\n",
    "# Nodos del grafo\n",
    "V = gp.tuplelist(['a', 'b', 'c', 'd', 'e', 'f'])\n",
    "\n",
    "# Arcos, capacidades y costos unitarios\n",
    "# (i,j) : (u_ij, c_ij)\n",
    "A, u, c = gp.multidict({\n",
    "  ('a', 'b'):   (10, 2),\n",
    "  ('a', 'c'):   ( 5, 1),\n",
    "  ('c', 'b'):   (20, 2),\n",
    "  ('b', 'd'):   (10, 1),\n",
    "  ('c', 'e'):   (40, 4),\n",
    "  ('d', 'c'):   (20, 3),\n",
    "  ('e', 'd'):   (20, 1),\n",
    "  ('e', 'f'):   (15, 3),\n",
    "  ('d', 'f'):   (10, 2)})\n",
    "\n",
    "# Demandas asociadas a nodos \n",
    "b = gp.tupledict({\n",
    "  'a':  -10,\n",
    "  'b':   25,\n",
    "  'c':  -30,\n",
    "  'd':  -15,\n",
    "  'e':   10,\n",
    "  'f':   20})"
   ]
  },
  {
   "cell_type": "markdown",
   "metadata": {},
   "source": [
    "El grafo asociado puede ser representado visualmente empleando las bibliotecas `networkx` y `matplotlib`:"
   ]
  },
  {
   "cell_type": "code",
   "execution_count": null,
   "metadata": {},
   "outputs": [],
   "source": [
    "import networkx as nx\n",
    "import matplotlib.pyplot as plt\n",
    "D = nx.DiGraph()\n",
    "D.add_nodes_from(V)\n",
    "node_labels= {i : str(i) + '\\n' + str(b[i]) for i in V}\n",
    "D.add_edges_from(A)\n",
    "edge_labels = {(i,j) : str(u[i,j]) + ',' + str(c[i,j]) for (i,j) in A}\n",
    "plt.figure(figsize=(10,5))\n",
    "pos = {'a' : (1,2), 'b' : (2,3), 'c' : (2,1), 'd' : (3,3), 'e' : (3,1), 'f':(4,2)}\n",
    "nx.draw_networkx(D, pos, labels= node_labels, node_color='cyan', node_size=1000)\n",
    "nx.draw_networkx_edge_labels(D, pos, edge_labels)\n",
    "plt.show()"
   ]
  },
  {
   "cell_type": "markdown",
   "metadata": {},
   "source": [
    "Creamos ahora el objeto modelo y las variables de flujo $x_{ij}$. Observar que las variables están indexadas por los conjuntos de arcos.\n",
    "\n",
    "Si no se especifica el argumento `vtype` en la llamada a la función `addVars`, por defecto las variables creadas son continuas y no negativas.\n",
    "\n",
    "Notar cómo el argumento `ub` de la función `addVars` puede usarse para especificar cotas superiores para cada variable. De esta manera, las restricciones de capacidad quedan incluidas ya en la definición de las variables. De manera similar, es posible utilizar el argumento `lb` para especificar cotas inferiores para las variables, aunque en este caso no es necesario, pues por defecto las variables tienen cotas inferiores iguales a cero."
   ]
  },
  {
   "cell_type": "code",
   "execution_count": null,
   "metadata": {},
   "outputs": [],
   "source": [
    "# Crear el objeto modelo\n",
    "m = gp.Model('mincost-flow')\n",
    "\n",
    "# Crear las variables\n",
    "x = m.addVars(A, name=\"x\", ub=u)"
   ]
  },
  {
   "cell_type": "markdown",
   "metadata": {},
   "source": [
    "Definimos la función objetivo a minimizar:"
   ]
  },
  {
   "cell_type": "code",
   "execution_count": null,
   "metadata": {},
   "outputs": [],
   "source": [
    "m.setObjective(x.prod(c, '*'), GRB.MINIMIZE)"
   ]
  },
  {
   "cell_type": "markdown",
   "metadata": {},
   "source": [
    "Definimos las restricciones del modelo:"
   ]
  },
  {
   "cell_type": "code",
   "execution_count": null,
   "metadata": {},
   "outputs": [],
   "source": [
    "# Restricciones de demanda en los nodos\n",
    "m.addConstrs(\n",
    "    (x.sum('*',i) - x.sum(i,'*')  == b[i] for i in V), \"demanda\")"
   ]
  },
  {
   "cell_type": "markdown",
   "metadata": {},
   "source": [
    "Finalmente, resolvemos el modelo y mostramos la solución. Notar que los valores de las variables pueden recuperarse también empleando el método `getAttr`:"
   ]
  },
  {
   "cell_type": "code",
   "execution_count": null,
   "metadata": {},
   "outputs": [],
   "source": [
    "# Calcular la solución óptima\n",
    "m.optimize()\n",
    "\n",
    "# Escribir la solución\n",
    "if m.SolCount > 0:\n",
    "    # Recuperar los valores de las variables\n",
    "    vx = m.getAttr('x', x)\n",
    "    print('Flujos óptimos:')\n",
    "    for i,j in A:\n",
    "        if vx[i,j] >= 0.01:\n",
    "            print('{} -> {}: {}'.format(i, j, vx[i,j]))"
   ]
  },
  {
   "cell_type": "markdown",
   "metadata": {},
   "source": [
    "## Visualizando grafos\n",
    "\n",
    "Existen algunos módulos especializados en Python para trabajar con grafos. Entre ellos están:\n",
    "* `NetworkX`, que contiene estructuras de datos para el trabajo con grafos e implementaciones de algoritmos para la exploración de grafos y la solución de problemas clásicos de optimización; más información [aquí.](https://networkx.github.io/documentation/stable/) \n",
    "* `matplotlib`, que contiene numerosas opciones para generar gráficos de aplicaciones matemáticas en Python; más información [aquí.](https://matplotlib.org/)\n",
    "* `ipycytoscape`, que contiene funciones para la visualización interactiva de grafos; más información [aquí.](https://blog.jupyter.org/interactive-graph-visualization-in-jupyter-with-ipycytoscape-a8828a54ab63)"
   ]
  },
  {
   "cell_type": "markdown",
   "metadata": {},
   "source": [
    "Para instalar estos módulos podemos usar el comando `pip` **desde una terminal** o ejecutar una vez la siguiente celda (será necesario reiniciar el kernel de Jupyter después de hacerlo):\n"
   ]
  },
  {
   "cell_type": "code",
   "execution_count": null,
   "metadata": {},
   "outputs": [],
   "source": [
    "import sys\n",
    "!{sys.executable} -m pip install networkx\n",
    "!{sys.executable} -m pip install ipycytoscape\n",
    "!{sys.executable} -m pip install matplotlib"
   ]
  },
  {
   "cell_type": "markdown",
   "metadata": {},
   "source": [
    "### NetworkX y matplotlib\n",
    "Combinando los módulos `NetworkX` y `matplotlib` podemos visualizar la solución del ejemplo anterior:"
   ]
  },
  {
   "cell_type": "code",
   "execution_count": null,
   "metadata": {},
   "outputs": [],
   "source": [
    "D = nx.DiGraph()\n",
    "D.add_nodes_from(V)\n",
    "node_labels= {i : str(i) + '\\n' + str(b[i]) for i in V}\n",
    "D.add_edges_from(A)\n",
    "edge_labels = {(i,j) : str(int(vx[i,j])) + '/' + str(u[i,j]) for (i,j) in A}\n",
    "edge_colors = ['#ff007f' if vx[i,j]>=0.1 else '#9dbaea' for (i,j) in list(D.edges())]\n",
    "plt.figure(figsize=(10,5))\n",
    "pos = {'a' : (1,2), 'b' : (2,3), 'c' : (2,1), 'd' : (3,3), 'e' : (3,1), 'f':(4,2)}\n",
    "nx.draw_networkx(D, pos, labels= node_labels, node_color='cyan', node_size=1000, edge_color= edge_colors)\n",
    "nx.draw_networkx_edge_labels(D, pos, edge_labels)\n",
    "plt.show()"
   ]
  },
  {
   "cell_type": "markdown",
   "metadata": {},
   "source": [
    "### NetworkX y ipycytoscape\n",
    "Combinando los módulos `NetworkX` e `ipycytoscape` podemos crear visualizaciones del grafo que sean más interactivas. El siguiente código muestra el ejemplo anterior:"
   ]
  },
  {
   "cell_type": "code",
   "execution_count": null,
   "metadata": {
    "scrolled": true
   },
   "outputs": [],
   "source": [
    "import networkx as nx\n",
    "import ipycytoscape\n",
    "D = nx.DiGraph()\n",
    "D.add_nodes_from(V)\n",
    "for i in V:\n",
    "    D.nodes[i]['demanda']= str(i) + '\\n' + str(b[i])\n",
    "D.add_edges_from(A)\n",
    "for i,j in A:\n",
    "    D.edges[i,j]['cap_costo'] = u[i,j], c[i,j]\n",
    "grafo = ipycytoscape.CytoscapeWidget()\n",
    "grafo.graph.add_graph_from_networkx(D, directed=True)\n",
    "grafo.set_style([{'selector': 'node', 'style' : {'background-color': '#11479e', 'font-family': 'helvetica', 'font-size': '10px', 'color':'white', 'label': 'data(demanda)', 'text-wrap' : 'wrap', 'text-valign' : 'center'}}, \n",
    "                    {'selector': 'node:parent', 'css': {'background-opacity': 0.333}, 'style' : {'font-family': 'helvetica', 'font-size': '10px', 'label': 'data(demanda)'}}, \n",
    "                    {'selector': 'edge', 'style': {'width': 4, 'line-color': '#9dbaea', 'font-size': '10px', 'label': 'data(cap_costo)', 'text-valign' : 'top', 'text-margin-y' : '-10px'}}, \n",
    "                    {'selector': 'edge.directed', 'style': {'curve-style': 'bezier', 'target-arrow-shape': 'triangle', 'target-arrow-color': '#9dbaea'}}])\n",
    "grafo"
   ]
  },
  {
   "cell_type": "markdown",
   "metadata": {},
   "source": [
    "Y también podemos visualizar la solución"
   ]
  },
  {
   "cell_type": "code",
   "execution_count": null,
   "metadata": {},
   "outputs": [],
   "source": [
    "D = nx.DiGraph()\n",
    "D.add_nodes_from(V)\n",
    "for i in V:\n",
    "    D.nodes[i]['demanda']= str(i) + '\\n' + str(b[i])\n",
    "D.add_edges_from(A)\n",
    "for i,j in A:\n",
    "    D.edges[i,j]['flujo_cap'] = str(int(vx[i,j])) + '/' + str(u[i,j]) \n",
    "    D.edges[i,j]['color'] =  '#9dbaea' if vx[i,j]<=0.1 else '#ff007f'\n",
    "grafo = ipycytoscape.CytoscapeWidget()\n",
    "grafo.graph.add_graph_from_networkx(D, directed=True)\n",
    "grafo.set_style([{'selector': 'node', 'style' : {'background-color': '#11479e', 'font-family': 'helvetica', 'font-size': '10px', 'color':'white', 'label': 'data(demanda)', 'text-wrap' : 'wrap', 'text-valign' : 'center'}}, \n",
    "                    {'selector': 'node:parent', 'css': {'background-opacity': 0.333}, 'style' : {'font-family': 'helvetica', 'font-size': '10px', 'label': 'data(demanda)'}}, \n",
    "                    {'selector': 'edge', 'style': {'width': 4, 'line-color': 'data(color)', 'font-size': '10px', 'label': 'data(flujo_cap)', 'text-valign' : 'top', 'text-margin-y' : '-10px'}}, \n",
    "                    {'selector': 'edge.directed', 'style': {'curve-style': 'bezier', 'target-arrow-shape': 'triangle', 'target-arrow-color': 'data(color)'}}])\n",
    "grafo"
   ]
  },
  {
   "cell_type": "markdown",
   "metadata": {},
   "source": [
    "## Código completo\n",
    "\n",
    "Se reproduce a continuación el código completo del modelo anterior."
   ]
  },
  {
   "cell_type": "code",
   "execution_count": null,
   "metadata": {
    "scrolled": true
   },
   "outputs": [],
   "source": [
    "# Implementación de modelos de programación lineal entera\n",
    "# Problema de flujo de costo mínimo (mincost flow)\n",
    "\n",
    "# Luis M. Torres (EPN 2022)\n",
    "\n",
    "import gurobipy as gp\n",
    "from gurobipy import GRB\n",
    "\n",
    "# Nodos del grafo\n",
    "V = gp.tuplelist(['a', 'b', 'c', 'd', 'e', 'f'])\n",
    "\n",
    "# Arcos, capacidades y costos unitarios\n",
    "A, u, c = gp.multidict({\n",
    "  ('a', 'b'):   (10, 2),\n",
    "  ('a', 'c'):   ( 5, 1),\n",
    "  ('c', 'b'):   (20, 2),\n",
    "  ('b', 'd'):   (10, 1),\n",
    "  ('c', 'e'):   (40, 4),\n",
    "  ('d', 'c'):   (20, 3),\n",
    "  ('e', 'd'):   (20, 1),\n",
    "  ('e', 'f'):   (15, 3),\n",
    "  ('d', 'f'):   (10, 2)})\n",
    "\n",
    "# Demandas asociadas a nodos \n",
    "b = gp.tupledict({\n",
    "  'a':  -10,\n",
    "  'b':   25,\n",
    "  'c':  -30,\n",
    "  'd':  -15,\n",
    "  'e':   10,\n",
    "  'f':   20})\n",
    "\n",
    "try:\n",
    "    # Crear el objeto modelo\n",
    "    m = gp.Model('mincost-flow')\n",
    "\n",
    "    # Crear las variables\n",
    "    x = m.addVars(A, name=\"x\", ub=u)\n",
    "\n",
    "    # Definir la función objetivo\n",
    "    m.setObjective(x.prod(c, '*'), GRB.MINIMIZE)\n",
    "\n",
    "    # Restricciones de demenda en los nodos\n",
    "    m.addConstrs(\n",
    "        (x.sum('*',j) - x.sum(j,'*')  == b[j] for j in V), \"demanda\")\n",
    "\n",
    "    # Calcular la solución optima\n",
    "    m.optimize()\n",
    "\n",
    "    # Escribir la solución\n",
    "    if m.SolCount > 0:\n",
    "        # Recuperar los valores de las variables\n",
    "        vx = m.getAttr('x', x)\n",
    "        print('Flujos optimos:')\n",
    "        for i,j in A:\n",
    "            if vx[i,j] > 0:\n",
    "                print('{} -> {}: {}'.format(i, j, vx[i,j]))\n",
    "\n",
    "except GurobiError as e:\n",
    "    print('Se produjo un error de Gurobi: codigo: ' + str(e.errno) + \": \" + str(e))\n",
    "\n",
    "except AttributeError:\n",
    "    print('Se produjo un error de atributo')"
   ]
  },
  {
   "cell_type": "code",
   "execution_count": null,
   "metadata": {},
   "outputs": [],
   "source": []
  }
 ],
 "metadata": {
  "kernelspec": {
   "display_name": "Python 3 (ipykernel)",
   "language": "python",
   "name": "python3"
  },
  "language_info": {
   "codemirror_mode": {
    "name": "ipython",
    "version": 3
   },
   "file_extension": ".py",
   "mimetype": "text/x-python",
   "name": "python",
   "nbconvert_exporter": "python",
   "pygments_lexer": "ipython3",
   "version": "3.9.6"
  }
 },
 "nbformat": 4,
 "nbformat_minor": 2
}
