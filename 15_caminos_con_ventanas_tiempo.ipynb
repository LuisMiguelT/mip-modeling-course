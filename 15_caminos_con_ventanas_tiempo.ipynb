{
 "cells": [
  {
   "cell_type": "markdown",
   "metadata": {},
   "source": [
    "# Cuaderno 15: Caminos más cortos con ventanas de tiempo\n",
    "# (Shortest Path Problems with Time Windows - SPPTW)\n",
    "\n",
    "$\\newcommand{\\card}[1]{\\left| #1 \\right|}$\n",
    "$\\newcommand{\\tabulatedset}[1]{\\left\\{ #1 \\right\\}}$\n",
    "$\\newcommand{\\ZZ}{\\mathbb{Z}}$\n",
    "$\\newcommand{\\RR}{\\mathbb{R}}$\n",
    "\n",
    "Dados: \n",
    "* un grafo dirigido $D=(V,A)$; \n",
    "* un vector de costos $c \\in \\ZZ^{A}$  asociados a los arcos de $D$; \n",
    "* un vector de tiempos de tránsito $t \\in \\ZZ^{A}_{+}$  asociados a los arcos de $D$; \n",
    "* un nodo de salida $r$;\n",
    "* un nodo de llegada $s$, y\n",
    "* una ventana de tiempo $[a_i;b_i]$ para cada nodo $i$ in $V$.\n",
    "\n",
    "El *problema del camino más corto con ventanas de tiempo* consiste en encontrar un camino $P$ desde $r$ hasta $s$, conjuntamente con un tiempo de partida $T_r$, de tal forma que cada nodo de $P$ sea visitado dentro de su ventana de tiempo, y que el costo del camino sea mínimo. El costo de un camino se calcula sumando los costos de sus arcos. Por otra parte, los tiempos de visita de los nodos se definen de la siguiente manera:\n",
    "* el tiempo de visita de $r$ es el tiempo de partida $T_r$ del camino,\n",
    "* si $(i,j)$ es un arco de $P$, entonces para los tiempos de visita $T_i$ y $T_j$ sus nodos extremos, debe cumplirse que $T_j := \\max\\{T_i + t_{ij}, a_j\\}$.\n",
    "\n",
    "Para formular este problema, utilizaremos la siguientes variables de decisión: \n",
    "* variables binarias $x_{ij}$, para indicar si los arcos de $A$ son seleccionados o no dentro de $P$; y, \n",
    "* variables no negativas $T_i$ para indicar el tiempo de visita de un nodo $i$ del camino; si el nodo $i$ no pertenece a $P$, el valor de $T_i$ es irrelevante para el modelo.\n",
    "\n",
    "De esta manera, se puede formular al problema como el siguiente programa lineal entero:\n",
    "\n",
    "\\begin{align*}\n",
    "\\min &\\sum_{(i,j) \\in A} c_{ij} x_{ij}\\\\ \n",
    "& \\mbox{s.r.}\\\\\n",
    "&\\sum_{(r, i) \\in A} x_{ri} = 1,\\\\\n",
    "&\\sum_{(i, s) \\in A} x_{is} = 1,\\\\\n",
    "& \\sum_{(i, j) \\in A} x_{ij} \\leq 1, \\quad \\forall i \\in V, \\\\\n",
    "& \\sum_{(j, i) \\in A} x_{ji} - \\sum_{(i, j) \\in A} x_{ij} = 0, \\quad \\forall i \\in V \\setminus \\tabulatedset{r,s},\\\\\n",
    "&T_j \\geq T_i + t_{ij} - M(1 -  x_{ij}), \\quad \\forall (i,j) \\in A, \\\\ \n",
    "&a_i \\leq T_i \\leq b_i, \\quad \\forall i \\in V,\\\\ \n",
    "& x_{ij} \\in \\tabulatedset{0, 1}, \\quad \\forall (i, j) \\in A.\n",
    "\\end{align*}\n",
    "\n",
    "El modelo es similar al modelo empleado para el problema de caminos más cortos con duración acotada. La función objetivo mide el costo total de los arcos seleccionados, mientras que las primeras cuatro familias de restricciones establecen condiciones de grado en los nodos: seleccionar exactamente un arco saliente de $r$, exactamente un arco entrante a $s$, máximo un arco saliente de cada nodo, y un número de arcos entrantes igual al número de arcos salientes para los nodos distintos de $r$ y $s$. \n",
    "\n",
    "En la quinta familia de restricciones se emplea la técnica de la $M$-mayúscula descrita en el Cuaderno 14 para especificar que, si el arco $(i,j)$ es seleccionado en la solución, entonces debe cumplirse que $T_j \\geq T_i + t_{ij}$. \n",
    "\n",
    "El rango de dominio para las variables $T_i$ requiere que los valores del tiempo de visita en cada nodo estén dentro de las ventanas de tiempo.\n",
    "\n",
    "Notar que, en conjunto, la quinta familia de restricciones y el dominio de las variables $T_j$ implican que debe cumplirse $T_j \\geq \\max\\{T_i + t_{ij}, a_j\\}$ para todo nodo $j$ visitado por el camino. Es posible demostrar, además, que dada una solución con estas características, puede obtenerse una solución factible al problema con el mismo costo, al ajustar $T_j:= \\max\\{T_i + t_{ij}, a_j\\}$ para todo nodo $j$ visitado por el camino.\n",
    "\n",
    "Al igual que el modelo para caminos más cortos con duración acotada, este modelo funciona aún si el grafo tiene circuitos de costo negativo, siempre y cuando los tiempos de tránsito sean positivos.\n",
    "\n",
    "Vamos a implementar este modelo usando la interfaz Python de Gurobi.\n",
    "\n"
   ]
  },
  {
   "cell_type": "markdown",
   "metadata": {},
   "source": [
    "Definimos primero los conjuntos y parámetros del modelo:"
   ]
  },
  {
   "cell_type": "code",
   "execution_count": null,
   "metadata": {},
   "outputs": [],
   "source": [
    "import gurobipy as gp\n",
    "from gurobipy import GRB\n",
    "\n",
    "# Nodos y ventanas de tiempo\n",
    "V , a, b = gp.multidict({\n",
    "    1 : (0, 1),\n",
    "    2 : (2, 4),\n",
    "    3 : (1, 3),\n",
    "    4 : (4, 6),\n",
    "    5 : (5, 6),\n",
    "    6 : (5, 7),\n",
    "    7 : (6, 7),\n",
    "    8 : (7, 9),\n",
    "})\n",
    "\n",
    "# Arcos, costos y tiempos de tránsito \n",
    "A, c, t = gp.multidict({\n",
    "  (1, 2):  (3, 2), \n",
    "  (1, 3):  (20,1),\n",
    "  (2, 3):  (10,2),\n",
    "  (2, 4):  (5,2),\n",
    "  (4, 3):  (2,3),\n",
    "  (3, 5):  (2,3),\n",
    "  (4, 5):  (5,1),\n",
    "  (4, 6):  (10,1),\n",
    "  (5, 6):  (2,3),\n",
    "  (5, 7):  (-3,1),\n",
    "  (6, 8):  (1, 2),  \n",
    "  (7, 8):  (-3,1),  \n",
    "  (8, 5):  (-3,1)})\n",
    "\n",
    "# Nodo de salida\n",
    "r = 1\n",
    "\n",
    "# Nodo de llegada\n",
    "s = 8\n",
    "\n",
    "# Constante suficientemente grande:\n",
    "M = gp.quicksum([t[i,j] for (i,j) in A]) + gp.quicksum(b[i] for i in V)\n",
    "\n",
    "# --- los valores a partir de aquí se calculan automáticamente ---\n",
    "# nodos internos: Vi := V \\ {r, s}\n",
    "Vi = gp.tuplelist([i for i in V if i!=r and i!=s])"
   ]
  },
  {
   "cell_type": "markdown",
   "metadata": {},
   "source": [
    "En la siguiente celda empleamos los módulos `networkx` y `matplotlib` para representar graficamente esta instancia del problema:"
   ]
  },
  {
   "cell_type": "code",
   "execution_count": null,
   "metadata": {},
   "outputs": [],
   "source": [
    "import networkx as nx\n",
    "import matplotlib.pyplot as plt\n",
    "D = nx.DiGraph()\n",
    "D.add_nodes_from(V)\n",
    "node_labels= {i : '{}\\n[{};{}]'.format(i, a[i], b[i]) for i in V}\n",
    "D.add_edges_from(A)\n",
    "edge_labels = {(i,j) : str(c[i,j]) + ',' + str(t[i,j]) for (i,j) in A}\n",
    "plt.figure(figsize=(12,4))\n",
    "pos = {1 : (1,1), 2 : (1,2), 3 : (2,1), 4 : (2,2), 5 : (3,1), 6:(3,2), 7 : (4,1), 8 : (4,2)}\n",
    "nx.draw_networkx(D, pos, labels= node_labels, node_color='cyan', node_size=1200)\n",
    "nx.draw_networkx_edge_labels(D, pos, edge_labels)\n",
    "plt.show()"
   ]
  },
  {
   "cell_type": "markdown",
   "metadata": {},
   "source": [
    "Creamos ahora el objeto modelo y las variables de binarias de selección de arcos $x_{ij}$. Observar que las variables están indexadas por los conjuntos de arcos. Notar que las restricciones de ventanas de tiempo se ingresan como cotas de las variables."
   ]
  },
  {
   "cell_type": "code",
   "execution_count": null,
   "metadata": {},
   "outputs": [],
   "source": [
    "# Crear el objeto modelo\n",
    "m = gp.Model('shortest-path-time-windows')\n",
    "\n",
    "# Crear las variables de selección de arcos\n",
    "x = m.addVars(A, name=\"x\", vtype=GRB.BINARY)\n",
    "\n",
    "# Crear las variables de tiempo de visita en los nodos\n",
    "# Las restricciones de ventanas de tiempo se representan como cotas de las variables\n",
    "T = m.addVars(V, name=\"T\", lb=a, ub=b)\n"
   ]
  },
  {
   "cell_type": "markdown",
   "metadata": {},
   "source": [
    "Definimos la función objetivo a minimizar:"
   ]
  },
  {
   "cell_type": "code",
   "execution_count": null,
   "metadata": {},
   "outputs": [],
   "source": [
    "m.setObjective(x.prod(c, '*'), GRB.MINIMIZE)"
   ]
  },
  {
   "cell_type": "markdown",
   "metadata": {},
   "source": [
    "Definimos las restricciones del modelo:\n",
    "\n",
    "1. Restricciones de grado"
   ]
  },
  {
   "cell_type": "code",
   "execution_count": null,
   "metadata": {},
   "outputs": [],
   "source": [
    "# Arcos salientes de r\n",
    "m.addConstr(x.sum(r,'*')  == 1, \"grado_r\")\n",
    "\n",
    "# Arcos entrantes a s\n",
    "m.addConstr(x.sum('*', s)  == 1, \"grado_s\")\n",
    "\n",
    "# Restricciones de grado saliente\n",
    "m.addConstrs(\n",
    "    (x.sum(i,'*')  <= 1 for i in Vi), \"grado\")\n",
    "\n",
    "# Balance de grados en los nodos distintos a r y s\n",
    "m.addConstrs(\n",
    "    (x.sum('*',i) - x.sum(i,'*')  == 0 for i in Vi), \"balance\")"
   ]
  },
  {
   "cell_type": "markdown",
   "metadata": {},
   "source": [
    "2. Restricciones de tiempo de visita en los nodos:"
   ]
  },
  {
   "cell_type": "code",
   "execution_count": null,
   "metadata": {},
   "outputs": [],
   "source": [
    "# Tj >= Ti + tij si el arco (i,j) forma parte del camino:\n",
    "m.addConstrs((T[j] >= T[i] + t[i,j] - M*(1 - x[i,j]) for (i,j) in A), \"tiempos_visita\")\n"
   ]
  },
  {
   "cell_type": "markdown",
   "metadata": {},
   "source": [
    "Resolvemos el modelo y mostramos la solución. Notar que los valores de las variables pueden recuperarse también empleando el método `getAttr`:"
   ]
  },
  {
   "cell_type": "code",
   "execution_count": null,
   "metadata": {},
   "outputs": [],
   "source": [
    "# Resolver el modelo\n",
    "m.optimize()\n",
    "\n",
    "# Escribir la solución\n",
    "if m.SolCount > 0:\n",
    "    # Recuperar los valores de las variables\n",
    "    vx = m.getAttr('x', x)    \n",
    "    vT = m.getAttr('x', T)\n",
    "    print('T[{}]={}'.format(r, vT[r]))\n",
    "    print('Arcos seleccionados:')\n",
    "    for i,j in A:\n",
    "        if vx[i,j] >= 0.99:\n",
    "            print('{0} -> {1}; T[{1}]={2}'.format(i, j, vT[j] ))\n",
    "    print(\"Costo: {}\".format(m.objval))"
   ]
  },
  {
   "cell_type": "markdown",
   "metadata": {},
   "source": [
    "Finalmente, grafiquemos la solución empleando `networkx` y `matplotlib`:"
   ]
  },
  {
   "cell_type": "code",
   "execution_count": null,
   "metadata": {},
   "outputs": [],
   "source": [
    "import networkx as nx\n",
    "import matplotlib.pyplot as plt\n",
    "D = nx.DiGraph()\n",
    "D.add_nodes_from(V)\n",
    "node_labels= {i : '{}\\n[{};{}]'.format(i, a[i], b[i]) for i in V}\n",
    "# arcos en la solución:\n",
    "Asol = [(i,j) for (i,j) in A if vx[i,j]>= 0.9]\n",
    "# arcos fuera de la solución:\n",
    "Aresto = [(i,j) for (i,j) in A if vx[i,j]<= 0.1]\n",
    "edge_labels = {(i,j) : str(c[i,j]) + ',' + str(t[i,j]) for (i,j) in A}\n",
    "plt.figure(figsize=(12,4))\n",
    "pos = {1 : (1,1), 2 : (1,2), 3 : (2,1), 4 : (2,2), 5 : (3,1), 6:(3,2), 7 : (4,1), 8 : (4,2)}\n",
    "nx.draw_networkx(D, pos, labels= node_labels, node_color='cyan', node_size=1200)\n",
    "nx.draw_networkx_edges(D, pos, edgelist=Asol,width=1.5,edge_color=\"red\", min_target_margin=18) \n",
    "nx.draw_networkx_edges(D, pos, edgelist=Aresto,width=1,edge_color=\"black\", min_target_margin=18) \n",
    "nx.draw_networkx_edge_labels(D, pos, edge_labels)\n",
    "plt.show()"
   ]
  },
  {
   "cell_type": "markdown",
   "metadata": {},
   "source": [
    "## Código completo\n",
    "\n",
    "Se reproduce a continuación el código completo del modelo anterior."
   ]
  },
  {
   "cell_type": "code",
   "execution_count": null,
   "metadata": {},
   "outputs": [],
   "source": [
    "# Implementación de modelos de programación lineal entera\n",
    "# Problema de caminos más cortos con ventanas de tiempo\n",
    "# (shortest paths with time windows)\n",
    "# Luis M. Torres (EPN 2022)\n",
    "\n",
    "import gurobipy as gp\n",
    "import random as rd\n",
    "from gurobipy import GRB\n",
    "import networkx as nx\n",
    "import matplotlib.pyplot as plt\n",
    "\n",
    "# Número de nodos\n",
    "n = 200\n",
    "\n",
    "# Probabilidad de existencia de arcos\n",
    "p = 0.7\n",
    "\n",
    "\n",
    "# --- los valores a partir de aquí se calculan automáticamente ---\n",
    "\n",
    "# Nodos de salida y llegada\n",
    "r, s = 1, n\n",
    "\n",
    "# Conjunto de nodos\n",
    "V = gp.tuplelist(i+1 for i in range(n))\n",
    "\n",
    "# Conjunto de arcos\n",
    "A = gp.tuplelist((i,j) for i in V for j in V if i!=j and rd.random()<=p)\n",
    "\n",
    "# agregamos arco (r,s) para garantizar que exista al menos un camino de r a s\n",
    "if (r,s) not in A:\n",
    "    A.append((r,s))\n",
    "\n",
    "# Costos c_ij = | j - i|\n",
    "c = gp.tupledict({(i,j) : abs(j-i) for (i,j) in A})\n",
    "\n",
    "# poner un costo alto en el arco de r a s\n",
    "c[r,s] = 1000\n",
    "\n",
    "t = gp.tupledict({(i,j) : rd.randint(1, 3) for (i,j) in A})\n",
    "\n",
    "k = n/5\n",
    "a = dict()\n",
    "b = dict()\n",
    "for i in V:\n",
    "    if i <= k:\n",
    "        a[i], b[i]= 0, 6\n",
    "    elif i <= 2*k:\n",
    "        a[i], b[i]= 3, 9\n",
    "    elif i <= 3*k:\n",
    "        a[i], b[i]= 6, 12\n",
    "    elif i <= 4*k:\n",
    "        a[i], b[i]= 9, 15\n",
    "    else:\n",
    "        a[i], b[i]= 12, 18\n",
    "    \n",
    "# Constante suficientemente grande:\n",
    "M = gp.quicksum([t[i,j] for (i,j) in A]) + gp.quicksum(b[i] for i in V)\n",
    "\n",
    "# nodos internos: Vi := V \\ {s, t}\n",
    "Vi = gp.tuplelist([i for i in V if i!=r and i!=s])\n",
    "try:\n",
    "    # Crear el objeto modelo\n",
    "    m = gp.Model('shortest-path-time-windows')\n",
    "\n",
    "    # Crear las variables de selección de arcos\n",
    "    x = m.addVars(A, name=\"x\", vtype=GRB.BINARY)\n",
    "\n",
    "    # Crear las variables de tiempo de visita en los nodos\n",
    "    # Las restricciones de ventanas de tiempo se representan como cotas de las variables\n",
    "    T = m.addVars(V, name=\"T\", lb=a, ub=b)\n",
    "\n",
    "    # Definir la función objetivo\n",
    "    m.setObjective(x.prod(c, '*'), GRB.MINIMIZE)\n",
    "\n",
    "    # Arcos salientes de r\n",
    "    m.addConstr(x.sum(r,'*')  == 1, \"grado_r\")\n",
    "\n",
    "    # Arcos entrantes a s\n",
    "    m.addConstr(x.sum('*', s)  == 1, \"grado_s\")\n",
    "\n",
    "    # Restricciones de grado saliente\n",
    "    m.addConstrs(\n",
    "        (x.sum(i,'*')  <= 1 for i in Vi), \"grado\")\n",
    "\n",
    "    # Balance de grados en los nodos distintos a r y s\n",
    "    m.addConstrs(\n",
    "        (x.sum('*',i) - x.sum(i,'*')  == 0 for i in Vi), \"balance\")\n",
    "\n",
    "    # Tj >= Ti + tij si el arco (i,j) forma parte del camino:\n",
    "    m.addConstrs((T[j] >= T[i] + t[i,j] - M*(1 - x[i,j]) for (i,j) in A), \"tiempos_visita\")\n",
    "\n",
    "    # Permitir un tiempo límite de cálculo de 3 mins\n",
    "    m.Params.TimeLimit = 180\n",
    "    \n",
    "    # Calcular la solución óptima\n",
    "    m.optimize()\n",
    "\n",
    "    # Escribir y dibujar la solución\n",
    "    if m.SolCount > 0:\n",
    "        # Recuperar los valores de las variables\n",
    "        vx = m.getAttr('x', x)    \n",
    "        vT = m.getAttr('x', T)\n",
    "        print('T[{}]={}'.format(r, vT[r]))\n",
    "        print('Arcos seleccionados:')\n",
    "        for i,j in A:\n",
    "            if vx[i,j] >= 0.99:\n",
    "                print('{0} -> {1}; T[{1}]={2}'.format(i, j, vT[j] ))\n",
    "        print(\"Costo: {}\".format(m.objval))   \n",
    "        \n",
    "except GurobiError as e:\n",
    "    print('Se produjo un error de Gurobi: codigo: ' + str(e.errno) + \": \" + str(e))\n",
    "\n",
    "except AttributeError:\n",
    "    print('Se produjo un error de atributo')"
   ]
  },
  {
   "cell_type": "code",
   "execution_count": null,
   "metadata": {},
   "outputs": [],
   "source": []
  }
 ],
 "metadata": {
  "kernelspec": {
   "display_name": "Python 3 (ipykernel)",
   "language": "python",
   "name": "python3"
  },
  "language_info": {
   "codemirror_mode": {
    "name": "ipython",
    "version": 3
   },
   "file_extension": ".py",
   "mimetype": "text/x-python",
   "name": "python",
   "nbconvert_exporter": "python",
   "pygments_lexer": "ipython3",
   "version": "3.9.6"
  }
 },
 "nbformat": 4,
 "nbformat_minor": 2
}
