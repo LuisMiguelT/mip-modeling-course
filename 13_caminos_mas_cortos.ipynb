{
 "cells": [
  {
   "cell_type": "markdown",
   "metadata": {},
   "source": [
    "# Cuaderno 13: Problemas de caminos más cortos \n",
    "# (shortest path problems)\n",
    "\n",
    "$\\newcommand{\\card}[1]{\\left| #1 \\right|}$\n",
    "$\\newcommand{\\tabulatedset}[1]{\\left\\{ #1 \\right\\}}$\n",
    "$\\newcommand{\\ZZ}{\\mathbb{Z}}$\n",
    "$\\newcommand{\\RR}{\\mathbb{R}}$\n",
    "\n",
    "Dados: \n",
    "* un grafo dirigido $D=(V,A)$; \n",
    "* un vector de costos $c \\in \\ZZ^{A}$  asociados a los arcos de $D$; \n",
    "* un nodo de salida $r$; y,\n",
    "* un nodo de llegada $s$.\n",
    "\n",
    "El *problema del camino más corto (shortest path problem, SPP)* consiste en encontrar un camino desde $r$ hasta $s$ cuyo costo sea mínimo. El costo de un camino se calcula sumando de los costos de sus arcos.\n",
    "\n",
    "Suponer que $D$ no contiene circuitos de costo negativo. Utilizando variables binarias $x_{ij}$ para indicar si los arcos de $A$ son seleccionados o no para formar parte del camino, este problema puede formularse como el siguiente programa lineal entero:\n",
    "\n",
    "\\begin{align*}\n",
    "\\min &\\sum_{(i,j) \\in A} c_{ij} x_{ij}\\\\ \n",
    "& \\mbox{s.r.}\\\\\n",
    "&\\sum_{(r, i) \\in A} x_{ri} = 1,\\\\\n",
    "&\\sum_{(i, s) \\in A} x_{is} = 1,\\\\\n",
    "    &\\sum_{(i, j) \\in A} x_{ij} \\leq 1, \\quad \\forall i \\in V,\\\\\n",
    "& \\sum_{(j, i) \\in A} x_{ji} - \\sum_{(i, j) \\in A} x_{ij} = 0, \\quad \\forall i \\in V \\setminus \\tabulatedset{r,s},\\\\\n",
    "& x_{ij} \\in \\tabulatedset{0, 1}, \\quad \\forall (i, j) \\in A.\n",
    "\\end{align*}\n",
    "\n",
    "La función objetivo mide la suma de los costos de los arcos seleccionados.\n",
    "\n",
    "La primera restricción especifica que debe seleccionarse exactamente un arco saliente del nodo $r$. \n",
    "\n",
    "De manera similar, la segunda restricción indica que debe seleccionarse exactamente un arco entrante a $s$.\n",
    "\n",
    "La tercera familia de restricciones determina que de cualquier nodo del grafo puede seleccionarse máximo un arco saliente.\n",
    "\n",
    "Por último, la cuarta familia de restricciones requiere que la cantidad de arcos entrantes a un nodo $i \\in V \\setminus \\tabulatedset{r,s}$ que sean seleccionados dentro de la solución debe coincidir con la cantidad de arcos salientes del mismo nodo.\n",
    "\n",
    "Notar que todo camino de $r$ a $s$ satisface las cuatro restricciones del modelo. Por otra parte, existen otras clases de grafos que satisfacen estas restricciones. (Pensar en algún ejemplo.) Sin embargo, puede demostrarse que si $D$ no contiene *circuitos de costo negativo* entonces la solución óptima del modelo corresponde al camino de costo mínimo de $r$ a $s$.\n",
    "\n",
    "Vamos a implementar este modelo usando la interfaz Python de Gurobi.\n",
    "\n"
   ]
  },
  {
   "cell_type": "markdown",
   "metadata": {},
   "source": [
    "Definimos primero los conjuntos y parámetros del modelo:"
   ]
  },
  {
   "cell_type": "code",
   "execution_count": null,
   "metadata": {},
   "outputs": [],
   "source": [
    "import gurobipy as gp\n",
    "from gurobipy import GRB\n",
    "\n",
    "# Nodos del grafo\n",
    "V = gp.tuplelist(range(1,7))\n",
    "\n",
    "# Arcos y sus costos \n",
    "A, c = gp.multidict({\n",
    "  (1, 2):  3,\n",
    "  (1, 3):  20,\n",
    "  (2, 3):  10,\n",
    "  (2, 4):  5,\n",
    "  (4, 3):  2,\n",
    "  (3, 5):  2,\n",
    "  (4, 5):  5,\n",
    "  (4, 6):  5,\n",
    "  (5, 6):  2})\n",
    "\n",
    "# Nodo de salida\n",
    "r = 1\n",
    "\n",
    "# Nodo de llegada\n",
    "s = 6\n",
    "\n",
    "# --- los valores a partir de aquí se calculan automáticamente ---\n",
    "# nodos internos: Vi := V \\ {s, t}\n",
    "Vi = gp.tuplelist([i for i in V if i!=r and i!=s])"
   ]
  },
  {
   "cell_type": "markdown",
   "metadata": {},
   "source": [
    "La siguiente celda utiliza los módulos `NetworkX` y `matplotlib` para graficar esta instancia:"
   ]
  },
  {
   "cell_type": "code",
   "execution_count": null,
   "metadata": {
    "scrolled": true
   },
   "outputs": [],
   "source": [
    "import networkx as nx\n",
    "import matplotlib.pyplot as plt\n",
    "D = nx.DiGraph()\n",
    "D.add_nodes_from(V)\n",
    "node_labels= {i : str(i) for i in V}\n",
    "D.add_edges_from(A)\n",
    "edge_labels = {(i,j) : str(c[i,j]) for (i,j) in A}\n",
    "plt.figure(figsize=(10,5))\n",
    "pos = {1 : (1,2), 2 : (2,3), 3 : (2,1), 4 : (3,3), 5 : (3,1), 6:(4,2)}\n",
    "nx.draw_networkx(D, pos, labels= node_labels, node_color='cyan', node_size=500)\n",
    "nx.draw_networkx_edge_labels(D, pos, edge_labels)\n",
    "plt.show()\n"
   ]
  },
  {
   "cell_type": "markdown",
   "metadata": {},
   "source": [
    "Creamos ahora el objeto modelo y las variables de binarias de selección de arcos $x_{ij}$. Observar que las variables están indexadas por los conjuntos de arcos."
   ]
  },
  {
   "cell_type": "code",
   "execution_count": null,
   "metadata": {},
   "outputs": [],
   "source": [
    "# Crear el objeto modelo\n",
    "m = gp.Model('shortest-path')\n",
    "\n",
    "# Crear las variables\n",
    "x = m.addVars(A, name=\"x\", vtype=GRB.BINARY)"
   ]
  },
  {
   "cell_type": "markdown",
   "metadata": {},
   "source": [
    "Definimos la función objetivo a minimizar:"
   ]
  },
  {
   "cell_type": "code",
   "execution_count": null,
   "metadata": {},
   "outputs": [],
   "source": [
    "m.setObjective(x.prod(c, '*'), GRB.MINIMIZE)"
   ]
  },
  {
   "cell_type": "markdown",
   "metadata": {},
   "source": [
    "Definimos las restricciones del modelo:"
   ]
  },
  {
   "cell_type": "code",
   "execution_count": null,
   "metadata": {},
   "outputs": [],
   "source": [
    "# Seleccionar un arco saliente de r\n",
    "m.addConstr(x.sum(r,'*')  == 1, \"grado_r\")\n",
    "\n",
    "# Seleccionar un arco entrante a s\n",
    "m.addConstr(x.sum('*', s)  == 1, \"grado_s\")\n",
    "\n",
    "# En cada nodo se selecciona máximo un arco saliente\n",
    "m.addConstrs(\n",
    "    (x.sum(i,'*') <= 1 for i in V), \"grado_saliente\")\n",
    "\n",
    "# Balance de grados en los demás nodos\n",
    "m.addConstrs(\n",
    "    (x.sum('*',i) - x.sum(i,'*')  == 0 for i in Vi), \"balance\")"
   ]
  },
  {
   "cell_type": "markdown",
   "metadata": {},
   "source": [
    "Finalmente, resolvemos el modelo y mostramos la solución. Notar que los valores de las variables pueden recuperarse también empleando el método `getAttr`:"
   ]
  },
  {
   "cell_type": "code",
   "execution_count": null,
   "metadata": {},
   "outputs": [],
   "source": [
    "# Resolver el modelo\n",
    "m.optimize()\n",
    "\n",
    "# Escribir la solución\n",
    "if m.SolCount > 0:\n",
    "    # Recuperar los valores de las variables\n",
    "    vx = m.getAttr('x', x)\n",
    "    print('Arcos seleccionados:')\n",
    "    for i,j in A:\n",
    "        if vx[i,j] >= 0.99:\n",
    "            print('{} -> {}'.format(i, j))"
   ]
  },
  {
   "cell_type": "markdown",
   "metadata": {},
   "source": [
    "En la siguiente celda graficamos la solución empleando `networkx` y `matplotlib`:"
   ]
  },
  {
   "cell_type": "code",
   "execution_count": null,
   "metadata": {},
   "outputs": [],
   "source": [
    "D = nx.DiGraph()\n",
    "D.add_nodes_from(V)\n",
    "node_labels= {i : str(i) for i in V}\n",
    "D.add_edges_from(A)\n",
    "edge_labels = {(i,j) : str(c[i,j]) for (i,j) in A}\n",
    "plt.figure(figsize=(10,5))\n",
    "pos = {1 : (1,2), 2 : (2,3), 3 : (2,1), 4 : (3,3), 5 : (3,1), 6:(4,2)}\n",
    "edge_colors = ['#ff007f' if vx[i,j]>=0.1 else '#9dbaea' for (i,j) in list(D.edges())]\n",
    "nx.draw_networkx(D, pos, labels= node_labels, node_color='cyan', node_size=500, edge_color= edge_colors)\n",
    "nx.draw_networkx_edge_labels(D, pos, edge_labels)\n",
    "plt.show()"
   ]
  },
  {
   "cell_type": "markdown",
   "metadata": {},
   "source": [
    "## Código completo\n",
    "\n",
    "Se reproduce a continuación el código completo del modelo anterior."
   ]
  },
  {
   "cell_type": "code",
   "execution_count": null,
   "metadata": {},
   "outputs": [],
   "source": [
    "# Implementación de modelos de programación lineal entera\n",
    "# Problema de caminos más cortos (shortest path problem, SPP)\n",
    "# Luis M. Torres (EPN 2025)\n",
    "\n",
    "import random as rd\n",
    "import gurobipy as gp\n",
    "from gurobipy import GRB\n",
    "\n",
    "# Número de nodos del grafo\n",
    "n = 100\n",
    "\n",
    "# Probabilidad de arcos\n",
    "p = 0.1\n",
    "\n",
    "# Valores (enteros) mínimos y máximo de costos para cada arco \n",
    "c_min, c_max = 1, 10\n",
    "\n",
    "# --- los valores a partir de aquí se calculan automáticamente ---\n",
    "\n",
    "# Conjunto de nodos del grafo\n",
    "V = gp.tuplelist(range(1,n+1))\n",
    "\n",
    "# Agregar el camino P0 = (1, 2, 3,..., n) para tener al menos una solución factible\n",
    "A = [(i,i+1) for i in V if i!=n]\n",
    "\n",
    "# Agregar los demás arcos con probabilidad p\n",
    "A+= [(i, j) for i in V for j in V if j not in [i, i+1] and rd.random()<=p]\n",
    "\n",
    "# Definir costos aleatorios sobre los arcos, en el rango {c_min,...,c_max}\n",
    "c = {(i,j) : rd.randint(c_min, c_max) for (i,j) in A}\n",
    "\n",
    "# Fijar costos máximos sobre P0\n",
    "for i in V[:-1]:\n",
    "    c[i,i+1] = c_max\n",
    "\n",
    "# Nodo de salida\n",
    "r = 1\n",
    "\n",
    "# Nodo de llegada\n",
    "s = n\n",
    "\n",
    "# nodos internos: Vi := V \\ {s, t}\n",
    "Vi = gp.tuplelist([i for i in V if i!=r and i!=s])\n",
    "\n",
    "try:\n",
    "    # Crear el objeto modelo\n",
    "    m = gp.Model('shortest-path')\n",
    "\n",
    "    # Crear las variables\n",
    "    x = m.addVars(A, name=\"x\", vtype=GRB.BINARY)\n",
    "\n",
    "    # Definir la función objetivo\n",
    "    m.setObjective(x.prod(c, '*'), GRB.MINIMIZE)\n",
    "\n",
    "    # Seleccionar un arco saliente de r\n",
    "    m.addConstr(x.sum(r,'*')  == 1, \"grado_r\")\n",
    "\n",
    "    # Seleccionar un arco entrante a s\n",
    "    m.addConstr(x.sum('*', s)  == 1, \"grado_s\")\n",
    "\n",
    "    # En cada nodo se selecciona máximo un arco saliente\n",
    "    m.addConstrs(\n",
    "        (x.sum(i,'*') <= 1 for i in V), \"grado_saliente\")\n",
    "    # Balance de grados en los demás nodos\n",
    "    m.addConstrs(\n",
    "        (x.sum('*',i) - x.sum(i,'*')  == 0 for i in Vi), \"balance\")\n",
    "    \n",
    "    # Resolver el modelo\n",
    "    m.optimize()\n",
    "\n",
    "    # Escribir la solución\n",
    "    if m.SolCount > 0:\n",
    "        # Recuperar los valores de las variables\n",
    "        vx = m.getAttr('x', x)\n",
    "        print('Arcos seleccionados:')\n",
    "        for i,j in A:\n",
    "            if vx[i,j] > 0:\n",
    "                print('{} -> {}'.format(i, j))\n",
    "            \n",
    "except GurobiError as e:\n",
    "    print('Se produjo un error de Gurobi: codigo: ' + str(e.errno) + \": \" + str(e))\n",
    "\n",
    "except AttributeError:\n",
    "    print('Se produjo un error de atributo')"
   ]
  },
  {
   "cell_type": "code",
   "execution_count": null,
   "metadata": {},
   "outputs": [],
   "source": [
    "m.write('caminos.lp')"
   ]
  },
  {
   "cell_type": "code",
   "execution_count": null,
   "metadata": {},
   "outputs": [],
   "source": []
  }
 ],
 "metadata": {
  "kernelspec": {
   "display_name": "Python 3 (ipykernel)",
   "language": "python",
   "name": "python3"
  },
  "language_info": {
   "codemirror_mode": {
    "name": "ipython",
    "version": 3
   },
   "file_extension": ".py",
   "mimetype": "text/x-python",
   "name": "python",
   "nbconvert_exporter": "python",
   "pygments_lexer": "ipython3",
   "version": "3.9.6"
  }
 },
 "nbformat": 4,
 "nbformat_minor": 2
}
