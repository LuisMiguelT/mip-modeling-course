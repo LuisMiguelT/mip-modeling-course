{
 "cells": [
  {
   "cell_type": "markdown",
   "metadata": {},
   "source": [
    "# Cuaderno 30: Parámetros para generación de planos cortantes\n",
    "\n",
    "$\\newcommand{\\card}[1]{\\left| #1 \\right|}$\n",
    "$\\newcommand{\\tabulatedset}[1]{\\left\\{ #1 \\right\\}}$\n",
    "$\\newcommand{\\ZZ}{\\mathbb{Z}}$\n",
    "$\\newcommand{\\RR}{\\mathbb{R}}$\n",
    "\n",
    "En este cuaderno revisitaremos la formulación MTZ del problema del agente viajero asimétrico para explorar cómo los parámetros de configuración del solver Gurobi pueden ser usados para mejorar el desempeño del método de branch-and-cut.\n",
    "\n",
    "Dados: \n",
    "* un grafo dirigido **completo** $D=(V,A)$, con $V=\\{1, \\ldots, n\\}$; y,\n",
    "* un vector $c \\in \\ZZ^{A}$ de costos asociados a los arcos de $D$.\n",
    "\n",
    "El *problema del agente viajero asimétrico (Asymmetric Traveling Salesman Problem, ATSP)* consiste en encontrar un circuito dirigido que visite **todos** los nodos de $D$ y que tenga el menor costo posible.\n",
    "\n",
    "En el Cuaderno 16 presentamos la formulación compacta de [C.E.Miller, A.W.Tucker y R.A.Zemlin (MTZ, 1960)](https://dl.acm.org/doi/abs/10.1145/321043.321046?casa_token=wS9ir40FaVQAAAAA%3AREqLlEQWddvpSw0sEq2toPwlctyB4Tfa2O2aUHj3WqIfPlXESLWYFByDmy1UWEqcdIFZG6RibRhLXw) para el ATSP, la cual consiste en introducir variables auxiliares de ordenamiento $u_i$ para los nodos $i \\in V \\setminus \\{ 1 \\}$, y no requiere un número exponencial de restricciones:\n",
    "\n",
    "\\begin{align*}\n",
    "\\min &\\sum_{(i,j) \\in A} c_{ij} x_{ij}\\\\ \n",
    "& \\mbox{s.r.}\\\\\n",
    "&\\sum_{(j, i) \\in A} x_{ji} = 1, \\quad \\forall i \\in V,\\\\\n",
    "&\\sum_{(i, j) \\in A} x_{ij} = 1, \\quad \\forall i \\in V,\\\\ \n",
    "& u_j \\geq u_i + (1 + n) x_{ij} - n, \\quad\\forall (i,j) \\in A, i \\neq 1, j \\neq 1, \\\\\n",
    "& x_{ij} \\in \\{0, 1\\}, \\quad \\forall (i, j) \\in A,\\\\\n",
    "& u_i \\in \\{2, \\ldots, n \\} \\quad \\forall i \\in V \\setminus \\{1\\}.\\\\\n",
    "\\end{align*}\n",
    "\n",
    "La función objetivo mide el costo total de los arcos seleccionados en el tour.\n",
    "\n",
    "Las dos primeras familias de restricciones corresponden a las restricciones de grado de los nodos.\n",
    "\n",
    "La tercera familia de restricciones requiere que, para cualquier arco $(i,j)$ cuyos dos extremos sean distintos al nodo $1$, si el arco es seleccionado dentro de la solución, entonces debe cumplirse que $u_j \\geq u_i + 1$. Notar que de esta manera se evitan soluciones que incluyan ciclos que no contienen al nodo 1. Como resultado, se eliminan soluciones con subtoures, empleando únicamente $m -2n +2$ restricciones, donde $m=n(n-1)$ es el número de arcos en el grafo.\n",
    "\n",
    "Esta formulación tiene como ventaja que nos permite abordar instancias de mayor tamaño, con respecto a la formulación con desigualdades de eliminación de subciclos (sin emplear desigualdades tipo lazy). Sin embargo, su desventaja principal radica en el hecho de que las cotas duales son débiles, lo que empeora el desempeño del método de branch-and-bound. En este cuaderno, exploraremos alternativas de configuración de Gurobi para intensificar el uso de planos cortantes con el propósito de mejorar estas cotas.\n"
   ]
  },
  {
   "cell_type": "markdown",
   "metadata": {},
   "source": [
    "Definimos primero los datos. Usaremos la función `randint` para generar puntos con coordenadas aleatorias en el rango {0,..,100}. El costo de un arco $(i,j)$ será igual a la distancia euclideana entre $i$ y $j$:"
   ]
  },
  {
   "cell_type": "code",
   "execution_count": null,
   "metadata": {},
   "outputs": [],
   "source": [
    "from gurobipy import *\n",
    "import random as rm\n",
    "import math \n",
    "\n",
    "# Numero de nodos del grafo\n",
    "n = 100\n",
    "\n",
    "# Nodos del grafo\n",
    "V = tuplelist(range(1,n+1))\n",
    "\n",
    "# Nodos sin el primero\n",
    "V2 = V[1:]\n",
    "\n",
    "# Posiciones de los nodos en un plano euclideano entre (0,0) y (100, 100)\n",
    "coordx={i : rm.randint(0,100) for i in V}\n",
    "coordy={i : rm.randint(0,100) for i in V}\n",
    "\n",
    "# los costos son las distancias eculideanas\n",
    "c = tupledict({\n",
    "    (i,j) : math.sqrt((coordx[i] - coordx[j])**2 + (coordy[i] - coordy[j])**2)\n",
    "    for i in V for j in V if i!=j\n",
    "})\n",
    " \n",
    "A = c.keys()\n"
   ]
  },
  {
   "cell_type": "markdown",
   "metadata": {},
   "source": [
    "Emplearemos el módulo `matplotlib` para graficar el tour de la solución. Definiremos para ello la función `dibujarTour` que recibe tres argumentos: una lista `coordx` con las coordenadas horizontales de los nodos, una lista `coordy` con las coordenadas verticales y un vector `tour` con una permutación de los nodos indicando el orden de visita en la solución."
   ]
  },
  {
   "cell_type": "code",
   "execution_count": null,
   "metadata": {},
   "outputs": [],
   "source": [
    "import matplotlib.pyplot as plt\n",
    "import random\n",
    "\n",
    "def dibujarTour(coordx, coordy, tour):\n",
    "    Tx = [coordx[i] for i in tour]\n",
    "    Ty = [coordy[i] for i in tour]\n",
    "    plt.plot(Tx[:-1], Ty[:-1], 'ro')\n",
    "    for i in range(len(tour)-1):\n",
    "        s='{}'.format(tour[i])\n",
    "        plt.text(Tx[i],Ty[i]+1,s)\n",
    "        plt.arrow(Tx[i], Ty[i], Tx[i+1]-Tx[i], Ty[i+1]-Ty[i], color='blue', \n",
    "                  length_includes_head=True, width=0.1, head_width=2)\n",
    "    display(plt.show())\n"
   ]
  },
  {
   "cell_type": "markdown",
   "metadata": {},
   "source": [
    "Definimos ahora el objeto modelo, las variables, la función objetivo y las restricciones. "
   ]
  },
  {
   "cell_type": "code",
   "execution_count": null,
   "metadata": {},
   "outputs": [],
   "source": [
    "# Objeto modelo\n",
    "m = Model('atsp-compacto')\n",
    "\n",
    "# Variables de selección de arcos\n",
    "x = m.addVars(A, name=\"x\", vtype=GRB.BINARY)\n",
    "\n",
    "# Variables de ordenamiento de nodos\n",
    "u = m.addVars(V2, name=\"u\", vtype=GRB.INTEGER, lb=2, ub=n)\n",
    "\n",
    "# Función objetivo\n",
    "m.setObjective(x.prod(c,'*'), GRB.MINIMIZE)\n",
    "\n",
    "# Restricciones de grado saliente\n",
    "m.addConstrs((x.sum(i,'*')  == 1 for i in V), \n",
    "                 \"g_saliente\")\n",
    "    \n",
    "# Restricciones de grado entrante\n",
    "m.addConstrs((x.sum('*', i)  == 1 for i in V), \n",
    "                 \"g_entrante\")\n",
    "\n",
    "# Restricciones de ordenamiento de nodos\n",
    "m.addConstrs((u[j]  >= u[i] + (1 + n)*x[i,j] - n \n",
    "              for i,j in A if i!=1 and j!=1), \"ordenamiento\");"
   ]
  },
  {
   "cell_type": "markdown",
   "metadata": {},
   "source": [
    "Establecemos un tiempo límite para la solución del modelo y una tolerancia para la brecha de optimalidad:"
   ]
  },
  {
   "cell_type": "code",
   "execution_count": null,
   "metadata": {},
   "outputs": [],
   "source": [
    "# Terminar al alcanzar un Gap del 1%\n",
    "m.Params.MIPGap = 0.01\n",
    "\n",
    "# Terminar luego de 180 segundos\n",
    "m.Params.TimeLimit = 180"
   ]
  },
  {
   "cell_type": "markdown",
   "metadata": {},
   "source": [
    "Finalmente, resolvemos el modelo."
   ]
  },
  {
   "cell_type": "code",
   "execution_count": null,
   "metadata": {},
   "outputs": [],
   "source": [
    "# Resolver el modelo\n",
    "m.optimize()\n"
   ]
  },
  {
   "cell_type": "markdown",
   "metadata": {},
   "source": [
    "## Parámetros de Gurobi\n",
    "\n",
    "El comportamiento de los algoritmos de solución implementados en Gurobi puede ser controlado a través de distintos *parámetros*. Para asignar valores a estos parámetros existen distintos métodos equivalentes. En el API Python puede accederse, por ejemplo, al atributo `Params` del objeto modelo, tal como lo hemos hecho para fijar la toleracia para la brecha de optimalidad (parámetro [`MIPGap`](https://www.gurobi.com/documentation/10.0/refman/mipgap2.html)) y el tiempo límite para le ejecución del modelo (parámetro [`TimeLimit`](https://www.gurobi.com/documentation/10.0/refman/timelimit.html)).\n",
    "\n",
    "Una [lista completa de todos los parámetros](https://www.gurobi.com/documentation/10.0/refman/parameter_descriptions.html) está disponible a través del manual de referencia del solver.\n",
    "\n",
    "### MIPFocus\n",
    "\n",
    "El parámetro [`MIPFocus`](https://www.gurobi.com/documentation/10.0/refman/mipfocus.html) controla estrategia general de solución del método de branch-and-bound, entre otras cosas a través del balance entre el tiempo dedicado a la generación de cortes y a las heurísticas primales. Por defecto, este parámetro tiene el valor de 0, y puede recibir valores enteros entre 0 y 3.\n",
    "\n",
    "Asignando un valor de `MIPFocus = 3` se pide al solver enfocar su estrategia en la mejora de la cota dual a través de la generación de planos cortantes.\n",
    "\n",
    "Observar que antes de volver a correr un modelo, debemos llamar al método `reset()` para descartar la información de la solución anterior."
   ]
  },
  {
   "cell_type": "code",
   "execution_count": null,
   "metadata": {},
   "outputs": [],
   "source": [
    "# Eliminar información de solución anterior\n",
    "m.reset()\n",
    "\n",
    "# Enfocar estrategia en mejoramiento de la cota dual\n",
    "m.Params.MIPFocus = 3\n",
    "\n",
    "# Resolver el modelo\n",
    "m.optimize()"
   ]
  },
  {
   "cell_type": "markdown",
   "metadata": {},
   "source": [
    "Por otra parte, si tenemos razones para suponer que una solución disponible es (casi) óptima, podemos asignar el valor de `MIPFocus = 2`, para pedir a Gurobi enfocar su estrategia en probar la optimalidad."
   ]
  },
  {
   "cell_type": "code",
   "execution_count": null,
   "metadata": {},
   "outputs": [],
   "source": [
    "# Descartar información de solución anterior\n",
    "m.reset()\n",
    "\n",
    "# Enfocar estrategia en probar optimalidad\n",
    "m.Params.MIPFocus = 2\n",
    "\n",
    "# Resolver el modelo\n",
    "m.optimize()"
   ]
  },
  {
   "cell_type": "markdown",
   "metadata": {},
   "source": [
    "Es posible combinar varias estrategias en el proceso de solución de una instancia. Por ejemplo, supongamos que queremos resolver la instancia anterior con una brecha de optimalidad del 0.1%. Conocemos que fijando `MIPFocus=3` podemos obtener una brecha inferior al 1% en 180s, así que empezamos con este valor: "
   ]
  },
  {
   "cell_type": "code",
   "execution_count": null,
   "metadata": {},
   "outputs": [],
   "source": [
    "# Fijar brecha de optimalidad en 0.1%\n",
    "m.Params.MIPGap=0.001\n",
    "\n",
    "# Enfocar estrategia en mejorar la cota dual\n",
    "m.Params.MIPFocus = 3\n",
    "\n",
    "# Descartar información de solución anterior\n",
    "m.reset()\n",
    "\n",
    "# Resolver el modelo\n",
    "m.optimize()"
   ]
  },
  {
   "cell_type": "markdown",
   "metadata": {},
   "source": [
    "Ahora disponemos de una solución bastante cercana al óptimo. Cambiamos la estrategia del solver a probar optimalidad, y continuamos la solución (por 180s más)."
   ]
  },
  {
   "cell_type": "code",
   "execution_count": null,
   "metadata": {},
   "outputs": [],
   "source": [
    "# Cambiar a estrategia de probar optimalidad\n",
    "m.Params.MIPFocus = 2\n",
    "\n",
    "# Continuar solución del modelo\n",
    "m.optimize()"
   ]
  },
  {
   "cell_type": "markdown",
   "metadata": {},
   "source": [
    "Podemos graficar la solución encontrada:"
   ]
  },
  {
   "cell_type": "code",
   "execution_count": null,
   "metadata": {},
   "outputs": [],
   "source": [
    "# Crear lista con arcos seleccionados en la solucion\n",
    "vx = m.getAttr('x', x)\n",
    "L = tuplelist([(i,j) for i,j in A if vx[i,j]>0.1])\n",
    "\n",
    "# Recuperar el tour como un ordenamiento de los nodos\n",
    "T = [1]\n",
    "# nodo actual:\n",
    "i = 1\n",
    "while True:\n",
    "    # Determinar sucesor de i\n",
    "    a = L.select(i,'*')[0]\n",
    "    L.remove(a)\n",
    "    # Colocar sucesor en la lista del tour y actualizar i\n",
    "    T.append(a[1])\n",
    "    i = a[1]\n",
    "    # Terminar cuando el nodo colocado sea 1\n",
    "    if i==1: \n",
    "        break;\n",
    "        \n",
    "# Graficar el tour\n",
    "dibujarTour(coordx, coordy, T)    "
   ]
  },
  {
   "cell_type": "markdown",
   "metadata": {},
   "source": [
    "### Cuts\n",
    "\n",
    "El parámetro [`Cuts`](https://www.gurobi.com/documentation/10.0/refman/cuts.html) controla directamente la intensidad de la generación de planos de cortantes durante el proceso de solución. Este parámetro puede tomar valores enteros entre -1 y 3, con un valor por defecto de -1.\n",
    "\n",
    "Fijar `Cuts=0` desactiva la generación de planos cortantes. Fijar valores más altos hace que la generación sea más agresiva, es decir, que el solver intente agregar una mayor cantidad de planos cortantes."
   ]
  },
  {
   "cell_type": "code",
   "execution_count": null,
   "metadata": {},
   "outputs": [],
   "source": [
    "# Establecer nuevamente la brecha de tolerancia en 1%\n",
    "m.Params.MIPGap=0.01\n",
    "\n",
    "# Restablecer valor por defecto a MIPFocus\n",
    "m.Params.MIPFocus = 0\n",
    "\n",
    "# Fijar generación muy agresiva de cortes\n",
    "m.Params.Cuts = 3\n",
    "\n",
    "# Descartar información de la solución anterior\n",
    "m.reset()\n",
    "\n",
    "# Resolver el modelo\n",
    "m.optimize()\n"
   ]
  },
  {
   "cell_type": "markdown",
   "metadata": {},
   "source": [
    "También es posible controlar la intensidad de la generación de cada familia individual de cortes, a través de parámetros con nombres respectivos. Generalmente, estos parámetros enteros pueden recibir valores entre -1 y 2, con un valor por defecto de -1. Un valor de 0 desactiva la generación de cortes esa familia, un valor de 1 establece una generación de cortes moderada, y un valor de 2 una generación de cortes agresiva.\n",
    "\n",
    "Por ejemplo, podemos fijar la generación agresiva de cortes solamente para las familias `FlowCoverCuts`, `ZeroHalfCuts` y `RelaxLiftCuts` que son aquellas en las que se encontraron más planos cortantes durante las soluciones anteriores."
   ]
  },
  {
   "cell_type": "code",
   "execution_count": null,
   "metadata": {},
   "outputs": [],
   "source": [
    "# Fijar la generación de cortes global en su valor por defecto\n",
    "m.Params.Cuts = -1\n",
    "\n",
    "# Fijar generación agresiva de cortes tipo FlowCoverCuts\n",
    "m.Params.FlowCoverCuts = 2\n",
    "\n",
    "# Fijar generación agresiva de cortes tipo ZeroHalfCuts\n",
    "m.Params.ZeroHalfCuts = 2\n",
    "\n",
    "# Fijar generación agresiva de cortes tipo RelaxLiftCuts\n",
    "m.Params.RelaxLiftCuts = 2\n",
    "\n",
    "# Descartar información de solución anterior\n",
    "m.reset()\n",
    "\n",
    "# Resolver el modelo\n",
    "m.optimize()\n"
   ]
  },
  {
   "cell_type": "markdown",
   "metadata": {},
   "source": [
    "### LogFile\n",
    "\n",
    "A menudo es importante realizar varias corridas de un mismo modelo y guardar los registros de salida de Gurobi para poder compararlos luego. El parámetro [`LogFile`](https://www.gurobi.com/documentation/9.5/refman/logfile.html) permite especificar un nombre de archivo en donde se escribirá una copia de la salida de Gurobi.\n",
    "\n",
    "Vamos a enviar a un archivo la salida correspondiente a la combinación de parámetros que produjo los mejores resultados en las pruebas."
   ]
  },
  {
   "cell_type": "code",
   "execution_count": null,
   "metadata": {},
   "outputs": [],
   "source": [
    "# Fijar generación de cortes tipo FlowCoverCuts al valor por defecto\n",
    "m.Params.FlowCoverCuts = -1\n",
    "\n",
    "# Fijar generación de cortes tipo ZeroHalfCuts al valor por defecto\n",
    "m.Params.ZeroHalfCuts = -1\n",
    "\n",
    "# Fijar generación de cortes tipo RelaxLiftCuts al valor por defecto\n",
    "m.Params.RelaxLiftCuts = -1\n",
    "\n",
    "# Fijar estrategia en mejoramiento de la cota dual\n",
    "m.Params.MIPFocus = 3\n",
    "\n",
    "# Archivo de salida para el registro de Gurobi\n",
    "m.Params.LogFile = 'MTZ-ATSP-MIPFocus=3.log'\n",
    "\n",
    "# Descartar información de soluciones anteriores\n",
    "m.reset()\n",
    "\n",
    "# Resolver el modelo\n",
    "m.optimize()"
   ]
  },
  {
   "cell_type": "code",
   "execution_count": null,
   "metadata": {},
   "outputs": [],
   "source": []
  }
 ],
 "metadata": {
  "kernelspec": {
   "display_name": "Python 3 (ipykernel)",
   "language": "python",
   "name": "python3"
  },
  "language_info": {
   "codemirror_mode": {
    "name": "ipython",
    "version": 3
   },
   "file_extension": ".py",
   "mimetype": "text/x-python",
   "name": "python",
   "nbconvert_exporter": "python",
   "pygments_lexer": "ipython3",
   "version": "3.9.6"
  }
 },
 "nbformat": 4,
 "nbformat_minor": 2
}
